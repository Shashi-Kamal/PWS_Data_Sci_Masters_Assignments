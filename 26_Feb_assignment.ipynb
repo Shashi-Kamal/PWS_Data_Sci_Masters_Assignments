{
 "cells": [
  {
   "cell_type": "markdown",
   "id": "03427758-a7d8-474a-9989-c20c8b712928",
   "metadata": {
    "jp-MarkdownHeadingCollapsed": true,
    "tags": []
   },
   "source": [
    "## Consider the below code to answer further questions:\n",
    "\n",
    "```python\n",
    "import numpy as np\n",
    "list_ = [ ‘1’ , ’2’ , ‘3’ , ‘4’ , ‘5’ ]\n",
    "array_list = np.array(object = list_)\n",
    "```\n",
    "\n",
    "## Q1. Is there any difference in the data type of variables list_ and array_list? If there is then write a code to print the data types of both the variables."
   ]
  },
  {
   "cell_type": "code",
   "execution_count": 1,
   "id": "b90a5b47-443c-40fa-92cd-c60dfc82713c",
   "metadata": {
    "tags": []
   },
   "outputs": [],
   "source": [
    "import numpy as np"
   ]
  },
  {
   "cell_type": "code",
   "execution_count": 3,
   "id": "a5839792-3c25-4d6a-934d-9db697b6801b",
   "metadata": {
    "tags": []
   },
   "outputs": [],
   "source": [
    "list_ = ['1', '2', '3', '4', '5']"
   ]
  },
  {
   "cell_type": "code",
   "execution_count": 4,
   "id": "55374a94-b92f-4984-93bf-ddfbee00889a",
   "metadata": {
    "tags": []
   },
   "outputs": [],
   "source": [
    "array_list = np.array(object = list_)"
   ]
  },
  {
   "cell_type": "markdown",
   "id": "62db0173-eab3-49c3-822a-914b88e4c4f5",
   "metadata": {},
   "source": [
    "Yes, there is a difference in the data type of variables `list_` and `array_list`"
   ]
  },
  {
   "cell_type": "code",
   "execution_count": 5,
   "id": "6b817b00-bac7-41a9-9ebd-5ee98e8134b1",
   "metadata": {
    "tags": []
   },
   "outputs": [
    {
     "data": {
      "text/plain": [
       "list"
      ]
     },
     "execution_count": 5,
     "metadata": {},
     "output_type": "execute_result"
    }
   ],
   "source": [
    "type(list_)"
   ]
  },
  {
   "cell_type": "markdown",
   "id": "228e6861-9846-46f9-a596-84b99a722082",
   "metadata": {},
   "source": [
    "This is the Python's general list object."
   ]
  },
  {
   "cell_type": "code",
   "execution_count": 6,
   "id": "fde48489-d63e-4330-b5d7-b620040af76e",
   "metadata": {
    "tags": []
   },
   "outputs": [
    {
     "data": {
      "text/plain": [
       "numpy.ndarray"
      ]
     },
     "execution_count": 6,
     "metadata": {},
     "output_type": "execute_result"
    }
   ],
   "source": [
    "type(array_list)"
   ]
  },
  {
   "cell_type": "markdown",
   "id": "50f0c464-c647-44f1-8b07-ac9198607251",
   "metadata": {},
   "source": [
    "While this is the NumPy's array object."
   ]
  },
  {
   "cell_type": "markdown",
   "id": "61a6a0ae-6417-4787-9cd5-f7b2f6a4e5b0",
   "metadata": {
    "jp-MarkdownHeadingCollapsed": true,
    "tags": []
   },
   "source": [
    "## Q2. Write a code to print the data type of each and every element of both the variables list_ and array_list."
   ]
  },
  {
   "cell_type": "code",
   "execution_count": 8,
   "id": "b45142cd-77a1-4b9a-b869-1df02bd1f7fe",
   "metadata": {
    "tags": []
   },
   "outputs": [
    {
     "name": "stdout",
     "output_type": "stream",
     "text": [
      "<class 'str'>\n",
      "<class 'str'>\n",
      "<class 'str'>\n",
      "<class 'str'>\n",
      "<class 'str'>\n"
     ]
    }
   ],
   "source": [
    "# data type of each element in the var `list_`\n",
    "for element in list_:\n",
    "    print(type(element))"
   ]
  },
  {
   "cell_type": "markdown",
   "id": "337f7831-626f-4f06-9bc3-807456a27e7a",
   "metadata": {},
   "source": [
    "Data type of each element in the list_ is string."
   ]
  },
  {
   "cell_type": "code",
   "execution_count": 14,
   "id": "0270f2cb-9f1a-484a-af9c-75af258ae7de",
   "metadata": {
    "tags": []
   },
   "outputs": [
    {
     "name": "stdout",
     "output_type": "stream",
     "text": [
      "<U1\n"
     ]
    }
   ],
   "source": [
    "# data type of each element in the var `array_list`\n",
    "print(array_list.dtype)"
   ]
  },
  {
   "cell_type": "markdown",
   "id": "4e4a1de3-1eaa-40fd-87c0-d5aec3cd47bc",
   "metadata": {},
   "source": [
    "Data type of the elements in the array is Unicode string of length 1."
   ]
  },
  {
   "cell_type": "markdown",
   "id": "2843d1b2-b418-4a99-b586-ae93987737e1",
   "metadata": {
    "jp-MarkdownHeadingCollapsed": true,
    "tags": []
   },
   "source": [
    "## Q3. Considering the following changes in the variable, array_list:\n",
    "\n",
    "```python\n",
    "array_list = np.array(object = list_, dtype = int)\n",
    "```\n",
    "\n",
    "Will there be any difference in the data type of the elements present in both the variables, list_ and array_list? If so then print the data types of each and every element present in both the variables, list_ and array_list."
   ]
  },
  {
   "cell_type": "code",
   "execution_count": 15,
   "id": "b61ba8f8-ad12-45a8-a909-27e6a6d66e55",
   "metadata": {
    "tags": []
   },
   "outputs": [],
   "source": [
    "array_list = np.array(object = list_, dtype = int)"
   ]
  },
  {
   "cell_type": "code",
   "execution_count": 18,
   "id": "8cd94d54-0d3b-41fd-9152-68a3e0135a2f",
   "metadata": {
    "tags": []
   },
   "outputs": [
    {
     "name": "stdout",
     "output_type": "stream",
     "text": [
      "int32\n"
     ]
    }
   ],
   "source": [
    "print(array_list.dtype)"
   ]
  },
  {
   "cell_type": "code",
   "execution_count": 20,
   "id": "42859efc-721f-4845-8b81-39caa3986239",
   "metadata": {
    "tags": []
   },
   "outputs": [
    {
     "name": "stdout",
     "output_type": "stream",
     "text": [
      "<class 'str'>\n",
      "<class 'str'>\n",
      "<class 'str'>\n",
      "<class 'str'>\n",
      "<class 'str'>\n"
     ]
    }
   ],
   "source": [
    "for element in list_:\n",
    "    print(type(element))"
   ]
  },
  {
   "cell_type": "markdown",
   "id": "b41c2829-a370-43a9-937c-d3d1b93f0aab",
   "metadata": {},
   "source": [
    "As evident by the code above, since the `dtype` parameter of the `array()` is set to \"int\", the data type of each element of the variable `array_list` has been changed to `int32`.  While the data type of the elements of the variable `list_` remained the same as previous i.e. string."
   ]
  },
  {
   "cell_type": "markdown",
   "id": "466c5ecb-90c2-420f-a77b-741626cc5afb",
   "metadata": {
    "jp-MarkdownHeadingCollapsed": true,
    "tags": []
   },
   "source": [
    "## Consider the below code to answer further questions:\n",
    "```python\n",
    "import numpy as np\n",
    "num_list = [ [ 1 , 2 , 3 ] , [ 4 , 5 , 6 ] ]\n",
    "num_array = np.array(object = num_list)\n",
    "```\n",
    "\n",
    "## Q4. Write a code to find the following characteristics of variable, num_array:\n",
    "- (i) shape\n",
    "- (ii) size"
   ]
  },
  {
   "cell_type": "code",
   "execution_count": 21,
   "id": "edc4259e-ca67-4a05-93ea-bc534daffef6",
   "metadata": {
    "tags": []
   },
   "outputs": [],
   "source": [
    "num_list = [ [ 1 , 2 , 3 ] , [ 4 , 5 , 6 ] ]\n",
    "num_array = np.array(object = num_list)"
   ]
  },
  {
   "cell_type": "code",
   "execution_count": 22,
   "id": "c3c74775-0a63-4740-acf5-6ccfb4ab6e15",
   "metadata": {
    "tags": []
   },
   "outputs": [
    {
     "data": {
      "text/plain": [
       "array([[1, 2, 3],\n",
       "       [4, 5, 6]])"
      ]
     },
     "execution_count": 22,
     "metadata": {},
     "output_type": "execute_result"
    }
   ],
   "source": [
    "num_array"
   ]
  },
  {
   "cell_type": "code",
   "execution_count": 23,
   "id": "649a2832-3248-4539-a683-a40ba32a18d3",
   "metadata": {
    "tags": []
   },
   "outputs": [
    {
     "data": {
      "text/plain": [
       "(2, 3)"
      ]
     },
     "execution_count": 23,
     "metadata": {},
     "output_type": "execute_result"
    }
   ],
   "source": [
    "num_array.shape"
   ]
  },
  {
   "cell_type": "markdown",
   "id": "c6ad7df1-7c1c-44da-9990-52023f4afeae",
   "metadata": {},
   "source": [
    "The tuple says that the *first* dimension of the array `num_array` contains **2 elements** and the *second* dimension has got **3 elements**."
   ]
  },
  {
   "cell_type": "code",
   "execution_count": 24,
   "id": "5df4d9c9-1b4c-46b8-a934-dd9eb863ba25",
   "metadata": {
    "tags": []
   },
   "outputs": [
    {
     "data": {
      "text/plain": [
       "6"
      ]
     },
     "execution_count": 24,
     "metadata": {},
     "output_type": "execute_result"
    }
   ],
   "source": [
    "num_array.size"
   ]
  },
  {
   "cell_type": "markdown",
   "id": "86855cd6-9a2c-4f94-8cbf-fcbc891f9e49",
   "metadata": {},
   "source": [
    "The integer represents the total number of elements in the array `num_array`, which is 6."
   ]
  },
  {
   "cell_type": "markdown",
   "id": "79f79eb8-be21-4be0-b815-6271c62001c6",
   "metadata": {
    "jp-MarkdownHeadingCollapsed": true,
    "tags": []
   },
   "source": [
    "## Q5. Write a code to create numpy array of 3*3 matrix containing zeros only, using a numpy array creation function.\n",
    "[Hint: The size of the array will be 9 and the shape will be (3,3).]"
   ]
  },
  {
   "cell_type": "code",
   "execution_count": 30,
   "id": "4ad3a694-790b-4567-a0e0-48e73ad30ea3",
   "metadata": {
    "tags": []
   },
   "outputs": [],
   "source": [
    "zero_arr = np.zeros(shape=(3,3))"
   ]
  },
  {
   "cell_type": "code",
   "execution_count": 31,
   "id": "709bb016-54b2-472f-a8a0-e7de6773616a",
   "metadata": {
    "tags": []
   },
   "outputs": [
    {
     "data": {
      "text/plain": [
       "array([[0., 0., 0.],\n",
       "       [0., 0., 0.],\n",
       "       [0., 0., 0.]])"
      ]
     },
     "execution_count": 31,
     "metadata": {},
     "output_type": "execute_result"
    }
   ],
   "source": [
    "zero_arr"
   ]
  },
  {
   "cell_type": "markdown",
   "id": "225f3e44-9099-44ea-b4c2-948ce81a48a4",
   "metadata": {
    "jp-MarkdownHeadingCollapsed": true,
    "tags": []
   },
   "source": [
    "## Q6. Create an identity matrix of shape (5,5) using numpy functions?\n",
    "[Hint: An identity matrix is a matrix containing 1 diagonally and other elements will be 0.]"
   ]
  },
  {
   "cell_type": "code",
   "execution_count": 32,
   "id": "db0d0460-71ab-4c81-bd01-9aabbc4830b5",
   "metadata": {
    "tags": []
   },
   "outputs": [],
   "source": [
    "id_matrix = np.identity(5)"
   ]
  },
  {
   "cell_type": "code",
   "execution_count": 33,
   "id": "74c5655c-c5be-4b23-8de7-7dc56d81ed54",
   "metadata": {
    "tags": []
   },
   "outputs": [
    {
     "data": {
      "text/plain": [
       "array([[1., 0., 0., 0., 0.],\n",
       "       [0., 1., 0., 0., 0.],\n",
       "       [0., 0., 1., 0., 0.],\n",
       "       [0., 0., 0., 1., 0.],\n",
       "       [0., 0., 0., 0., 1.]])"
      ]
     },
     "execution_count": 33,
     "metadata": {},
     "output_type": "execute_result"
    }
   ],
   "source": [
    "id_matrix"
   ]
  },
  {
   "cell_type": "code",
   "execution_count": null,
   "id": "e992b43b-f256-4ff7-b55e-8366d93ebee0",
   "metadata": {},
   "outputs": [],
   "source": []
  }
 ],
 "metadata": {
  "kernelspec": {
   "display_name": "Python 3 (ipykernel)",
   "language": "python",
   "name": "python3"
  },
  "language_info": {
   "codemirror_mode": {
    "name": "ipython",
    "version": 3
   },
   "file_extension": ".py",
   "mimetype": "text/x-python",
   "name": "python",
   "nbconvert_exporter": "python",
   "pygments_lexer": "ipython3",
   "version": "3.11.2"
  }
 },
 "nbformat": 4,
 "nbformat_minor": 5
}
