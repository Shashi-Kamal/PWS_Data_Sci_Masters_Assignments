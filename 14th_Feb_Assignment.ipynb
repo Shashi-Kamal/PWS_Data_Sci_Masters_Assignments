{
 "cells": [
  {
   "attachments": {},
   "cell_type": "markdown",
   "metadata": {},
   "source": [
    "## Q1. What is multi-threading in python? Why is it used? Name the module used to handle threads in python."
   ]
  },
  {
   "attachments": {},
   "cell_type": "markdown",
   "metadata": {},
   "source": [
    "### Ans:\n",
    "#### Multi-threading:\n",
    "- Multi-threading is the ability of a processor to execute multiple threads of execution concurrently.\n",
    "- Where each thread represents a separate sequence of instructions within a single program.\n",
    "- This can be achieved through hardware-level support in a CPU, or through the use of multiple cores in a multi-core processor.\n",
    "- The OS is responsible for scheduling and managing the execution of threads on the processor, in order to maximize overall system performance.\n",
    "\n",
    "#### Why it is used?\n",
    "- to achieve faster execution times and improved overall performance of a program.\n",
    "- to improve the responsiveness of a program.\n",
    "- to enable concurrent access to shared resources.\n",
    "- to break a program down into smaller, more modular components, where each component can be executed independently by a separate thread.\n",
    "\n",
    "#### The module that is used to handle threads: `Threading`"
   ]
  },
  {
   "attachments": {},
   "cell_type": "markdown",
   "metadata": {},
   "source": [
    "## Q2. Why threading module used? Write the use of the following functions:\n",
    "- `activeCount()`\n",
    "- `currentThread()`\n",
    "- `enumerate()`"
   ]
  },
  {
   "attachments": {},
   "cell_type": "markdown",
   "metadata": {},
   "source": [
    "### Ans:\n",
    "#### `Threading` module is used, because:\n",
    "- It provides a simple way to create and manage threads.\n",
    "- We can create a new thread by creating an instance of the `Thread` class, that comes with the module.\n",
    "\n",
    "#### Uses of the following functions:\n",
    "1. `activeCount()`\n",
    "    - returns the *number of Thread objects* that are currently active in the program, including the main thread.\n",
    "2. `currentThread()`\n",
    "    - returns a *reference* to the Thread object representing the *current thread* of execution.\n",
    "3. `enumerate()`\n",
    "    - returns a *list of all Thread objects* that are currently active in the program, including the main thread."
   ]
  },
  {
   "attachments": {},
   "cell_type": "markdown",
   "metadata": {},
   "source": [
    "## Q3. Explain the following functions:\n",
    "- run\n",
    "- start\n",
    "- join\n",
    "- isAlive"
   ]
  },
  {
   "attachments": {},
   "cell_type": "markdown",
   "metadata": {},
   "source": [
    "1. `run()`\n",
    "    - This method is called when a thread is started using the `start()` method.\n",
    "    - It contains the code that is executed when the thread is started.\n",
    "2. `start()`\n",
    "    - This method is used to start a new thread and call the `run()` method.\n",
    "3. `join()`\n",
    "    - This method is used to make a thread wait for the completion of another thread, that's already running.\n",
    "4. `isAlive()`\n",
    "    - This method returns a `True` value if the thread is still running, else it returns a `False`."
   ]
  },
  {
   "attachments": {},
   "cell_type": "markdown",
   "metadata": {},
   "source": [
    "## Q4. Write a python program to create two threads. Thread one must print the list of squares and thread two must print the list of cubes."
   ]
  },
  {
   "cell_type": "code",
   "execution_count": 50,
   "metadata": {},
   "outputs": [],
   "source": [
    "# import the required module\n",
    "from threading import Thread"
   ]
  },
  {
   "cell_type": "code",
   "execution_count": 51,
   "metadata": {},
   "outputs": [],
   "source": [
    "# create a function to print a list of squares\n",
    "def find_squares(num_list, result):\n",
    "    result.extend(list(map(lambda x: x**2, num_list)))"
   ]
  },
  {
   "cell_type": "code",
   "execution_count": 52,
   "metadata": {},
   "outputs": [],
   "source": [
    "# create a function to print a list of cubes\n",
    "def find_cubes(num_list, result):\n",
    "    result.extend(list(map(lambda x: x**3, num_list)))"
   ]
  },
  {
   "cell_type": "code",
   "execution_count": 58,
   "metadata": {},
   "outputs": [],
   "source": [
    "num_list = [1, 2, 3, 4, 5, 6]\n",
    "squares = []\n",
    "cubes = []"
   ]
  },
  {
   "cell_type": "code",
   "execution_count": 59,
   "metadata": {},
   "outputs": [],
   "source": [
    "# create 2 threads\n",
    "t1 = Thread(target=find_squares, args=(num_list, squares))\n",
    "t2 = Thread(target=find_cubes, args=(num_list, cubes))"
   ]
  },
  {
   "cell_type": "code",
   "execution_count": 60,
   "metadata": {},
   "outputs": [],
   "source": [
    "# start the threads\n",
    "t1.start()\n",
    "t2.start()"
   ]
  },
  {
   "cell_type": "code",
   "execution_count": 61,
   "metadata": {},
   "outputs": [],
   "source": [
    "# wait for the threads to complete \n",
    "t1.join()\n",
    "t2.join()"
   ]
  },
  {
   "cell_type": "code",
   "execution_count": 62,
   "metadata": {},
   "outputs": [
    {
     "name": "stdout",
     "output_type": "stream",
     "text": [
      "Squares: [1, 4, 9, 16, 25, 36]\n",
      "Cubes: [1, 8, 27, 64, 125, 216]\n"
     ]
    }
   ],
   "source": [
    "print(\"Squares:\", squares)\n",
    "print(\"Cubes:\", cubes)"
   ]
  },
  {
   "attachments": {},
   "cell_type": "markdown",
   "metadata": {},
   "source": [
    "## Q5. State advantages and disadvantages of multithreading."
   ]
  },
  {
   "attachments": {},
   "cell_type": "markdown",
   "metadata": {},
   "source": [
    "### Ans:\n",
    "#### Advantages:\n",
    "- Improves overall performance of a program.\n",
    "- Improves responsiveness of a program.\n",
    "- Efficient utilization of shared resources.\n",
    "- Encourages breking down of a complex program into smaller, more managable threads.\n",
    "\n",
    "#### Disadvantages:\n",
    "- With multiple threads, the complexity of code increases.\n",
    "- Debugging becomes more complex.\n",
    "- Threads may run into race conditions, if not properly managed.\n",
    "- Scalability becomes complex between distributed systems."
   ]
  },
  {
   "attachments": {},
   "cell_type": "markdown",
   "metadata": {},
   "source": [
    "## Q6. Explain deadlocks and race conditions."
   ]
  },
  {
   "attachments": {},
   "cell_type": "markdown",
   "metadata": {},
   "source": [
    "### Ans:\n",
    "#### Deadlocks:\n",
    "- It is a situation that occurs in a multi-threaded program.\n",
    "- It can occur when two or more threads *keep waiting for each other to release a resource* that they need to proceed, an therby get blocked.\n",
    "- It can occur when threads acquire resources in a different order.\n",
    "- It can occur when the threads hold onto resources for an extended period of time, preventing other threads from accessing them.\n",
    "- It can cause the entire system to hang or become unresponsive, as the threads involved in the deadlock are unable to make any progress.\n",
    "\n",
    "#### Race Conditions:\n",
    "- It is a situation that occurs in a multi-threaded program.\n",
    "- It occurs when two or more threads *try to access or modify a shared resource*, such as a variable or a file, in an uncoordinated way.\n",
    "- When such a situation occurs, it is possible for their operations to interfere with one another, in unexpected ways, leading to incorrect or unpredictable behavior."
   ]
  }
 ],
 "metadata": {
  "kernelspec": {
   "display_name": "Python 3",
   "language": "python",
   "name": "python3"
  },
  "language_info": {
   "codemirror_mode": {
    "name": "ipython",
    "version": 3
   },
   "file_extension": ".py",
   "mimetype": "text/x-python",
   "name": "python",
   "nbconvert_exporter": "python",
   "pygments_lexer": "ipython3",
   "version": "3.11.2"
  },
  "orig_nbformat": 4
 },
 "nbformat": 4,
 "nbformat_minor": 2
}
