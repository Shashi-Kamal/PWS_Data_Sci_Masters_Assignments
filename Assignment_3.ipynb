{
  "nbformat": 4,
  "nbformat_minor": 0,
  "metadata": {
    "colab": {
      "provenance": [],
      "collapsed_sections": [
        "eBooDdIIAE1Y",
        "J-uS7ARqanmh",
        "TSN7iVE-cIWa",
        "YEaTDzMzc4u4",
        "_7WI8I7zgO0o",
        "70XCoOAFg-88"
      ]
    },
    "kernelspec": {
      "name": "python3",
      "display_name": "Python 3"
    },
    "language_info": {
      "name": "python"
    }
  },
  "cells": [
    {
      "cell_type": "markdown",
      "source": [
        "## Q1. Create a python program to sort the given list of tuples based on integer value using a lambda function.\n",
        "- [('Sachin Tendulkar', 34357), ('Ricky Ponting', 27483), ('Jack Kallis', 25534), ('Virat Kohli', 24936)]"
      ],
      "metadata": {
        "id": "eBooDdIIAE1Y"
      }
    },
    {
      "cell_type": "code",
      "execution_count": 18,
      "metadata": {
        "id": "sUQjtZUm5JJA"
      },
      "outputs": [],
      "source": [
        "# the given list of tuples\n",
        "cricketers = [('Sachin Tendulkar', 34357), ('Ricky Ponting', 27483), ('Jack Kallis', 25534), ('Virat Kohli', 24936)]"
      ]
    },
    {
      "cell_type": "code",
      "source": [
        "sorted_list1 = sorted(cricketers, key = lambda x: x[1])"
      ],
      "metadata": {
        "id": "-P15_dr9UdGS"
      },
      "execution_count": 31,
      "outputs": []
    },
    {
      "cell_type": "code",
      "source": [
        "print(sorted_list1)"
      ],
      "metadata": {
        "colab": {
          "base_uri": "https://localhost:8080/"
        },
        "id": "JqGmLqExBBwu",
        "outputId": "800ee0d0-c4fc-4fc9-9198-804bdb575b88"
      },
      "execution_count": 28,
      "outputs": [
        {
          "output_type": "stream",
          "name": "stdout",
          "text": [
            "[('Virat Kohli', 24936), ('Jack Kallis', 25534), ('Ricky Ponting', 27483), ('Sachin Tendulkar', 34357)]\n"
          ]
        }
      ]
    },
    {
      "cell_type": "markdown",
      "source": [
        "## Q2. Write a Python Program to find the squares of all the numbers in the given list of integers using lambda and map functions.\n",
        "- [1, 2, 3, 4, 5, 6, 7, 8, 9, 10]"
      ],
      "metadata": {
        "id": "J-uS7ARqanmh"
      }
    },
    {
      "cell_type": "code",
      "source": [
        "# the given list\n",
        "int_list = [1, 2, 3, 4, 5, 6, 7, 8, 9, 10]"
      ],
      "metadata": {
        "id": "2uAuqt4NDqZ7"
      },
      "execution_count": 32,
      "outputs": []
    },
    {
      "cell_type": "code",
      "source": [
        "# lambda function for finding squares\n",
        "find_sqr = lambda x: x ** 2"
      ],
      "metadata": {
        "id": "icXyus3ibCks"
      },
      "execution_count": 33,
      "outputs": []
    },
    {
      "cell_type": "code",
      "source": [
        "# implementation of map()\n",
        "list(map(find_sqr, int_list))"
      ],
      "metadata": {
        "colab": {
          "base_uri": "https://localhost:8080/"
        },
        "id": "rpCKz_r5bRqg",
        "outputId": "9268b42e-9f2a-4d51-97a6-4e0b7e4e5186"
      },
      "execution_count": 36,
      "outputs": [
        {
          "output_type": "execute_result",
          "data": {
            "text/plain": [
              "[1, 4, 9, 16, 25, 36, 49, 64, 81, 100]"
            ]
          },
          "metadata": {},
          "execution_count": 36
        }
      ]
    },
    {
      "cell_type": "markdown",
      "source": [
        "## Q3. Write a python program to convert the given list of integers into a tuple of strings. Use map and lambda functions\n",
        "- Given String: [1, 2, 3, 4, 5, 6, 7, 8, 9, 10]\n",
        "- Expected output: ('1', '2', '3', '4', '5', '6', '7', '8', '9', '10')"
      ],
      "metadata": {
        "id": "TSN7iVE-cIWa"
      }
    },
    {
      "cell_type": "code",
      "source": [
        "# the given list\n",
        "num_list = [1, 2, 3, 4, 5, 6, 7, 8, 9, 10]"
      ],
      "metadata": {
        "id": "V_Ih3PZ6bWO2"
      },
      "execution_count": 37,
      "outputs": []
    },
    {
      "cell_type": "code",
      "source": [
        "tuple(map(lambda x: str(x), num_list))"
      ],
      "metadata": {
        "colab": {
          "base_uri": "https://localhost:8080/"
        },
        "id": "SEOO51Zkcj01",
        "outputId": "a520f5eb-f6d3-4fcd-dcef-3eda4704eec6"
      },
      "execution_count": 38,
      "outputs": [
        {
          "output_type": "execute_result",
          "data": {
            "text/plain": [
              "('1', '2', '3', '4', '5', '6', '7', '8', '9', '10')"
            ]
          },
          "metadata": {},
          "execution_count": 38
        }
      ]
    },
    {
      "cell_type": "markdown",
      "source": [
        "## Q4. Write a python program using reduce function to compute the product of a list containing numbers from 1 to 25."
      ],
      "metadata": {
        "id": "YEaTDzMzc4u4"
      }
    },
    {
      "cell_type": "code",
      "source": [
        "# list containing numbers from 1 to 25.\n",
        "n_list = list(range(1, 26))"
      ],
      "metadata": {
        "id": "C4FCesDfczZL"
      },
      "execution_count": 63,
      "outputs": []
    },
    {
      "cell_type": "code",
      "source": [
        "from functools import reduce"
      ],
      "metadata": {
        "id": "wGVhgvosdVVR"
      },
      "execution_count": 43,
      "outputs": []
    },
    {
      "cell_type": "code",
      "source": [
        "reduce(lambda x, y : x * y, n_list)"
      ],
      "metadata": {
        "colab": {
          "base_uri": "https://localhost:8080/"
        },
        "id": "wzAOX7F1dqmi",
        "outputId": "30a232af-f8dc-41a1-8781-d3ae3cb08c18"
      },
      "execution_count": 65,
      "outputs": [
        {
          "output_type": "execute_result",
          "data": {
            "text/plain": [
              "15511210043330985984000000"
            ]
          },
          "metadata": {},
          "execution_count": 65
        }
      ]
    },
    {
      "cell_type": "markdown",
      "source": [
        "## Q5. Write a python program to filter the numbers in a given list that are divisible by 2 and 3 using the filter function.\n",
        "- [2, 3, 6, 9, 27, 60, 90, 120, 55, 46]"
      ],
      "metadata": {
        "id": "_7WI8I7zgO0o"
      }
    },
    {
      "cell_type": "code",
      "source": [
        "# the given list\n",
        "given_list = [2, 3, 6, 9, 27, 60, 90, 120, 55, 46]"
      ],
      "metadata": {
        "id": "rj-3gXX7gZ8e"
      },
      "execution_count": 66,
      "outputs": []
    },
    {
      "cell_type": "code",
      "source": [
        "list(filter(lambda x: x % 2 == 0 and x % 3 == 0, given_list))"
      ],
      "metadata": {
        "colab": {
          "base_uri": "https://localhost:8080/"
        },
        "id": "k2An5i-DgmMs",
        "outputId": "b3e8c394-7dbb-410f-e019-04d9efced872"
      },
      "execution_count": 68,
      "outputs": [
        {
          "output_type": "execute_result",
          "data": {
            "text/plain": [
              "[6, 60, 90, 120]"
            ]
          },
          "metadata": {},
          "execution_count": 68
        }
      ]
    },
    {
      "cell_type": "markdown",
      "source": [
        "## Q6. Write a python program to find palindromes in the given list of strings using lambda and filter function.\n",
        "- ['python', 'php', 'aba', 'radar', 'level']"
      ],
      "metadata": {
        "id": "70XCoOAFg-88"
      }
    },
    {
      "cell_type": "code",
      "source": [
        "# the given list of strings\n",
        "str_list = ['python', 'php', 'aba', 'radar', 'level']"
      ],
      "metadata": {
        "id": "CBrt2EEFg0-f"
      },
      "execution_count": 70,
      "outputs": []
    },
    {
      "cell_type": "code",
      "source": [
        "list(filter(lambda string: string[::1] == string[::-1], str_list))"
      ],
      "metadata": {
        "colab": {
          "base_uri": "https://localhost:8080/"
        },
        "id": "gnKn3G4ohS89",
        "outputId": "c967acfa-209f-4c2e-a6a2-f33ec4704048"
      },
      "execution_count": 71,
      "outputs": [
        {
          "output_type": "execute_result",
          "data": {
            "text/plain": [
              "['php', 'aba', 'radar', 'level']"
            ]
          },
          "metadata": {},
          "execution_count": 71
        }
      ]
    },
    {
      "cell_type": "code",
      "source": [],
      "metadata": {
        "id": "N8dTlz28hy9o"
      },
      "execution_count": null,
      "outputs": []
    }
  ]
}