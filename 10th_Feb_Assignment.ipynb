{
 "cells": [
  {
   "attachments": {},
   "cell_type": "markdown",
   "metadata": {},
   "source": [
    "## Q1. Which function is used to open a file? What are the different modes of opening a file? Explain each mode of file opening."
   ]
  },
  {
   "attachments": {},
   "cell_type": "markdown",
   "metadata": {},
   "source": [
    "### Ans:\n",
    "The function that is used to open a file is `open()`\n",
    "\n",
    "The different modes of opening a file:\n",
    "1. **r** : opens a file for *reading* only.\n",
    "2. **w** : opens a file for *writing* only.  *Overwrites* an existing file.\n",
    "3. **x** : for *creating* a new file and open it in *writing* mode.\n",
    "4. **a** : opens a file for *appending* only.\n",
    "5. **b** : opens a file in *binary* mode, i.e. *non-textual* files like images or executables.\n",
    "6. **t** : opens a file in *text* mode, i.e. *text* files like html and csv files.\n",
    "7. **+** : opens a file for both *reading and writing* on it."
   ]
  },
  {
   "attachments": {},
   "cell_type": "markdown",
   "metadata": {},
   "source": [
    "## Q2. Why close() function is used? Why is it important to close a file?"
   ]
  },
  {
   "attachments": {},
   "cell_type": "markdown",
   "metadata": {},
   "source": [
    "### Ans:\n",
    "We use `close()` to close a recently opened file, after using it.\n",
    "\n",
    "It is important to close a file ater it's been used, because:\n",
    "- It releases the resources that were being used to keep track of the open file.\n",
    "- If so many files are thus kept open, it could slow down the program and impact its performance.\n",
    "- Changes made to open files are effective only when it's closed."
   ]
  },
  {
   "attachments": {},
   "cell_type": "markdown",
   "metadata": {},
   "source": [
    "## Q3. Write a python program to create a text file. Write ‘I want to become a Data Scientist’ in that file. Then close the file. Open this file and read the content of the file."
   ]
  },
  {
   "cell_type": "code",
   "execution_count": 2,
   "metadata": {},
   "outputs": [],
   "source": [
    "# create a text file\n",
    "file =  open(\"text.txt\", \"w\")"
   ]
  },
  {
   "cell_type": "code",
   "execution_count": 3,
   "metadata": {},
   "outputs": [
    {
     "data": {
      "text/plain": [
       "33"
      ]
     },
     "execution_count": 3,
     "metadata": {},
     "output_type": "execute_result"
    }
   ],
   "source": [
    "# write some text in the file\n",
    "file.write(\"I want to become a Data Scientist\")"
   ]
  },
  {
   "cell_type": "code",
   "execution_count": 5,
   "metadata": {},
   "outputs": [],
   "source": [
    "# close the file\n",
    "file.close()"
   ]
  },
  {
   "cell_type": "code",
   "execution_count": 6,
   "metadata": {},
   "outputs": [
    {
     "name": "stdout",
     "output_type": "stream",
     "text": [
      "I want to become a Data Scientist\n"
     ]
    }
   ],
   "source": [
    "# open the file and read its content\n",
    "data = open(\"text.txt\", \"r\")\n",
    "print(data.read())"
   ]
  },
  {
   "attachments": {},
   "cell_type": "markdown",
   "metadata": {},
   "source": [
    "## Q4. Explain the following with python code: read(), readline() and readlines()."
   ]
  },
  {
   "attachments": {},
   "cell_type": "markdown",
   "metadata": {},
   "source": [
    "### Ans:\n",
    "`read()`: \n",
    "- It reads and returns the *entire contents* of the file as a **single string**.\n",
    "- If a *number of bytes* is provided as an argument, it'll read and return upto that number of bytes.\n",
    "\n",
    "`readline()`:\n",
    "- It reads and returns *a single line* from the file.\n",
    "- It stops reading as soon as it encounters a **newline** character and returns the *line* as a **string**.\n",
    "- If it reaches the end of the file without finding a newline character, it returns the remaining characters as *a single string*, even if there's no newline character at the end.\n",
    "\n",
    "`readlines()`:\n",
    "- It reads and returns *all the lines* in the file as a **list of strings**.\n",
    "- Each *string* in the list corresponds to a *single line* in the file.\n",
    "- Each string includes a **newline** character at the end of the string."
   ]
  },
  {
   "attachments": {},
   "cell_type": "markdown",
   "metadata": {},
   "source": [
    "## Q5. Explain why `with` statement is used with `open()`. What is the advantage of using `with` statement and `open()` together?"
   ]
  },
  {
   "attachments": {},
   "cell_type": "markdown",
   "metadata": {},
   "source": [
    "### Ans:\n",
    "`with` statement:\n",
    "- In Python, the `with` statement is used to create a **runtime context** or an **environment** in which a resource is managed by a *context manager object*.\n",
    "- The context manager handles the *entry into*, and *exit from*, the desired runtime context for the execution of the block of code.\n",
    "- When it's used with the `open()` as in `with open()`, it will automatically *close* the file opened once the desired job is done.\n",
    "\n",
    "**Advantage:**\n",
    "- We need not worry about closing the opened file explicitly, as it automatically *closes* the file when you are done with it.\n",
    "- This is *safer* and more *convenient* than using `open()` alone. "
   ]
  },
  {
   "attachments": {},
   "cell_type": "markdown",
   "metadata": {},
   "source": [
    "## Q6. Explain the write() and writelines() functions. Give a suitable example."
   ]
  },
  {
   "attachments": {},
   "cell_type": "markdown",
   "metadata": {},
   "source": [
    "### Ans:\n",
    "`write()`:\n",
    "- It is used to write a **single string** of data to a file.\n",
    "- It returns the *number of characters* that were written to the file.\n",
    "\n",
    "**Example:**"
   ]
  },
  {
   "cell_type": "code",
   "execution_count": 7,
   "metadata": {},
   "outputs": [],
   "source": [
    "# writing a string into a file\n",
    "with open(\"text1.txt\", \"w\") as f:\n",
    "    f.write(\"I am a data scientist\")"
   ]
  },
  {
   "cell_type": "code",
   "execution_count": 9,
   "metadata": {},
   "outputs": [
    {
     "name": "stdout",
     "output_type": "stream",
     "text": [
      "I am a data scientist\n"
     ]
    }
   ],
   "source": [
    "with open(\"text1.txt\", \"r\") as f:\n",
    "    print(f.read())"
   ]
  },
  {
   "attachments": {},
   "cell_type": "markdown",
   "metadata": {},
   "source": [
    "`writelines()`:\n",
    "- It is used to write a **list of strings** to a file.\n",
    "- In this each string is written as a *separate line* in the file.\n",
    "\n",
    "**Example:**"
   ]
  },
  {
   "cell_type": "code",
   "execution_count": 14,
   "metadata": {},
   "outputs": [],
   "source": [
    "# writing a list of strings into a file\n",
    "with open(\"text2.txt\", \"w\") as f:\n",
    "    lines = [\"I am studying data science\\n\", \"I want to become a data scientist\\n\"]\n",
    "    f.writelines(lines)"
   ]
  },
  {
   "cell_type": "code",
   "execution_count": 15,
   "metadata": {},
   "outputs": [
    {
     "name": "stdout",
     "output_type": "stream",
     "text": [
      "I am studying data science\n",
      "I want to become a data scientist\n",
      "\n"
     ]
    }
   ],
   "source": [
    "with open(\"text2.txt\", \"r\") as f:\n",
    "    print(f.read())"
   ]
  }
 ],
 "metadata": {
  "kernelspec": {
   "display_name": "Python 3",
   "language": "python",
   "name": "python3"
  },
  "language_info": {
   "codemirror_mode": {
    "name": "ipython",
    "version": 3
   },
   "file_extension": ".py",
   "mimetype": "text/x-python",
   "name": "python",
   "nbconvert_exporter": "python",
   "pygments_lexer": "ipython3",
   "version": "3.11.2"
  },
  "orig_nbformat": 4
 },
 "nbformat": 4,
 "nbformat_minor": 2
}
