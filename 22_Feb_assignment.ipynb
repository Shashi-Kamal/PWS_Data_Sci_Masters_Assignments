{
 "cells": [
  {
   "cell_type": "code",
   "execution_count": 1,
   "id": "2379a47e-984f-4991-9a33-e8c51930e27f",
   "metadata": {
    "tags": []
   },
   "outputs": [],
   "source": [
    "import pandas as pd"
   ]
  },
  {
   "cell_type": "markdown",
   "id": "749e71bc-3940-4b37-af0a-1ccea8d932b5",
   "metadata": {
    "jp-MarkdownHeadingCollapsed": true,
    "tags": []
   },
   "source": [
    "## Q1. Create a Pandas Series that contains the following data: 4, 8, 15, 16, 23, and 42. Then, print the series."
   ]
  },
  {
   "cell_type": "code",
   "execution_count": 2,
   "id": "1a677ca3-787f-4c09-a56b-29e278e12900",
   "metadata": {
    "tags": []
   },
   "outputs": [],
   "source": [
    "data_sr = pd.Series([4, 8, 15, 16, 23, 42])"
   ]
  },
  {
   "cell_type": "code",
   "execution_count": 3,
   "id": "c5a7160a-6034-4db2-81f9-40feb026a646",
   "metadata": {
    "tags": []
   },
   "outputs": [
    {
     "name": "stdout",
     "output_type": "stream",
     "text": [
      "0     4\n",
      "1     8\n",
      "2    15\n",
      "3    16\n",
      "4    23\n",
      "5    42\n",
      "dtype: int64\n"
     ]
    }
   ],
   "source": [
    "print(data_sr)"
   ]
  },
  {
   "cell_type": "markdown",
   "id": "d4dcb30f-5db1-47e3-a68b-f38a3e6cf25a",
   "metadata": {
    "jp-MarkdownHeadingCollapsed": true,
    "tags": []
   },
   "source": [
    "## Q2. Create a variable of list type containing 10 elements in it, and apply pandas.Series function on the variable print it."
   ]
  },
  {
   "cell_type": "code",
   "execution_count": 4,
   "id": "1c18af3f-a3dd-4253-a71e-2c6f82f1fe47",
   "metadata": {
    "tags": []
   },
   "outputs": [],
   "source": [
    "num_list = [9, 5, 1, 7, 12, 8, 23, 11, 19, 21]"
   ]
  },
  {
   "cell_type": "code",
   "execution_count": 5,
   "id": "1170e311-c8f8-4915-905a-cb87530910c4",
   "metadata": {
    "tags": []
   },
   "outputs": [],
   "source": [
    "num_list_sr = pd.Series(num_list)"
   ]
  },
  {
   "cell_type": "code",
   "execution_count": 6,
   "id": "c6cc06cb-26e4-4195-bd7a-57d8091d3380",
   "metadata": {
    "tags": []
   },
   "outputs": [
    {
     "name": "stdout",
     "output_type": "stream",
     "text": [
      "0     9\n",
      "1     5\n",
      "2     1\n",
      "3     7\n",
      "4    12\n",
      "5     8\n",
      "6    23\n",
      "7    11\n",
      "8    19\n",
      "9    21\n",
      "dtype: int64\n"
     ]
    }
   ],
   "source": [
    "print(num_list_sr)"
   ]
  },
  {
   "cell_type": "markdown",
   "id": "7ce6198c-d4e9-4738-8d99-587a23beb0ca",
   "metadata": {
    "jp-MarkdownHeadingCollapsed": true,
    "tags": []
   },
   "source": [
    "## Q3. Create a Pandas DataFrame that contains the following data:\n",
    "|Name|Age|Gender|\n",
    "|:---:|:---:|:---:|\n",
    "|Alice|25|Female|\n",
    "|Bob|30|Male|\n",
    "|Claire|27|Female|\n",
    "\n",
    "Then, print the DataFrame."
   ]
  },
  {
   "cell_type": "code",
   "execution_count": 7,
   "id": "66250e42-6412-41dd-8774-6d5975fc5be9",
   "metadata": {
    "tags": []
   },
   "outputs": [],
   "source": [
    "data_table = {\n",
    "    \"Name\" : [\"Alice\", \"Bob\", \"Claire\"],\n",
    "    \"Age\" : [25, 30, 27],\n",
    "    \"Gender\" : [\"Female\", \"Male\", \"Female\"],\n",
    "}"
   ]
  },
  {
   "cell_type": "code",
   "execution_count": 8,
   "id": "493529a9-9972-4854-a859-93c87e94a02c",
   "metadata": {
    "tags": []
   },
   "outputs": [],
   "source": [
    "data_table_df = pd.DataFrame(data_table)"
   ]
  },
  {
   "cell_type": "code",
   "execution_count": 9,
   "id": "d1726f52-8092-4248-bbf4-ef97106909f6",
   "metadata": {
    "tags": []
   },
   "outputs": [
    {
     "data": {
      "text/html": [
       "<div>\n",
       "<style scoped>\n",
       "    .dataframe tbody tr th:only-of-type {\n",
       "        vertical-align: middle;\n",
       "    }\n",
       "\n",
       "    .dataframe tbody tr th {\n",
       "        vertical-align: top;\n",
       "    }\n",
       "\n",
       "    .dataframe thead th {\n",
       "        text-align: right;\n",
       "    }\n",
       "</style>\n",
       "<table border=\"1\" class=\"dataframe\">\n",
       "  <thead>\n",
       "    <tr style=\"text-align: right;\">\n",
       "      <th></th>\n",
       "      <th>Name</th>\n",
       "      <th>Age</th>\n",
       "      <th>Gender</th>\n",
       "    </tr>\n",
       "  </thead>\n",
       "  <tbody>\n",
       "    <tr>\n",
       "      <th>0</th>\n",
       "      <td>Alice</td>\n",
       "      <td>25</td>\n",
       "      <td>Female</td>\n",
       "    </tr>\n",
       "    <tr>\n",
       "      <th>1</th>\n",
       "      <td>Bob</td>\n",
       "      <td>30</td>\n",
       "      <td>Male</td>\n",
       "    </tr>\n",
       "    <tr>\n",
       "      <th>2</th>\n",
       "      <td>Claire</td>\n",
       "      <td>27</td>\n",
       "      <td>Female</td>\n",
       "    </tr>\n",
       "  </tbody>\n",
       "</table>\n",
       "</div>"
      ],
      "text/plain": [
       "     Name  Age  Gender\n",
       "0   Alice   25  Female\n",
       "1     Bob   30    Male\n",
       "2  Claire   27  Female"
      ]
     },
     "execution_count": 9,
     "metadata": {},
     "output_type": "execute_result"
    }
   ],
   "source": [
    "data_table_df"
   ]
  },
  {
   "cell_type": "markdown",
   "id": "2285a92c-8a46-46b2-9782-7af8c2f005bb",
   "metadata": {
    "jp-MarkdownHeadingCollapsed": true,
    "tags": []
   },
   "source": [
    "## Q4. What is ‘DataFrame’ in pandas and how is it different from pandas.series? Explain with an example."
   ]
  },
  {
   "cell_type": "markdown",
   "id": "2b9e565a-e065-4eb8-bf93-62ca1e8c3e15",
   "metadata": {
    "tags": []
   },
   "source": [
    "### Ans:\n",
    "- #### Series:\n",
    "    - It's a 1D array-like data structure in Pandas.\n",
    "    - It stores data values serially in a columnar form.\n",
    "    - It contains a default index column that labels each element.\n",
    "    - It can store any type of data such as string, integer, float, python objects, etc.\n",
    "- #### Dataframe:\n",
    "    - It's a 2D table-like data structure in Pandas.\n",
    "    - It stores data values in a tabular form.\n",
    "    - It also contains a default index column that labels each row.\n",
    "    - It can be thought of as a collection of series objects."
   ]
  },
  {
   "cell_type": "code",
   "execution_count": 15,
   "id": "e8a5a161-4663-45eb-85bf-ba0e77a2eed3",
   "metadata": {
    "tags": []
   },
   "outputs": [
    {
     "name": "stdout",
     "output_type": "stream",
     "text": [
      "0    1\n",
      "1    2\n",
      "2    3\n",
      "3    4\n",
      "4    5\n",
      "5    6\n",
      "dtype: int64\n"
     ]
    }
   ],
   "source": [
    "# create a demo series\n",
    "s = pd.Series([1, 2, 3, 4, 5, 6])\n",
    "print(s)"
   ]
  },
  {
   "cell_type": "code",
   "execution_count": 16,
   "id": "744c1060-68f6-4810-8583-6fe97c4f996b",
   "metadata": {
    "tags": []
   },
   "outputs": [
    {
     "name": "stdout",
     "output_type": "stream",
     "text": [
      "   A  B  C\n",
      "0  1  3  5\n",
      "1  2  4  6\n"
     ]
    }
   ],
   "source": [
    "# create a demo dataframe\n",
    "df = pd.DataFrame({'A': [1, 2], 'B': [3, 4], 'C': [5, 6]})\n",
    "print(df)"
   ]
  },
  {
   "cell_type": "markdown",
   "id": "c06c9a2b-6683-4274-bcca-f84ca12f3371",
   "metadata": {
    "jp-MarkdownHeadingCollapsed": true,
    "tags": []
   },
   "source": [
    "## Q5. What are some common functions you can use to manipulate data in a Pandas DataFrame? Can you give an example of when you might use one of these functions?"
   ]
  },
  {
   "cell_type": "markdown",
   "id": "07812ebb-60bc-4e9d-8b3c-2e3921d8d47a",
   "metadata": {},
   "source": [
    "### Ans:\n",
    "- Some common functions to manipulate data in a Pandas Dataframe:\n",
    "    - `head()` and `tail()`\n",
    "    - `describe()`\n",
    "    - `sort_values()`\n",
    "    - `loc[]` and `iloc[]`\n",
    "    - `drop()`\n",
    "    - `apply()`"
   ]
  },
  {
   "cell_type": "code",
   "execution_count": 25,
   "id": "f437b451-5f32-4a1a-9e3e-8a87eef2d618",
   "metadata": {
    "tags": []
   },
   "outputs": [
    {
     "data": {
      "text/html": [
       "<div>\n",
       "<style scoped>\n",
       "    .dataframe tbody tr th:only-of-type {\n",
       "        vertical-align: middle;\n",
       "    }\n",
       "\n",
       "    .dataframe tbody tr th {\n",
       "        vertical-align: top;\n",
       "    }\n",
       "\n",
       "    .dataframe thead th {\n",
       "        text-align: right;\n",
       "    }\n",
       "</style>\n",
       "<table border=\"1\" class=\"dataframe\">\n",
       "  <thead>\n",
       "    <tr style=\"text-align: right;\">\n",
       "      <th></th>\n",
       "      <th>Name</th>\n",
       "      <th>Age</th>\n",
       "      <th>Gender</th>\n",
       "    </tr>\n",
       "  </thead>\n",
       "  <tbody>\n",
       "    <tr>\n",
       "      <th>0</th>\n",
       "      <td>Alice</td>\n",
       "      <td>25</td>\n",
       "      <td>Female</td>\n",
       "    </tr>\n",
       "    <tr>\n",
       "      <th>2</th>\n",
       "      <td>Claire</td>\n",
       "      <td>27</td>\n",
       "      <td>Female</td>\n",
       "    </tr>\n",
       "    <tr>\n",
       "      <th>1</th>\n",
       "      <td>Bob</td>\n",
       "      <td>30</td>\n",
       "      <td>Male</td>\n",
       "    </tr>\n",
       "  </tbody>\n",
       "</table>\n",
       "</div>"
      ],
      "text/plain": [
       "     Name  Age  Gender\n",
       "0   Alice   25  Female\n",
       "2  Claire   27  Female\n",
       "1     Bob   30    Male"
      ]
     },
     "execution_count": 25,
     "metadata": {},
     "output_type": "execute_result"
    }
   ],
   "source": [
    "# use of `.sort_values()`\n",
    "data_table_df.sort_values(by= \"Age\")"
   ]
  },
  {
   "cell_type": "code",
   "execution_count": 26,
   "id": "2100332b-7afe-4107-8a1d-37f09bcd3184",
   "metadata": {
    "tags": []
   },
   "outputs": [
    {
     "data": {
      "text/html": [
       "<div>\n",
       "<style scoped>\n",
       "    .dataframe tbody tr th:only-of-type {\n",
       "        vertical-align: middle;\n",
       "    }\n",
       "\n",
       "    .dataframe tbody tr th {\n",
       "        vertical-align: top;\n",
       "    }\n",
       "\n",
       "    .dataframe thead th {\n",
       "        text-align: right;\n",
       "    }\n",
       "</style>\n",
       "<table border=\"1\" class=\"dataframe\">\n",
       "  <thead>\n",
       "    <tr style=\"text-align: right;\">\n",
       "      <th></th>\n",
       "      <th>A</th>\n",
       "      <th>B</th>\n",
       "      <th>C</th>\n",
       "    </tr>\n",
       "  </thead>\n",
       "  <tbody>\n",
       "    <tr>\n",
       "      <th>0</th>\n",
       "      <td>1</td>\n",
       "      <td>9</td>\n",
       "      <td>25</td>\n",
       "    </tr>\n",
       "    <tr>\n",
       "      <th>1</th>\n",
       "      <td>4</td>\n",
       "      <td>16</td>\n",
       "      <td>36</td>\n",
       "    </tr>\n",
       "  </tbody>\n",
       "</table>\n",
       "</div>"
      ],
      "text/plain": [
       "   A   B   C\n",
       "0  1   9  25\n",
       "1  4  16  36"
      ]
     },
     "execution_count": 26,
     "metadata": {},
     "output_type": "execute_result"
    }
   ],
   "source": [
    "# use of `apply()`\n",
    "df.apply(lambda x: x**2, axis= 0)"
   ]
  },
  {
   "cell_type": "markdown",
   "id": "fb536240-b019-4603-ba2e-1d04d83bc6ce",
   "metadata": {
    "jp-MarkdownHeadingCollapsed": true,
    "tags": []
   },
   "source": [
    "## Q6. Which of the following is mutable in nature Series, DataFrame, Panel?"
   ]
  },
  {
   "cell_type": "markdown",
   "id": "b476820e-ccbb-4d21-ba23-6d8ae53e176c",
   "metadata": {},
   "source": [
    "### Ans:\n",
    "- All of them are mutable in nature.  Their contents can be modified after they have been created.\n",
    "- We can change the values of a Series or Dataframe by assigning new values to specific elements or by using methods like `replace()` or `fillna()`\n",
    "- We can also add or remove columns from a dataframe by using methods like `append()` or `concat()` and `drop()` or `del`"
   ]
  },
  {
   "cell_type": "markdown",
   "id": "670689bb-33f1-4032-93f0-19dfa1714fe9",
   "metadata": {
    "jp-MarkdownHeadingCollapsed": true,
    "tags": []
   },
   "source": [
    "## Q7. Create a DataFrame using multiple Series. Explain with an example."
   ]
  },
  {
   "cell_type": "code",
   "execution_count": 27,
   "id": "97d471e1-3b4b-41ba-b106-5772149344b1",
   "metadata": {
    "tags": []
   },
   "outputs": [
    {
     "data": {
      "text/plain": [
       "0     Alice\n",
       "1       Bob\n",
       "2    Claire\n",
       "dtype: object"
      ]
     },
     "execution_count": 27,
     "metadata": {},
     "output_type": "execute_result"
    }
   ],
   "source": [
    "# create a series for names\n",
    "name_sr = pd.Series([\"Alice\", \"Bob\", \"Claire\"])\n",
    "name_sr"
   ]
  },
  {
   "cell_type": "code",
   "execution_count": 28,
   "id": "2ded5136-4a6c-41cd-911a-af6d76edba7c",
   "metadata": {
    "tags": []
   },
   "outputs": [
    {
     "data": {
      "text/plain": [
       "0    25\n",
       "1    30\n",
       "2    27\n",
       "dtype: int64"
      ]
     },
     "execution_count": 28,
     "metadata": {},
     "output_type": "execute_result"
    }
   ],
   "source": [
    "# create a series for ages\n",
    "age_sr = pd.Series([25, 30, 27])\n",
    "age_sr"
   ]
  },
  {
   "cell_type": "code",
   "execution_count": 29,
   "id": "51f49f17-6ab7-45df-afe3-d30d54cd18da",
   "metadata": {
    "tags": []
   },
   "outputs": [
    {
     "data": {
      "text/plain": [
       "0    F\n",
       "1    M\n",
       "2    F\n",
       "dtype: object"
      ]
     },
     "execution_count": 29,
     "metadata": {},
     "output_type": "execute_result"
    }
   ],
   "source": [
    "# create a series for gender\n",
    "gender_sr = pd.Series([\"F\", \"M\", \"F\"])\n",
    "gender_sr"
   ]
  },
  {
   "cell_type": "code",
   "execution_count": 31,
   "id": "cd710a24-58f0-4939-a177-e51161f3ea09",
   "metadata": {
    "tags": []
   },
   "outputs": [],
   "source": [
    "# create a dataframe from the above series\n",
    "sr_to_df = pd.DataFrame({\n",
    "    \"Name\" : name_sr,\n",
    "    \"Age\" : age_sr,\n",
    "    \"Gender\" : gender_sr,\n",
    "})"
   ]
  },
  {
   "cell_type": "code",
   "execution_count": 32,
   "id": "4a6c822e-97f2-4ad5-b4f3-6519e441f106",
   "metadata": {
    "tags": []
   },
   "outputs": [
    {
     "data": {
      "text/html": [
       "<div>\n",
       "<style scoped>\n",
       "    .dataframe tbody tr th:only-of-type {\n",
       "        vertical-align: middle;\n",
       "    }\n",
       "\n",
       "    .dataframe tbody tr th {\n",
       "        vertical-align: top;\n",
       "    }\n",
       "\n",
       "    .dataframe thead th {\n",
       "        text-align: right;\n",
       "    }\n",
       "</style>\n",
       "<table border=\"1\" class=\"dataframe\">\n",
       "  <thead>\n",
       "    <tr style=\"text-align: right;\">\n",
       "      <th></th>\n",
       "      <th>Name</th>\n",
       "      <th>Age</th>\n",
       "      <th>Gender</th>\n",
       "    </tr>\n",
       "  </thead>\n",
       "  <tbody>\n",
       "    <tr>\n",
       "      <th>0</th>\n",
       "      <td>Alice</td>\n",
       "      <td>25</td>\n",
       "      <td>F</td>\n",
       "    </tr>\n",
       "    <tr>\n",
       "      <th>1</th>\n",
       "      <td>Bob</td>\n",
       "      <td>30</td>\n",
       "      <td>M</td>\n",
       "    </tr>\n",
       "    <tr>\n",
       "      <th>2</th>\n",
       "      <td>Claire</td>\n",
       "      <td>27</td>\n",
       "      <td>F</td>\n",
       "    </tr>\n",
       "  </tbody>\n",
       "</table>\n",
       "</div>"
      ],
      "text/plain": [
       "     Name  Age Gender\n",
       "0   Alice   25      F\n",
       "1     Bob   30      M\n",
       "2  Claire   27      F"
      ]
     },
     "execution_count": 32,
     "metadata": {},
     "output_type": "execute_result"
    }
   ],
   "source": [
    "sr_to_df"
   ]
  }
 ],
 "metadata": {
  "kernelspec": {
   "display_name": "Python 3 (ipykernel)",
   "language": "python",
   "name": "python3"
  },
  "language_info": {
   "codemirror_mode": {
    "name": "ipython",
    "version": 3
   },
   "file_extension": ".py",
   "mimetype": "text/x-python",
   "name": "python",
   "nbconvert_exporter": "python",
   "pygments_lexer": "ipython3",
   "version": "3.11.2"
  }
 },
 "nbformat": 4,
 "nbformat_minor": 5
}
