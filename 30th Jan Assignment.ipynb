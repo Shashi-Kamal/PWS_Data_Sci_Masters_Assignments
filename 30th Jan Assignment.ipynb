{
 "cells": [
  {
   "attachments": {},
   "cell_type": "markdown",
   "metadata": {},
   "source": [
    "## Q1. Write a program to accept percentage from the user and display the grade according to the following criteria:\n",
    "- Marks > 90\n",
    "    - Grade: A\n",
    "- Marks > 80 and <= 90\n",
    "    - Grade: B\n",
    "- Marks >= 60 and <= 80\n",
    "    - Grade: C\n",
    "- Below 60\n",
    "    - Grade: D"
   ]
  },
  {
   "cell_type": "code",
   "execution_count": 9,
   "metadata": {},
   "outputs": [],
   "source": [
    "marks = int(input(\"Enter your marks: \"))"
   ]
  },
  {
   "cell_type": "code",
   "execution_count": 10,
   "metadata": {},
   "outputs": [
    {
     "name": "stdout",
     "output_type": "stream",
     "text": [
      "Your grade: D\n"
     ]
    }
   ],
   "source": [
    "if marks > 90:\n",
    "    grade = 'A'\n",
    "elif 80 <= marks < 90:\n",
    "    grade = 'B'\n",
    "elif 60 <= marks <= 80:\n",
    "    grade = 'C'\n",
    "else:\n",
    "    grade = 'D'\n",
    "    \n",
    "print(f\"Your grade: {grade}\")"
   ]
  },
  {
   "attachments": {},
   "cell_type": "markdown",
   "metadata": {},
   "source": [
    "## Q2. Write a program to accept the cost price of a bike and display the road tax to be paid according to following criteria:\n",
    "\n",
    "- Cost Price (Rs) > 100000:\n",
    "    - Tax : 15%\n",
    "- Cost Price (Rs) > 50000 and <= 1000000\n",
    "    - Tax : 10%\n",
    "- Cost Price (Rs) <= 50000\n",
    "    - Tax : 5%"
   ]
  },
  {
   "cell_type": "code",
   "execution_count": 12,
   "metadata": {},
   "outputs": [],
   "source": [
    "cost_price = int(input(\"Enter the cost price of your bike: \"))"
   ]
  },
  {
   "cell_type": "code",
   "execution_count": 14,
   "metadata": {},
   "outputs": [
    {
     "name": "stdout",
     "output_type": "stream",
     "text": [
      "Your road tax would be: Rs. 6325000.0\n"
     ]
    }
   ],
   "source": [
    "if cost_price > 1_00_000:\n",
    "    tax = cost_price + cost_price * (0.15)\n",
    "elif 50_000 < cost_price < 100_000:\n",
    "    tax = cost_price + cost_price * (0.10)\n",
    "else:\n",
    "    tax = cost_price + cost_price * (0.05)\n",
    "\n",
    "print(f\"Your road tax would be: Rs. {tax}\")"
   ]
  },
  {
   "attachments": {},
   "cell_type": "markdown",
   "metadata": {},
   "source": [
    "## Q3. Accept any city from the user and display monuments of that city.\n",
    "- City: Delhi\n",
    "    - Monument: Red Fort\n",
    "- City: Agra\n",
    "    - Monument: Taj Mahal\n",
    "- City: Jaipur\n",
    "    - Monument: Jal Mahal"
   ]
  },
  {
   "cell_type": "code",
   "execution_count": 20,
   "metadata": {},
   "outputs": [],
   "source": [
    "city = input(\"Enter a city: \")"
   ]
  },
  {
   "cell_type": "code",
   "execution_count": 22,
   "metadata": {},
   "outputs": [
    {
     "name": "stdout",
     "output_type": "stream",
     "text": [
      "Please, enter a valid input!\n"
     ]
    }
   ],
   "source": [
    "if city == \"Delhi\":\n",
    "    monument = \"Red Fort\"\n",
    "elif city == \"Agra\":\n",
    "    monument = \"Taj Mahal\"\n",
    "elif city == \"Jaipur\":\n",
    "    monument = \"Jal Mahal\"\n",
    "else:\n",
    "    monument = \"\"\n",
    "if monument:\n",
    "    print(f\"The most famous place to visit in {city} is {monument}\")\n",
    "else:\n",
    "    print(\"Please, enter a valid input!\")"
   ]
  },
  {
   "attachments": {},
   "cell_type": "markdown",
   "metadata": {},
   "source": [
    "## Q4. Check how many times a given number can be divided by 3 before it is less than or equal to 10."
   ]
  },
  {
   "cell_type": "code",
   "execution_count": 42,
   "metadata": {},
   "outputs": [],
   "source": [
    "number = int(input(\"Enter a number: \"))"
   ]
  },
  {
   "cell_type": "code",
   "execution_count": 43,
   "metadata": {},
   "outputs": [
    {
     "name": "stdout",
     "output_type": "stream",
     "text": [
      "3\n"
     ]
    }
   ],
   "source": [
    "div_counter = 0\n",
    "\n",
    "while number >= 10:\n",
    "    div_counter += 1\n",
    "    number -= 3\n",
    "\n",
    "print(div_counter)"
   ]
  },
  {
   "attachments": {},
   "cell_type": "markdown",
   "metadata": {},
   "source": [
    "## Q5. Why and when to use `while` loop in Python give a detailed description with example. "
   ]
  },
  {
   "attachments": {},
   "cell_type": "markdown",
   "metadata": {},
   "source": [
    "### Ans:\n",
    "- Why use `while` loop?\n",
    "    - We want to execute a block of code repeatedly.\n",
    "    - we want to repeat the loop as long as a certain condition is true.  The loop continues to run until the given condition is false.\n",
    "\n",
    "- When to use `while` loop?\n",
    "    - When we do not know in advance how many times we need to execute a block of code.\n",
    "    \n",
    "- Example:\n",
    "    - Take the above eg. code.\n",
    "    - In that case,\n",
    "        - we do not know how many times the loop will run.\n",
    "        - it depends on if the given number reduceces to 10 while getting divided by 3, each time the loop runs.\n",
    "        - the loop continues to run until the number is greater than 10, when it finally stops."
   ]
  },
  {
   "attachments": {},
   "cell_type": "markdown",
   "metadata": {},
   "source": [
    "## Q6. Use nested `while` loop to print three different patterns."
   ]
  },
  {
   "cell_type": "code",
   "execution_count": 56,
   "metadata": {},
   "outputs": [
    {
     "name": "stdout",
     "output_type": "stream",
     "text": [
      "* * * * * \n",
      "* * * * * \n",
      "* * * * * \n",
      "* * * * * \n",
      "* * * * * \n"
     ]
    }
   ],
   "source": [
    "# pattern 1\n",
    "x = 1\n",
    "while x <= 5:\n",
    "    y = 1\n",
    "    while y <= 5:\n",
    "        # by default, end='\\n'\n",
    "        print(\"*\", end=\" \") \n",
    "        y += 1\n",
    "    # to move the cursor tho the next line \n",
    "    print()\n",
    "    x += 1"
   ]
  },
  {
   "cell_type": "code",
   "execution_count": 57,
   "metadata": {},
   "outputs": [
    {
     "name": "stdout",
     "output_type": "stream",
     "text": [
      "* \n",
      "* * \n",
      "* * * \n",
      "* * * * \n",
      "* * * * * \n"
     ]
    }
   ],
   "source": [
    "# pattern 2\n",
    "x = 1\n",
    "while x <= 5:\n",
    "    y = 1\n",
    "    while y <= x:\n",
    "        print(\"*\", end=\" \")\n",
    "        y += 1\n",
    "    print()\n",
    "    x += 1"
   ]
  },
  {
   "cell_type": "code",
   "execution_count": 61,
   "metadata": {},
   "outputs": [
    {
     "name": "stdout",
     "output_type": "stream",
     "text": [
      "* * * * * \n",
      "* * * * \n",
      "* * * \n",
      "* * \n",
      "* \n"
     ]
    }
   ],
   "source": [
    "# pattern 3\n",
    "x = 1\n",
    "while x <= 5:\n",
    "    y = 5\n",
    "    while y >= x:\n",
    "        print(\"*\", end=\" \")\n",
    "        y -= 1\n",
    "    print()\n",
    "    x += 1"
   ]
  },
  {
   "attachments": {},
   "cell_type": "markdown",
   "metadata": {},
   "source": [
    "## Q7. Reverse a `while` loop to display numbers from 10 to 1"
   ]
  },
  {
   "cell_type": "code",
   "execution_count": 62,
   "metadata": {},
   "outputs": [
    {
     "name": "stdout",
     "output_type": "stream",
     "text": [
      "10, 9, 8, 7, 6, 5, 4, 3, 2, 1, "
     ]
    }
   ],
   "source": [
    "i = 10\n",
    "while i >= 1:\n",
    "    print(i, end=\", \")\n",
    "    i -= 1"
   ]
  }
 ],
 "metadata": {
  "kernelspec": {
   "display_name": "Python 3",
   "language": "python",
   "name": "python3"
  },
  "language_info": {
   "codemirror_mode": {
    "name": "ipython",
    "version": 3
   },
   "file_extension": ".py",
   "mimetype": "text/x-python",
   "name": "python",
   "nbconvert_exporter": "python",
   "pygments_lexer": "ipython3",
   "version": "3.11.2"
  },
  "orig_nbformat": 4,
  "vscode": {
   "interpreter": {
    "hash": "b605e4513396f1ac029c145cdf48393a563d7ed3507525a5a82648881e82a51c"
   }
  }
 },
 "nbformat": 4,
 "nbformat_minor": 2
}
