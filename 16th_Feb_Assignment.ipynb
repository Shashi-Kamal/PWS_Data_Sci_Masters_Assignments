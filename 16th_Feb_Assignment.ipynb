{
 "cells": [
  {
   "attachments": {},
   "cell_type": "markdown",
   "metadata": {},
   "source": [
    "## Q1. What is a database? Differentiate between SQL and NoSQL databases."
   ]
  },
  {
   "attachments": {},
   "cell_type": "markdown",
   "metadata": {},
   "source": [
    "### Ans:\n",
    "#### Database:\n",
    "- A **database** is a *collection of structured data* that is stored and managed on a computer system.\n",
    "- It is designed to *store*, *retrieve*, and *update* large amounts of data into computer's memory, while providing mechanisms for *controlling access* to that data.\n",
    "\n",
    "#### SQL:\n",
    "- **SQL** stands for *Structured Query Language*.\n",
    "- It is a standard *programming language* used for *managing* and *manipulating* relational databases.\n",
    "- SQL allows users to define, create, and modify database structures, as well as insert, update, and retrieve data from a database.\n",
    "\n",
    "#### NoSQL databases:\n",
    "- These databases use a non-relational approach to store and manage data.\n",
    "- Mainly used for storing large amount of semi-structured and unstructured data.\n",
    "- They are highly flexible and scalable.\n",
    "- Used in bigdata and real-time applications.\n",
    "- Eg: MongoDB, Cassandra"
   ]
  },
  {
   "attachments": {},
   "cell_type": "markdown",
   "metadata": {},
   "source": [
    "## Q2. What is DDL? Explain why `CREATE`, `DROP`, `ALTER`, and `TRUNCATE` are used with an example."
   ]
  },
  {
   "attachments": {},
   "cell_type": "markdown",
   "metadata": {},
   "source": [
    "### Ans:\n",
    "#### DDL:\n",
    "- Stands for *Data Definition Language*.\n",
    "- Contains commands to *create* and *modify* database objects such as tables, indexes, and views.\n",
    "- `CREATE TABLE`, `ALTER TABLE`, `TRUNCATE TABLE` and `DROP TABLE`\n",
    "\n",
    "#### `CREATE TABLE`\n",
    "- It is used to *create* new database objects, such as tables, indexes, views, and stored procedures.\n",
    "- eg: `CREATE TABLE customers (id INT PRIMARY KEY, name VARCHAR(50), email VARCHAR(100));`\n",
    "\n",
    "#### `ALTER TABLE`\n",
    "- It is used to *modify* existing database objects, such as table's columns, indexes, and constraints.\n",
    "- eg: `ALTER TABLE customers ADD COLUMN phone VARCHAR(20);`\n",
    "\n",
    "#### `TRUNCATE TABLE`\n",
    "- It is used to *remove* all data from a table, while *keeping the table structure* intact.\n",
    "- eg: `TRUNCATE TABLE customers;`\n",
    "\n",
    "#### `DROP TABLE`\n",
    "- It is used to *remove* database objects, such as tables, indexes, views, and stored procedures.\n",
    "- eg: `DROP TABLE customers;`\n"
   ]
  },
  {
   "attachments": {},
   "cell_type": "markdown",
   "metadata": {},
   "source": [
    "## Q3. What is DML? Explain `INSERT`, `UPDATE`, and `DELETE` with an example."
   ]
  },
  {
   "attachments": {},
   "cell_type": "markdown",
   "metadata": {},
   "source": [
    "### Ans:\n",
    "#### DML:\n",
    "- Stands for *Data Manipulation Language*.\n",
    "- Contains commands to *insert*, *update*, and *delete* data from tables.\n",
    "- `INSERT`, `UPDATE` and `DELETE`\n",
    "\n",
    "#### `INSERT`\n",
    "- It is used to *add new rows* of data into a table.\n",
    "- eg: to insert customer details into customers table, we use:\n",
    "    - `INSERT INTO customers (name, email) VALUES ('Sasi Kamal', 'sasi@example.com');`\n",
    "\n",
    "#### `UPDATE`\n",
    "- It is used to *modify* existing rows of data in a table.\n",
    "- eg: to edit the email of a particular customer, we select the customer by its name, we write:\n",
    "    - `UPDATE customers SET email = 'sasi@example.com' WHERE name = 'Sasi Kamal';`\n",
    "\n",
    "#### `DELETE`\n",
    "- It is used to *remove* rows of data from a table.\n",
    "- eg: to delete a particular customer, we write:\n",
    "    - `DELETE FROM customers WHERE name = 'Sasi Kamal';`\n"
   ]
  },
  {
   "attachments": {},
   "cell_type": "markdown",
   "metadata": {},
   "source": [
    "## Q4. What is DQL? Explain `SELECT` with an example."
   ]
  },
  {
   "attachments": {},
   "cell_type": "markdown",
   "metadata": {},
   "source": [
    "### Ans:\n",
    "#### DQL:\n",
    "- Stands for *Data Query Language*.\n",
    "- Contains commands to *retrieve* data from tables.\n",
    "- The `SELECT` command.\n",
    "\n",
    "#### `SELECT`\n",
    "- It is used to *retrieve data* from one or more tables in a SQL database.\n",
    "- We construct a *SELECT statement* in order to query a database for retrieving data.\n",
    "- It is constructed using the `SELECT` command followed by other SQL Clauses.\n",
    "- eg: To fetch all the records from the customer table, we use: \n",
    "    - `SELECT * FROM customers;`\n"
   ]
  },
  {
   "attachments": {},
   "cell_type": "markdown",
   "metadata": {},
   "source": [
    "## Q5. Explain Primary Key and Foreign Key."
   ]
  },
  {
   "attachments": {},
   "cell_type": "markdown",
   "metadata": {},
   "source": [
    "### Ans:\n",
    "#### Primary Key:\n",
    "- It is a *column* or *set of columns* in a table that *uniquely identifies each row* in the table.\n",
    "- It is used to enforce *data integrity* and ensure that *each row* in the table is *unique*.\n",
    "\n",
    "#### Foreign Key:\n",
    "- It is a *column* or *set of columns* in one table that *refers to the primary key of another table*.\n",
    "- It is used to establish *relationships* between tables and enforce *referential integrity*."
   ]
  },
  {
   "attachments": {},
   "cell_type": "markdown",
   "metadata": {},
   "source": [
    "## Q6. Write a python code to connect MySQL to python. Explain the `cursor()` and `execute()` method."
   ]
  },
  {
   "attachments": {},
   "cell_type": "markdown",
   "metadata": {},
   "source": [
    "### Ans:\n",
    "#### Connect to MySQL using Python:\n",
    "- First, we need to install **mysql-connector-python**, using\n",
    "    - `pip install mysql-connector-python`"
   ]
  },
  {
   "cell_type": "code",
   "execution_count": 4,
   "metadata": {},
   "outputs": [],
   "source": [
    "# Import the `mysql.connector` module\n",
    "import mysql.connector"
   ]
  },
  {
   "cell_type": "code",
   "execution_count": 5,
   "metadata": {},
   "outputs": [],
   "source": [
    "# Establish a connection by creating a *connection* object\n",
    "con = mysql.connector.connect(\n",
    "  host=\"localhost\",\n",
    "  user=\"root\",\n",
    "  password=\"root\",\n",
    "  database=\"new_db1\"\n",
    ")"
   ]
  },
  {
   "cell_type": "code",
   "execution_count": 9,
   "metadata": {},
   "outputs": [],
   "source": [
    "# Create a *cursor* object to interact with the database\n",
    "cursor = con.cursor()"
   ]
  },
  {
   "cell_type": "code",
   "execution_count": 10,
   "metadata": {},
   "outputs": [],
   "source": [
    "# Execute SQL queries using the `execute()` method of the cursor object\n",
    "cursor.execute(\"SELECT * FROM students\")"
   ]
  },
  {
   "cell_type": "code",
   "execution_count": 11,
   "metadata": {},
   "outputs": [
    {
     "name": "stdout",
     "output_type": "stream",
     "text": [
      "(1, 'Sasi', 33, '8972574345')\n",
      "(2, 'Lisa', 31, '9434979229')\n",
      "(3, 'Riki', 20, '8389885476')\n",
      "(4, 'Niki', 25, '9434679339')\n"
     ]
    }
   ],
   "source": [
    "# print all the rows collected in the curson object\n",
    "for row in cursor:\n",
    "    print(row)"
   ]
  },
  {
   "cell_type": "code",
   "execution_count": 12,
   "metadata": {},
   "outputs": [],
   "source": [
    "# to close the db connection, after its use\n",
    "cursor.close()\n",
    "con.close()"
   ]
  },
  {
   "attachments": {},
   "cell_type": "markdown",
   "metadata": {},
   "source": [
    "#### `cursor()`:\n",
    "- It is used to create an *object* that could act as an *intermediary* between Python code and  MySQL database.\n",
    "- It acts as a *pointer* to the *result set* of a query.\n",
    "- It *keeps track* of the current row in the result set.\n",
    "- It allows us to *fetch* data *one row at a time*.\n",
    "\n",
    "#### `execute()`:\n",
    "- It is used to execute an sql statement on a mysql database, using the cursor object.\n",
    "- It takes an SQL statement as a string argument."
   ]
  },
  {
   "attachments": {},
   "cell_type": "markdown",
   "metadata": {},
   "source": [
    "## Q7. Give the order of execution of SQL clauses in an SQL query."
   ]
  },
  {
   "attachments": {},
   "cell_type": "markdown",
   "metadata": {},
   "source": [
    "### Ans:\n",
    "#### Order of execution of SQL clauses are as follows:\n",
    "- `FROM` clause\n",
    "- `WHERE` clause\n",
    "- `GROUP BY` clause\n",
    "- `HAVING` clause\n",
    "- `SELECT` clause\n",
    "- `ORDER BY` clause"
   ]
  }
 ],
 "metadata": {
  "kernelspec": {
   "display_name": "Python 3",
   "language": "python",
   "name": "python3"
  },
  "language_info": {
   "codemirror_mode": {
    "name": "ipython",
    "version": 3
   },
   "file_extension": ".py",
   "mimetype": "text/x-python",
   "name": "python",
   "nbconvert_exporter": "python",
   "pygments_lexer": "ipython3",
   "version": "3.11.2"
  },
  "orig_nbformat": 4
 },
 "nbformat": 4,
 "nbformat_minor": 2
}
