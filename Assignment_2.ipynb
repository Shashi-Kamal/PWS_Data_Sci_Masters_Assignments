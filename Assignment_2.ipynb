{
  "nbformat": 4,
  "nbformat_minor": 0,
  "metadata": {
    "colab": {
      "provenance": [],
      "collapsed_sections": [
        "5M9UD0g04if-",
        "OKmGvkZf46eK",
        "QhGDqTnz5exV",
        "z2p7gr1C6uuj",
        "fUUGQw5b63lz",
        "jBpBoBCQ69eN",
        "679rONUE7Crz",
        "dOhYQ2Hh7NIf",
        "j84sTko97QAb"
      ]
    },
    "kernelspec": {
      "name": "python3",
      "display_name": "Python 3"
    },
    "language_info": {
      "name": "python"
    }
  },
  "cells": [
    {
      "cell_type": "markdown",
      "source": [
        "## Q1. Which keyword is used to create a function?  Create a function to return a list of odd numbers in the range of 1 to 25."
      ],
      "metadata": {
        "id": "5M9UD0g04if-"
      }
    },
    {
      "cell_type": "markdown",
      "source": [
        "**Ans:**\n",
        "- We use the keyword `def` to create a function in Python."
      ],
      "metadata": {
        "id": "Lm0gfzwh7ex6"
      }
    },
    {
      "cell_type": "code",
      "source": [
        "def generate_odds():\n",
        "    \"\"\"Generates odd numbers\"\"\"\n",
        "    odd_list = []\n",
        "    for i in range(1, 26):\n",
        "        if i%2 != 0:\n",
        "            odd_list.append(i)\n",
        "    return odd_list"
      ],
      "metadata": {
        "id": "NPkRQVqv7a9d"
      },
      "execution_count": null,
      "outputs": []
    },
    {
      "cell_type": "code",
      "source": [
        "generate_odds()"
      ],
      "metadata": {
        "colab": {
          "base_uri": "https://localhost:8080/"
        },
        "id": "YcNv_2QeGXID",
        "outputId": "2eb8b207-5ebc-40ef-8be7-9fff2a25efca"
      },
      "execution_count": null,
      "outputs": [
        {
          "output_type": "execute_result",
          "data": {
            "text/plain": [
              "[1, 3, 5, 7, 9, 11, 13, 15, 17, 19, 21, 23, 25]"
            ]
          },
          "metadata": {},
          "execution_count": 23
        }
      ]
    },
    {
      "cell_type": "markdown",
      "source": [
        "## Q2. Why `*args` and `**kwargs` is used in some functions?  Create a function each for `*args` and `**kwargs` to demonstrate their use."
      ],
      "metadata": {
        "id": "OKmGvkZf46eK"
      }
    },
    {
      "cell_type": "markdown",
      "source": [
        "**Ans:**\n",
        "- *args is used to pass indefinite number of value arguments to a function.\n",
        "- **kwargs is used to pass indefinite number of key-value pair type of arguments to a function."
      ],
      "metadata": {
        "id": "esssqnaPGoP6"
      }
    },
    {
      "cell_type": "code",
      "source": [
        "def display_args(*args):\n",
        "    return args"
      ],
      "metadata": {
        "id": "3rk0e5pDJH7y"
      },
      "execution_count": null,
      "outputs": []
    },
    {
      "cell_type": "code",
      "source": [
        "display_args(4, 15, 21.45, \"shashi\", [1, 2, 3, 4])"
      ],
      "metadata": {
        "colab": {
          "base_uri": "https://localhost:8080/"
        },
        "id": "H85Dj-L2JZSP",
        "outputId": "7e56c0e5-7e5e-4f56-f66d-e1ccee98acac"
      },
      "execution_count": null,
      "outputs": [
        {
          "output_type": "execute_result",
          "data": {
            "text/plain": [
              "(4, 15, 21.45, 'shashi', [1, 2, 3, 4])"
            ]
          },
          "metadata": {},
          "execution_count": 25
        }
      ]
    },
    {
      "cell_type": "code",
      "source": [
        "def display_kwargs(**kwargs):\n",
        "    return kwargs"
      ],
      "metadata": {
        "id": "ovqpuQoiJvjl"
      },
      "execution_count": null,
      "outputs": []
    },
    {
      "cell_type": "code",
      "source": [
        "display_kwargs(one = 1, two = 2, three = 3)"
      ],
      "metadata": {
        "colab": {
          "base_uri": "https://localhost:8080/"
        },
        "id": "w6hMRuHNKblJ",
        "outputId": "adaf7e42-86c6-42be-a7ac-861dd28ec376"
      },
      "execution_count": null,
      "outputs": [
        {
          "output_type": "execute_result",
          "data": {
            "text/plain": [
              "{'one': 1, 'two': 2, 'three': 3}"
            ]
          },
          "metadata": {},
          "execution_count": 27
        }
      ]
    },
    {
      "cell_type": "markdown",
      "source": [
        "## Q3. What is an iterator in Python?  Name the method used to initialise the iterator object and the method used for iteration. Use these methods to print the first five elements of the given list [2, 4, 6, 8, 10, 12, 14, 16, 18, 20]."
      ],
      "metadata": {
        "id": "QhGDqTnz5exV"
      }
    },
    {
      "cell_type": "markdown",
      "source": [
        "**Ans:**  \n",
        "- An iterator is an object which can iterate over an iterable object.\n",
        "- The method used to initialise the iterator object is `iter()`\n",
        "- The method used for iteration is `next()`"
      ],
      "metadata": {
        "id": "WULyMFaUc5XD"
      }
    },
    {
      "cell_type": "code",
      "source": [
        "given_list = [2, 4, 6, 8, 10, 12, 14, 16, 18, 20]\n",
        "given_list = iter(given_list)"
      ],
      "metadata": {
        "id": "C5kkrQJnc4g2"
      },
      "execution_count": 5,
      "outputs": []
    },
    {
      "cell_type": "code",
      "source": [
        "next(given_list)"
      ],
      "metadata": {
        "colab": {
          "base_uri": "https://localhost:8080/"
        },
        "id": "JBBkbryTlIPn",
        "outputId": "73c512d3-5968-41c5-c530-e5684c10bc7a"
      },
      "execution_count": 6,
      "outputs": [
        {
          "output_type": "execute_result",
          "data": {
            "text/plain": [
              "2"
            ]
          },
          "metadata": {},
          "execution_count": 6
        }
      ]
    },
    {
      "cell_type": "code",
      "source": [
        "next(given_list)"
      ],
      "metadata": {
        "colab": {
          "base_uri": "https://localhost:8080/"
        },
        "id": "7dzj6c37mNeV",
        "outputId": "8c23e441-d593-4551-a99b-fcf2e4bb396b"
      },
      "execution_count": 7,
      "outputs": [
        {
          "output_type": "execute_result",
          "data": {
            "text/plain": [
              "4"
            ]
          },
          "metadata": {},
          "execution_count": 7
        }
      ]
    },
    {
      "cell_type": "code",
      "source": [
        "next(given_list)"
      ],
      "metadata": {
        "colab": {
          "base_uri": "https://localhost:8080/"
        },
        "id": "138wURG8mPFB",
        "outputId": "795897ca-debf-499e-8e08-ff6612fa5e2d"
      },
      "execution_count": 8,
      "outputs": [
        {
          "output_type": "execute_result",
          "data": {
            "text/plain": [
              "6"
            ]
          },
          "metadata": {},
          "execution_count": 8
        }
      ]
    },
    {
      "cell_type": "code",
      "source": [
        "next(given_list)"
      ],
      "metadata": {
        "colab": {
          "base_uri": "https://localhost:8080/"
        },
        "id": "1RjZKrOZmRtC",
        "outputId": "07782e4c-17ea-4bdd-b7fb-0231eb83ee7b"
      },
      "execution_count": 9,
      "outputs": [
        {
          "output_type": "execute_result",
          "data": {
            "text/plain": [
              "8"
            ]
          },
          "metadata": {},
          "execution_count": 9
        }
      ]
    },
    {
      "cell_type": "code",
      "source": [
        "next(given_list)"
      ],
      "metadata": {
        "colab": {
          "base_uri": "https://localhost:8080/"
        },
        "id": "5q7TVlKAmTri",
        "outputId": "d83e73b0-00d5-443b-f4a7-9e6c8d17142a"
      },
      "execution_count": 10,
      "outputs": [
        {
          "output_type": "execute_result",
          "data": {
            "text/plain": [
              "10"
            ]
          },
          "metadata": {},
          "execution_count": 10
        }
      ]
    },
    {
      "cell_type": "markdown",
      "source": [
        "## Q4. What is a generator function in python? Why yield keyword is used? Give an example of a generator function."
      ],
      "metadata": {
        "id": "z2p7gr1C6uuj"
      }
    },
    {
      "cell_type": "markdown",
      "source": [
        "**Ans:**  \n",
        "- A generator function is a special kind of function in Python that returns an iterator, which can be used to iterate over a sequence of values.  \n",
        "- The `yield` keyword is used to make a normal function work as a generator function.  It enables the function to generate a sequence of values one at a time."
      ],
      "metadata": {
        "id": "yrctICN1mcJq"
      }
    },
    {
      "cell_type": "code",
      "source": [
        "def generate_numbers(num):\n",
        "    for i in range(num):\n",
        "        yield i"
      ],
      "metadata": {
        "id": "uCZtj5CNxPuz"
      },
      "execution_count": 17,
      "outputs": []
    },
    {
      "cell_type": "code",
      "source": [
        "numbers = generate_numbers(5)"
      ],
      "metadata": {
        "id": "TO74jSXWxnVI"
      },
      "execution_count": 22,
      "outputs": []
    },
    {
      "cell_type": "code",
      "source": [
        "for number in numbers:\n",
        "    print(number)"
      ],
      "metadata": {
        "colab": {
          "base_uri": "https://localhost:8080/"
        },
        "id": "S8no8Oz4x12b",
        "outputId": "3dfb5e2d-ab83-4342-de6a-43d5d91488e4"
      },
      "execution_count": 23,
      "outputs": [
        {
          "output_type": "stream",
          "name": "stdout",
          "text": [
            "0\n",
            "1\n",
            "2\n",
            "3\n",
            "4\n"
          ]
        }
      ]
    },
    {
      "cell_type": "markdown",
      "source": [
        "## Q5. Create a generator function for prime numbers less than 1000. Use the next() method to print the first 20 prime numbers."
      ],
      "metadata": {
        "id": "fUUGQw5b63lz"
      }
    },
    {
      "cell_type": "code",
      "source": [
        "def prime_nums():\n",
        "    for i in range(2, 1000+1):\n",
        "        is_prime = True\n",
        "        for j in range(2, int(i ** 0.5) + 1):\n",
        "            if i % j == 0:\n",
        "                is_prime = False\n",
        "                break\n",
        "        if is_prime:\n",
        "            yield i "
      ],
      "metadata": {
        "id": "ucHHFbPoznPW"
      },
      "execution_count": 34,
      "outputs": []
    },
    {
      "cell_type": "code",
      "source": [
        "primes = prime_nums(20)"
      ],
      "metadata": {
        "id": "go9AuqLc7_7H"
      },
      "execution_count": 38,
      "outputs": []
    },
    {
      "cell_type": "code",
      "source": [
        "for n in primes:\n",
        "    print(n)"
      ],
      "metadata": {
        "colab": {
          "base_uri": "https://localhost:8080/"
        },
        "id": "9OHRipuV_H1V",
        "outputId": "2cca78df-65dd-4b0a-d8f7-3c21434a6d36"
      },
      "execution_count": 39,
      "outputs": [
        {
          "output_type": "stream",
          "name": "stdout",
          "text": [
            "2\n",
            "3\n",
            "5\n",
            "7\n",
            "11\n",
            "13\n",
            "17\n",
            "19\n"
          ]
        }
      ]
    },
    {
      "cell_type": "markdown",
      "source": [
        "## Q6. Write a python program to print the first 10 Fibonacci numbers using a while loop."
      ],
      "metadata": {
        "id": "jBpBoBCQ69eN"
      }
    },
    {
      "cell_type": "code",
      "source": [
        "def gen_fibonacci(term):\n",
        "    n1, n2, index = 0, 1, 0\n",
        "\n",
        "    while index < term:\n",
        "        print(n1)\n",
        "        n1, n2 = n2, n1 + n2\n",
        "        index += 1\n",
        "\n",
        "gen_fibonacci(10)"
      ],
      "metadata": {
        "colab": {
          "base_uri": "https://localhost:8080/"
        },
        "id": "p32f7Dn9dzxT",
        "outputId": "a343e33c-f2b4-4be3-9c9c-1169316ee406"
      },
      "execution_count": null,
      "outputs": [
        {
          "output_type": "stream",
          "name": "stdout",
          "text": [
            "0\n",
            "1\n",
            "1\n",
            "2\n",
            "3\n",
            "5\n",
            "8\n",
            "13\n",
            "21\n",
            "34\n"
          ]
        }
      ]
    },
    {
      "cell_type": "markdown",
      "source": [
        "## Q7. Write a List Comprehension to iterate through the given string: ‘pwskills’.  Expected output: ['p', 'w', 's', 'k', 'i', 'l', 'l', 's']"
      ],
      "metadata": {
        "id": "679rONUE7Crz"
      }
    },
    {
      "cell_type": "code",
      "source": [
        "[i for i in \"pwskills\"]"
      ],
      "metadata": {
        "colab": {
          "base_uri": "https://localhost:8080/"
        },
        "id": "Cm305544e6iY",
        "outputId": "5d9f5267-192f-485b-ec7c-700398fae81c"
      },
      "execution_count": null,
      "outputs": [
        {
          "output_type": "execute_result",
          "data": {
            "text/plain": [
              "['p', 'w', 's', 'k', 'i', 'l', 'l', 's']"
            ]
          },
          "metadata": {},
          "execution_count": 39
        }
      ]
    },
    {
      "cell_type": "markdown",
      "source": [
        "## Q8. Write a python program to check whether a given number is Palindrome or not using a while loop."
      ],
      "metadata": {
        "id": "dOhYQ2Hh7NIf"
      }
    },
    {
      "cell_type": "code",
      "source": [
        "def is_palindrome(num):\n",
        "    org_num = num\n",
        "    rev_num = 0\n",
        "\n",
        "    while num != 0:\n",
        "        # extracting the last digit\n",
        "        last_digit = num % 10\n",
        "        # creating the reversed number by appending the last digit\n",
        "        rev_num = rev_num * 10 + last_digit\n",
        "        # dropping off the digits from last\n",
        "        num = num // 10\n",
        "    # return the check status\n",
        "    return rev_num == org_num"
      ],
      "metadata": {
        "id": "1XHssk4chRL9"
      },
      "execution_count": null,
      "outputs": []
    },
    {
      "cell_type": "code",
      "source": [
        "number = int(input(\"Enter a number: \"))\n",
        "\n",
        "if is_palindrome(number):\n",
        "    print(\"It is a Palindrome number\")\n",
        "else:\n",
        "    print(\"It is not a Palindrome number\")"
      ],
      "metadata": {
        "colab": {
          "base_uri": "https://localhost:8080/"
        },
        "id": "cJwNo4JanqX4",
        "outputId": "7962785b-c686-4175-b24b-bcc578c8ec77"
      },
      "execution_count": null,
      "outputs": [
        {
          "output_type": "stream",
          "name": "stdout",
          "text": [
            "Enter a number: 1234\n",
            "It is not a Palindrome number\n"
          ]
        }
      ]
    },
    {
      "cell_type": "markdown",
      "source": [
        "## Q9. Write a code to print odd numbers from 1 to 100 using list comprehension.\n",
        "- Note: Use a list comprehension to create a list from 1 to 100 and use another List comprehension to filter\n",
        "out odd numbers."
      ],
      "metadata": {
        "id": "j84sTko97QAb"
      }
    },
    {
      "cell_type": "code",
      "source": [
        "numbers = [i for i in range(1, 101)]"
      ],
      "metadata": {
        "id": "XoJaDZw5k4ZE"
      },
      "execution_count": null,
      "outputs": []
    },
    {
      "cell_type": "code",
      "source": [
        "[i for i in numbers if i % 2 != 0]"
      ],
      "metadata": {
        "colab": {
          "base_uri": "https://localhost:8080/"
        },
        "id": "ubzBFxEuk6pk",
        "outputId": "c2022960-8bac-4539-f617-f00b9925e64c"
      },
      "execution_count": null,
      "outputs": [
        {
          "output_type": "execute_result",
          "data": {
            "text/plain": [
              "[1,\n",
              " 3,\n",
              " 5,\n",
              " 7,\n",
              " 9,\n",
              " 11,\n",
              " 13,\n",
              " 15,\n",
              " 17,\n",
              " 19,\n",
              " 21,\n",
              " 23,\n",
              " 25,\n",
              " 27,\n",
              " 29,\n",
              " 31,\n",
              " 33,\n",
              " 35,\n",
              " 37,\n",
              " 39,\n",
              " 41,\n",
              " 43,\n",
              " 45,\n",
              " 47,\n",
              " 49,\n",
              " 51,\n",
              " 53,\n",
              " 55,\n",
              " 57,\n",
              " 59,\n",
              " 61,\n",
              " 63,\n",
              " 65,\n",
              " 67,\n",
              " 69,\n",
              " 71,\n",
              " 73,\n",
              " 75,\n",
              " 77,\n",
              " 79,\n",
              " 81,\n",
              " 83,\n",
              " 85,\n",
              " 87,\n",
              " 89,\n",
              " 91,\n",
              " 93,\n",
              " 95,\n",
              " 97,\n",
              " 99]"
            ]
          },
          "metadata": {},
          "execution_count": 65
        }
      ]
    },
    {
      "cell_type": "code",
      "source": [],
      "metadata": {
        "id": "bFqNB4O4qP0p"
      },
      "execution_count": null,
      "outputs": []
    }
  ]
}