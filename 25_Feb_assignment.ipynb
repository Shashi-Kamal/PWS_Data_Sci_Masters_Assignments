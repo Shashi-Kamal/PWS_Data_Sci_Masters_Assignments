{
 "cells": [
  {
   "cell_type": "markdown",
   "id": "e8bf4aba-8197-4230-a469-f23b72989604",
   "metadata": {
    "jp-MarkdownHeadingCollapsed": true,
    "tags": []
   },
   "source": [
    "## Consider following code to answer further questions:\n",
    "\n",
    "```python\n",
    "import pandas as pd\n",
    "course_name = [‘Data Science’, ‘Machine Learning’, ‘Big Data’, ‘Data Engineer’]\n",
    "duration = [2,3,6,4]\n",
    "df = pd.DataFrame(data = {‘course_name’ : course_name, ‘duration’ : duration})\n",
    "```\n",
    "\n",
    "## Q1. Write a code to print the data present in the second row of the dataframe, df."
   ]
  },
  {
   "cell_type": "code",
   "execution_count": 1,
   "id": "054b5757-fd49-41d4-ba1e-0b36bd608b4c",
   "metadata": {
    "tags": []
   },
   "outputs": [],
   "source": [
    "import pandas as pd"
   ]
  },
  {
   "cell_type": "code",
   "execution_count": 3,
   "id": "326dc0a9-9850-4b61-8a8a-b01561b501a8",
   "metadata": {
    "tags": []
   },
   "outputs": [],
   "source": [
    "course_name = ['Data Science', 'Machine Learning', 'Big Data', 'Data Engineer']\n",
    "duration = [2,3,6,4]\n",
    "df = pd.DataFrame(data = {'course_name' : course_name, 'duration' : duration})"
   ]
  },
  {
   "cell_type": "code",
   "execution_count": 4,
   "id": "151a93c0-7f15-4c39-9fd9-4b4e966aaee5",
   "metadata": {
    "tags": []
   },
   "outputs": [
    {
     "data": {
      "text/html": [
       "<div>\n",
       "<style scoped>\n",
       "    .dataframe tbody tr th:only-of-type {\n",
       "        vertical-align: middle;\n",
       "    }\n",
       "\n",
       "    .dataframe tbody tr th {\n",
       "        vertical-align: top;\n",
       "    }\n",
       "\n",
       "    .dataframe thead th {\n",
       "        text-align: right;\n",
       "    }\n",
       "</style>\n",
       "<table border=\"1\" class=\"dataframe\">\n",
       "  <thead>\n",
       "    <tr style=\"text-align: right;\">\n",
       "      <th></th>\n",
       "      <th>course_name</th>\n",
       "      <th>duration</th>\n",
       "    </tr>\n",
       "  </thead>\n",
       "  <tbody>\n",
       "    <tr>\n",
       "      <th>0</th>\n",
       "      <td>Data Science</td>\n",
       "      <td>2</td>\n",
       "    </tr>\n",
       "    <tr>\n",
       "      <th>1</th>\n",
       "      <td>Machine Learning</td>\n",
       "      <td>3</td>\n",
       "    </tr>\n",
       "    <tr>\n",
       "      <th>2</th>\n",
       "      <td>Big Data</td>\n",
       "      <td>6</td>\n",
       "    </tr>\n",
       "    <tr>\n",
       "      <th>3</th>\n",
       "      <td>Data Engineer</td>\n",
       "      <td>4</td>\n",
       "    </tr>\n",
       "  </tbody>\n",
       "</table>\n",
       "</div>"
      ],
      "text/plain": [
       "        course_name  duration\n",
       "0      Data Science         2\n",
       "1  Machine Learning         3\n",
       "2          Big Data         6\n",
       "3     Data Engineer         4"
      ]
     },
     "execution_count": 4,
     "metadata": {},
     "output_type": "execute_result"
    }
   ],
   "source": [
    "df"
   ]
  },
  {
   "cell_type": "code",
   "execution_count": 6,
   "id": "ad9c5dce-c3fc-4647-92ea-07c2114bb4cd",
   "metadata": {
    "tags": []
   },
   "outputs": [
    {
     "data": {
      "text/plain": [
       "course_name    Machine Learning\n",
       "duration                      3\n",
       "Name: 1, dtype: object"
      ]
     },
     "execution_count": 6,
     "metadata": {},
     "output_type": "execute_result"
    }
   ],
   "source": [
    "df.iloc[1]"
   ]
  },
  {
   "cell_type": "markdown",
   "id": "42ab2652-4256-49e3-9a2d-6901fee8d3e0",
   "metadata": {
    "jp-MarkdownHeadingCollapsed": true,
    "tags": []
   },
   "source": [
    "## Q2. What is the difference between the functions loc and iloc in pandas.DataFrame?"
   ]
  },
  {
   "cell_type": "markdown",
   "id": "42a071b3-858e-4e86-8e9a-ba1598edf329",
   "metadata": {},
   "source": [
    "### Ans:\n",
    "- `loc[]`\n",
    "    - it is used to access the rows of a Pandas Dataframe or Series by their index label.\n",
    "- `iloc[]`\n",
    "    - it is used to access the rows of a Pandas Dataframe or Series by their index number."
   ]
  },
  {
   "cell_type": "markdown",
   "id": "b35f3d6e-d3d1-4c5e-b166-cf5fb61fa933",
   "metadata": {
    "jp-MarkdownHeadingCollapsed": true,
    "tags": []
   },
   "source": [
    "## Q3. Reindex the given dataframe using a variable, reindex = [3,0,1,2] and store it in the variable, new_df then find the output for both new_df.loc[2] and new_df.iloc[2].\n",
    "\n",
    "Did you observe any difference in both the outputs? If so then explain it."
   ]
  },
  {
   "cell_type": "code",
   "execution_count": 7,
   "id": "21357552-de6e-47cf-b6f8-2d118d7c103b",
   "metadata": {
    "tags": []
   },
   "outputs": [],
   "source": [
    "reindex = [3, 0, 1, 2]"
   ]
  },
  {
   "cell_type": "code",
   "execution_count": 8,
   "id": "8950a5fd-682d-4ca5-95c0-9c569d3eac47",
   "metadata": {
    "tags": []
   },
   "outputs": [],
   "source": [
    "new_df = df.reindex(reindex)"
   ]
  },
  {
   "cell_type": "code",
   "execution_count": 9,
   "id": "f5ad41ab-16ba-4cbb-8954-ec07e059bce1",
   "metadata": {
    "tags": []
   },
   "outputs": [
    {
     "data": {
      "text/html": [
       "<div>\n",
       "<style scoped>\n",
       "    .dataframe tbody tr th:only-of-type {\n",
       "        vertical-align: middle;\n",
       "    }\n",
       "\n",
       "    .dataframe tbody tr th {\n",
       "        vertical-align: top;\n",
       "    }\n",
       "\n",
       "    .dataframe thead th {\n",
       "        text-align: right;\n",
       "    }\n",
       "</style>\n",
       "<table border=\"1\" class=\"dataframe\">\n",
       "  <thead>\n",
       "    <tr style=\"text-align: right;\">\n",
       "      <th></th>\n",
       "      <th>course_name</th>\n",
       "      <th>duration</th>\n",
       "    </tr>\n",
       "  </thead>\n",
       "  <tbody>\n",
       "    <tr>\n",
       "      <th>3</th>\n",
       "      <td>Data Engineer</td>\n",
       "      <td>4</td>\n",
       "    </tr>\n",
       "    <tr>\n",
       "      <th>0</th>\n",
       "      <td>Data Science</td>\n",
       "      <td>2</td>\n",
       "    </tr>\n",
       "    <tr>\n",
       "      <th>1</th>\n",
       "      <td>Machine Learning</td>\n",
       "      <td>3</td>\n",
       "    </tr>\n",
       "    <tr>\n",
       "      <th>2</th>\n",
       "      <td>Big Data</td>\n",
       "      <td>6</td>\n",
       "    </tr>\n",
       "  </tbody>\n",
       "</table>\n",
       "</div>"
      ],
      "text/plain": [
       "        course_name  duration\n",
       "3     Data Engineer         4\n",
       "0      Data Science         2\n",
       "1  Machine Learning         3\n",
       "2          Big Data         6"
      ]
     },
     "execution_count": 9,
     "metadata": {},
     "output_type": "execute_result"
    }
   ],
   "source": [
    "new_df"
   ]
  },
  {
   "cell_type": "code",
   "execution_count": 10,
   "id": "1eacf026-9c7a-4d32-94db-95b0abb758e7",
   "metadata": {
    "tags": []
   },
   "outputs": [
    {
     "data": {
      "text/plain": [
       "course_name    Big Data\n",
       "duration              6\n",
       "Name: 2, dtype: object"
      ]
     },
     "execution_count": 10,
     "metadata": {},
     "output_type": "execute_result"
    }
   ],
   "source": [
    "new_df.loc[2]"
   ]
  },
  {
   "cell_type": "code",
   "execution_count": 11,
   "id": "63ac0dc3-00c6-4fec-b4f7-76560d7d5cb5",
   "metadata": {
    "tags": []
   },
   "outputs": [
    {
     "data": {
      "text/plain": [
       "course_name    Machine Learning\n",
       "duration                      3\n",
       "Name: 1, dtype: object"
      ]
     },
     "execution_count": 11,
     "metadata": {},
     "output_type": "execute_result"
    }
   ],
   "source": [
    "new_df.iloc[2]"
   ]
  },
  {
   "cell_type": "markdown",
   "id": "e53fc59f-c34f-478b-86a6-763b92a0e9f1",
   "metadata": {},
   "source": [
    "- Yes, there's a difference in their outputs.  \n",
    "- Because, `loc[]` tries to fetch the row of a dataframe whose row label matches with the specified number to it.  \n",
    "- While `iloc[]` tries to fecth the row of a dataframe whose row position matches with the specified number to it."
   ]
  },
  {
   "cell_type": "markdown",
   "id": "7c90a014-afd3-4cce-b6e9-0e2bb87b95a8",
   "metadata": {
    "jp-MarkdownHeadingCollapsed": true,
    "tags": []
   },
   "source": [
    "## Consider the below code to answer further questions:\n",
    "\n",
    "```python\n",
    "import pandas as pd\n",
    "import numpy as np\n",
    "columns = ['column_1', 'column_2', 'column_3', 'column_4', 'column_5', 'column_6']\n",
    "indices = [1,2,3,4,5,6]\n",
    "#Creating a dataframe:\n",
    "df1 = pd.DataFrame(np.random.rand(6,6), columns = columns, index = indices)\n",
    "```"
   ]
  },
  {
   "cell_type": "markdown",
   "id": "275a0242-d068-4ead-9c81-a3fd38793a2a",
   "metadata": {
    "jp-MarkdownHeadingCollapsed": true,
    "tags": []
   },
   "source": [
    "## Q4. Write a code to find the following statistical measurements for the above dataframe `df1`:\n",
    "- (i) mean of each and every column present in the dataframe.\n",
    "- (ii) standard deviation of column, ‘column_2’"
   ]
  },
  {
   "cell_type": "code",
   "execution_count": 12,
   "id": "12431e7d-4c5d-4382-b41a-99d54744f429",
   "metadata": {
    "tags": []
   },
   "outputs": [],
   "source": [
    "import numpy as np"
   ]
  },
  {
   "cell_type": "code",
   "execution_count": 30,
   "id": "3b608c09-ba2f-482c-9786-8bbe0d598f46",
   "metadata": {
    "tags": []
   },
   "outputs": [],
   "source": [
    "columns = ['column_1', 'column_2', 'column_3', 'column_4', 'column_5', 'column_6']\n",
    "indices = [1, 2, 3, 4, 5, 6]"
   ]
  },
  {
   "cell_type": "code",
   "execution_count": 31,
   "id": "84ed55b6-ce78-447f-b448-81f2560cb207",
   "metadata": {
    "tags": []
   },
   "outputs": [],
   "source": [
    "df1 = pd.DataFrame(np.random.rand(6,6), columns = columns, index = indices)"
   ]
  },
  {
   "cell_type": "code",
   "execution_count": 32,
   "id": "ee261a21-f032-4858-a91b-19044f850e4f",
   "metadata": {
    "tags": []
   },
   "outputs": [
    {
     "data": {
      "text/html": [
       "<div>\n",
       "<style scoped>\n",
       "    .dataframe tbody tr th:only-of-type {\n",
       "        vertical-align: middle;\n",
       "    }\n",
       "\n",
       "    .dataframe tbody tr th {\n",
       "        vertical-align: top;\n",
       "    }\n",
       "\n",
       "    .dataframe thead th {\n",
       "        text-align: right;\n",
       "    }\n",
       "</style>\n",
       "<table border=\"1\" class=\"dataframe\">\n",
       "  <thead>\n",
       "    <tr style=\"text-align: right;\">\n",
       "      <th></th>\n",
       "      <th>column_1</th>\n",
       "      <th>column_2</th>\n",
       "      <th>column_3</th>\n",
       "      <th>column_4</th>\n",
       "      <th>column_5</th>\n",
       "      <th>column_6</th>\n",
       "    </tr>\n",
       "  </thead>\n",
       "  <tbody>\n",
       "    <tr>\n",
       "      <th>1</th>\n",
       "      <td>0.624625</td>\n",
       "      <td>0.589639</td>\n",
       "      <td>0.615281</td>\n",
       "      <td>0.678865</td>\n",
       "      <td>0.950097</td>\n",
       "      <td>0.760678</td>\n",
       "    </tr>\n",
       "    <tr>\n",
       "      <th>2</th>\n",
       "      <td>0.923829</td>\n",
       "      <td>0.931174</td>\n",
       "      <td>0.266657</td>\n",
       "      <td>0.205797</td>\n",
       "      <td>0.922605</td>\n",
       "      <td>0.215351</td>\n",
       "    </tr>\n",
       "    <tr>\n",
       "      <th>3</th>\n",
       "      <td>0.529218</td>\n",
       "      <td>0.637974</td>\n",
       "      <td>0.522201</td>\n",
       "      <td>0.522914</td>\n",
       "      <td>0.792592</td>\n",
       "      <td>0.801561</td>\n",
       "    </tr>\n",
       "    <tr>\n",
       "      <th>4</th>\n",
       "      <td>0.679326</td>\n",
       "      <td>0.955459</td>\n",
       "      <td>0.714326</td>\n",
       "      <td>0.606794</td>\n",
       "      <td>0.506145</td>\n",
       "      <td>0.449697</td>\n",
       "    </tr>\n",
       "    <tr>\n",
       "      <th>5</th>\n",
       "      <td>0.537069</td>\n",
       "      <td>0.402303</td>\n",
       "      <td>0.088928</td>\n",
       "      <td>0.659942</td>\n",
       "      <td>0.417822</td>\n",
       "      <td>0.684158</td>\n",
       "    </tr>\n",
       "    <tr>\n",
       "      <th>6</th>\n",
       "      <td>0.974555</td>\n",
       "      <td>0.248930</td>\n",
       "      <td>0.323758</td>\n",
       "      <td>0.251170</td>\n",
       "      <td>0.294985</td>\n",
       "      <td>0.458837</td>\n",
       "    </tr>\n",
       "  </tbody>\n",
       "</table>\n",
       "</div>"
      ],
      "text/plain": [
       "   column_1  column_2  column_3  column_4  column_5  column_6\n",
       "1  0.624625  0.589639  0.615281  0.678865  0.950097  0.760678\n",
       "2  0.923829  0.931174  0.266657  0.205797  0.922605  0.215351\n",
       "3  0.529218  0.637974  0.522201  0.522914  0.792592  0.801561\n",
       "4  0.679326  0.955459  0.714326  0.606794  0.506145  0.449697\n",
       "5  0.537069  0.402303  0.088928  0.659942  0.417822  0.684158\n",
       "6  0.974555  0.248930  0.323758  0.251170  0.294985  0.458837"
      ]
     },
     "execution_count": 32,
     "metadata": {},
     "output_type": "execute_result"
    }
   ],
   "source": [
    "df1"
   ]
  },
  {
   "cell_type": "code",
   "execution_count": 17,
   "id": "8368b543-2f92-405c-a162-6fd3a6e0d6bc",
   "metadata": {
    "tags": []
   },
   "outputs": [
    {
     "data": {
      "text/plain": [
       "column_1    0.511930\n",
       "column_2    0.696237\n",
       "column_3    0.694631\n",
       "column_4    0.436738\n",
       "column_5    0.588972\n",
       "column_6    0.507485\n",
       "dtype: float64"
      ]
     },
     "execution_count": 17,
     "metadata": {},
     "output_type": "execute_result"
    }
   ],
   "source": [
    "# to find mean of each column\n",
    "df1.mean()"
   ]
  },
  {
   "cell_type": "code",
   "execution_count": 18,
   "id": "dac44d2b-363c-498f-957c-20311a65a159",
   "metadata": {
    "tags": []
   },
   "outputs": [
    {
     "data": {
      "text/plain": [
       "0.1716317011315423"
      ]
     },
     "execution_count": 18,
     "metadata": {},
     "output_type": "execute_result"
    }
   ],
   "source": [
    "# to find the std dev of 'column_2'\n",
    "df1[\"column_2\"].std()"
   ]
  },
  {
   "cell_type": "markdown",
   "id": "d180befa-1a36-4698-bbb4-8ae2be06ef7e",
   "metadata": {
    "jp-MarkdownHeadingCollapsed": true,
    "tags": []
   },
   "source": [
    "## Q5. Replace the data present in the second row of column, ‘column_2’ by a string variable then find the mean of column, column_2.\n",
    "\n",
    "If you are getting errors in executing it then explain why.  \n",
    "[Hint: To replace the data use df1.loc[] and equate this to string data of your choice.]"
   ]
  },
  {
   "cell_type": "code",
   "execution_count": 33,
   "id": "a38503ec-3ecd-4865-8fcb-caca5dfcfad9",
   "metadata": {
    "tags": []
   },
   "outputs": [],
   "source": [
    "df1.loc[2, \"column_2\"] = \"Hello\""
   ]
  },
  {
   "cell_type": "code",
   "execution_count": 34,
   "id": "56328aa2-261e-4051-a8a0-024f20cc945f",
   "metadata": {
    "tags": []
   },
   "outputs": [
    {
     "data": {
      "text/html": [
       "<div>\n",
       "<style scoped>\n",
       "    .dataframe tbody tr th:only-of-type {\n",
       "        vertical-align: middle;\n",
       "    }\n",
       "\n",
       "    .dataframe tbody tr th {\n",
       "        vertical-align: top;\n",
       "    }\n",
       "\n",
       "    .dataframe thead th {\n",
       "        text-align: right;\n",
       "    }\n",
       "</style>\n",
       "<table border=\"1\" class=\"dataframe\">\n",
       "  <thead>\n",
       "    <tr style=\"text-align: right;\">\n",
       "      <th></th>\n",
       "      <th>column_1</th>\n",
       "      <th>column_2</th>\n",
       "      <th>column_3</th>\n",
       "      <th>column_4</th>\n",
       "      <th>column_5</th>\n",
       "      <th>column_6</th>\n",
       "    </tr>\n",
       "  </thead>\n",
       "  <tbody>\n",
       "    <tr>\n",
       "      <th>1</th>\n",
       "      <td>0.624625</td>\n",
       "      <td>0.589639</td>\n",
       "      <td>0.615281</td>\n",
       "      <td>0.678865</td>\n",
       "      <td>0.950097</td>\n",
       "      <td>0.760678</td>\n",
       "    </tr>\n",
       "    <tr>\n",
       "      <th>2</th>\n",
       "      <td>0.923829</td>\n",
       "      <td>Hello</td>\n",
       "      <td>0.266657</td>\n",
       "      <td>0.205797</td>\n",
       "      <td>0.922605</td>\n",
       "      <td>0.215351</td>\n",
       "    </tr>\n",
       "    <tr>\n",
       "      <th>3</th>\n",
       "      <td>0.529218</td>\n",
       "      <td>0.637974</td>\n",
       "      <td>0.522201</td>\n",
       "      <td>0.522914</td>\n",
       "      <td>0.792592</td>\n",
       "      <td>0.801561</td>\n",
       "    </tr>\n",
       "    <tr>\n",
       "      <th>4</th>\n",
       "      <td>0.679326</td>\n",
       "      <td>0.955459</td>\n",
       "      <td>0.714326</td>\n",
       "      <td>0.606794</td>\n",
       "      <td>0.506145</td>\n",
       "      <td>0.449697</td>\n",
       "    </tr>\n",
       "    <tr>\n",
       "      <th>5</th>\n",
       "      <td>0.537069</td>\n",
       "      <td>0.402303</td>\n",
       "      <td>0.088928</td>\n",
       "      <td>0.659942</td>\n",
       "      <td>0.417822</td>\n",
       "      <td>0.684158</td>\n",
       "    </tr>\n",
       "    <tr>\n",
       "      <th>6</th>\n",
       "      <td>0.974555</td>\n",
       "      <td>0.24893</td>\n",
       "      <td>0.323758</td>\n",
       "      <td>0.251170</td>\n",
       "      <td>0.294985</td>\n",
       "      <td>0.458837</td>\n",
       "    </tr>\n",
       "  </tbody>\n",
       "</table>\n",
       "</div>"
      ],
      "text/plain": [
       "   column_1  column_2  column_3  column_4  column_5  column_6\n",
       "1  0.624625  0.589639  0.615281  0.678865  0.950097  0.760678\n",
       "2  0.923829     Hello  0.266657  0.205797  0.922605  0.215351\n",
       "3  0.529218  0.637974  0.522201  0.522914  0.792592  0.801561\n",
       "4  0.679326  0.955459  0.714326  0.606794  0.506145  0.449697\n",
       "5  0.537069  0.402303  0.088928  0.659942  0.417822  0.684158\n",
       "6  0.974555   0.24893  0.323758  0.251170  0.294985  0.458837"
      ]
     },
     "execution_count": 34,
     "metadata": {},
     "output_type": "execute_result"
    }
   ],
   "source": [
    "df1"
   ]
  },
  {
   "cell_type": "code",
   "execution_count": null,
   "id": "8768e2b3-bd9b-419d-961b-ea32bf67cffd",
   "metadata": {},
   "outputs": [],
   "source": [
    "# the following gives error!\n",
    "df1[\"column_2\"].mean()"
   ]
  },
  {
   "cell_type": "markdown",
   "id": "f326564a-08cb-470a-90e6-e9a6a10daaca",
   "metadata": {},
   "source": [
    "Yes, it gives errors.  Because, the mean() cannot be applied on a column containing string data.  It produces a result, only if the column contains numeric data in it."
   ]
  },
  {
   "cell_type": "markdown",
   "id": "9dfdde19-879e-404b-a8cb-4c5770b5abbb",
   "metadata": {
    "jp-MarkdownHeadingCollapsed": true,
    "tags": []
   },
   "source": [
    "## Q6. What do you understand about the windows function in pandas and list the types of windows functions?"
   ]
  },
  {
   "cell_type": "markdown",
   "id": "f72b1f60-6525-4d2c-90b1-cff09e0ac7cd",
   "metadata": {},
   "source": [
    "### Ans:\n",
    "- **The window functions:**\n",
    "    - allow us to perform calculations on a Dataframe or Series by taking a sliding window of rows and applying the calculation to the data values within the window.\n",
    "    - the window keeps moving along the rows and the calculation is repeated for each position of the window, until the end of the row is reached.\n",
    "    \n",
    "    -  **Types of window functions:**\n",
    "        - Rolling window\n",
    "        - Weighted window\n",
    "        - Expanding window\n",
    "        - Exponentially Weighted window"
   ]
  },
  {
   "cell_type": "markdown",
   "id": "e5aaeabe-ec3d-4a74-ae01-94fa7da63bdc",
   "metadata": {
    "jp-MarkdownHeadingCollapsed": true,
    "tags": []
   },
   "source": [
    "## Q7. Write a code to print only the current month and year at the time of answering this question.  \n",
    "[Hint: Use pandas.datetime function]"
   ]
  },
  {
   "cell_type": "code",
   "execution_count": 36,
   "id": "d3de3304-48e2-4409-8df4-898e04f438ee",
   "metadata": {
    "tags": []
   },
   "outputs": [],
   "source": [
    "from datetime import datetime"
   ]
  },
  {
   "cell_type": "code",
   "execution_count": 37,
   "id": "f08c8293-1927-48cb-8a1c-646e43542ba4",
   "metadata": {
    "tags": []
   },
   "outputs": [],
   "source": [
    "now = datetime.now()"
   ]
  },
  {
   "cell_type": "code",
   "execution_count": 72,
   "id": "ccd23c31-6ba3-4b38-a0ca-160f41cfc4b4",
   "metadata": {
    "tags": []
   },
   "outputs": [],
   "source": [
    "current_month = now.strftime('%B')"
   ]
  },
  {
   "cell_type": "code",
   "execution_count": 73,
   "id": "8a28d08d-7d89-4f62-884c-2d2289ced245",
   "metadata": {
    "tags": []
   },
   "outputs": [
    {
     "name": "stdout",
     "output_type": "stream",
     "text": [
      "The current month is March\n"
     ]
    }
   ],
   "source": [
    "print(f\"The current month is {current_month}\")"
   ]
  },
  {
   "cell_type": "code",
   "execution_count": 61,
   "id": "48ae5c14-5f22-47ba-ac9f-e34434d40b1b",
   "metadata": {
    "tags": []
   },
   "outputs": [],
   "source": [
    "current_year = now.year"
   ]
  },
  {
   "cell_type": "code",
   "execution_count": 64,
   "id": "759373e4-5a35-455d-9e90-1032e45f31cd",
   "metadata": {
    "tags": []
   },
   "outputs": [
    {
     "name": "stdout",
     "output_type": "stream",
     "text": [
      "The current year is 2023\n"
     ]
    }
   ],
   "source": [
    "print(f\"The current year is {current_year}\")"
   ]
  },
  {
   "cell_type": "markdown",
   "id": "abf88795-cf11-4ee0-9d56-51fef34ee06b",
   "metadata": {
    "jp-MarkdownHeadingCollapsed": true,
    "tags": []
   },
   "source": [
    "## Q8. Write a Python program that takes in two dates as input (in the format YYYY-MM-DD) and calculates the difference between them in days, hours, and minutes using Pandas time delta. The program should prompt the user to enter the dates and display the result."
   ]
  },
  {
   "cell_type": "code",
   "execution_count": 97,
   "id": "70e173c1-33de-4970-9819-2c940a1768da",
   "metadata": {
    "tags": []
   },
   "outputs": [
    {
     "name": "stdin",
     "output_type": "stream",
     "text": [
      "Enter the first date (YYYY-MM-DD):  2022-01-01 12:00:00\n"
     ]
    }
   ],
   "source": [
    "date_1 = input(\"Enter the first date (YYYY-MM-DD): \")"
   ]
  },
  {
   "cell_type": "code",
   "execution_count": 98,
   "id": "aeb768df-7f9d-4d05-823c-db98ccc22d85",
   "metadata": {
    "tags": []
   },
   "outputs": [
    {
     "name": "stdin",
     "output_type": "stream",
     "text": [
      "Enter the second date (YYYY-MM-DD):  2022-01-02 15:30:00\n"
     ]
    }
   ],
   "source": [
    "date_2 = input(\"Enter the second date (YYYY-MM-DD): \")"
   ]
  },
  {
   "cell_type": "code",
   "execution_count": 108,
   "id": "91448aa5-1569-4d98-8ce8-03a4ed6bdec0",
   "metadata": {
    "tags": []
   },
   "outputs": [],
   "source": [
    "def show_time_diff(date1, date2):\n",
    "    \"\"\"calculates the difference between two dates in terms of days, hours and minutes\"\"\"\n",
    "    d1 = pd.to_datetime(date1)\n",
    "    d2 = pd.to_datetime(date2)\n",
    "    \n",
    "    diff = d2 - d1\n",
    "    \n",
    "    days = diff.days\n",
    "    hours = diff.seconds // 3600\n",
    "    minutes = (diff.seconds // 60) % 60\n",
    "    \n",
    "    print(f\"The difference between the two dates is {days} days, {hours} hours and {minutes} minutes.\")"
   ]
  },
  {
   "cell_type": "code",
   "execution_count": 107,
   "id": "3f5013a1-ae7c-4aa6-8932-4c019df1b9bf",
   "metadata": {
    "tags": []
   },
   "outputs": [
    {
     "name": "stdout",
     "output_type": "stream",
     "text": [
      "The difference between the two dates is 1 days, 3 hours and 30 minutes.\n"
     ]
    }
   ],
   "source": [
    "show_time_diff(date_1, date_2)"
   ]
  },
  {
   "cell_type": "markdown",
   "id": "a2be0c5c-ee88-469a-802c-7cb565e3cd96",
   "metadata": {
    "jp-MarkdownHeadingCollapsed": true,
    "tags": []
   },
   "source": [
    "## Q9. Write a Python program that reads a CSV file containing categorical data and converts a specified column to a categorical data type. The program should prompt the user to enter the file path, column name, and category order, and then display the sorted data."
   ]
  },
  {
   "cell_type": "code",
   "execution_count": 147,
   "id": "89446bef-04da-430b-8442-c5813bd45a82",
   "metadata": {
    "tags": []
   },
   "outputs": [],
   "source": [
    "def categorize_df_by_sp_col():\n",
    "    \"\"\"Takes a csv file containing categorical data, converts a specified column into a categorical data type, and sorts the categorical column according to the user-defined category order\"\"\"\n",
    "#     takes a csv file as an input\n",
    "    file_path = input(\"Enter the file path: \")\n",
    "    cat_df = pd.read_csv(file_path)\n",
    "    \n",
    "#     takes a column name and converts it into a categorical type\n",
    "    col_name = input(\"Enter the column name: \")\n",
    "    cat_df[col_name] = cat_df[col_name].astype(\"category\")\n",
    "    \n",
    "#     takes the category order in comma separated form and converts it into a list of category labels\n",
    "    cat_order_string = input(\"Enter the category order (separated by comma): \")\n",
    "    cat_order = cat_order_string.split(\",\")\n",
    "    \n",
    "#     applies the category order over the categorical column\n",
    "    cat_df[col_name] = cat_df[col_name].cat.set_categories(cat_order, ordered=True)\n",
    "    \n",
    "    return cat_df.sort_values(by=col_name)"
   ]
  },
  {
   "cell_type": "code",
   "execution_count": 150,
   "id": "3a99f804-a0d9-406e-bb55-6785d3b6a131",
   "metadata": {
    "tags": []
   },
   "outputs": [
    {
     "name": "stdin",
     "output_type": "stream",
     "text": [
      "Enter the file path:  cat.csv\n",
      "Enter the column name:  Degree\n",
      "Enter the category order (separated by comma):  Fresher,Graduate,Post Graduate\n"
     ]
    },
    {
     "data": {
      "text/html": [
       "<div>\n",
       "<style scoped>\n",
       "    .dataframe tbody tr th:only-of-type {\n",
       "        vertical-align: middle;\n",
       "    }\n",
       "\n",
       "    .dataframe tbody tr th {\n",
       "        vertical-align: top;\n",
       "    }\n",
       "\n",
       "    .dataframe thead th {\n",
       "        text-align: right;\n",
       "    }\n",
       "</style>\n",
       "<table border=\"1\" class=\"dataframe\">\n",
       "  <thead>\n",
       "    <tr style=\"text-align: right;\">\n",
       "      <th></th>\n",
       "      <th>Name</th>\n",
       "      <th>Degree</th>\n",
       "    </tr>\n",
       "  </thead>\n",
       "  <tbody>\n",
       "    <tr>\n",
       "      <th>3</th>\n",
       "      <td>Bikki</td>\n",
       "      <td>Fresher</td>\n",
       "    </tr>\n",
       "    <tr>\n",
       "      <th>4</th>\n",
       "      <td>Rikki</td>\n",
       "      <td>Fresher</td>\n",
       "    </tr>\n",
       "    <tr>\n",
       "      <th>7</th>\n",
       "      <td>Neeta</td>\n",
       "      <td>Fresher</td>\n",
       "    </tr>\n",
       "    <tr>\n",
       "      <th>2</th>\n",
       "      <td>Nikki</td>\n",
       "      <td>Graduate</td>\n",
       "    </tr>\n",
       "    <tr>\n",
       "      <th>6</th>\n",
       "      <td>Geeta</td>\n",
       "      <td>Graduate</td>\n",
       "    </tr>\n",
       "    <tr>\n",
       "      <th>8</th>\n",
       "      <td>Meeta</td>\n",
       "      <td>Graduate</td>\n",
       "    </tr>\n",
       "    <tr>\n",
       "      <th>0</th>\n",
       "      <td>Liza</td>\n",
       "      <td>Post Graduate</td>\n",
       "    </tr>\n",
       "    <tr>\n",
       "      <th>1</th>\n",
       "      <td>Sasi</td>\n",
       "      <td>Post Graduate</td>\n",
       "    </tr>\n",
       "    <tr>\n",
       "      <th>5</th>\n",
       "      <td>Sreya</td>\n",
       "      <td>Post Graduate</td>\n",
       "    </tr>\n",
       "  </tbody>\n",
       "</table>\n",
       "</div>"
      ],
      "text/plain": [
       "    Name         Degree\n",
       "3  Bikki        Fresher\n",
       "4  Rikki        Fresher\n",
       "7  Neeta        Fresher\n",
       "2  Nikki       Graduate\n",
       "6  Geeta       Graduate\n",
       "8  Meeta       Graduate\n",
       "0   Liza  Post Graduate\n",
       "1   Sasi  Post Graduate\n",
       "5  Sreya  Post Graduate"
      ]
     },
     "execution_count": 150,
     "metadata": {},
     "output_type": "execute_result"
    }
   ],
   "source": [
    "categorize_df_by_sp_col()"
   ]
  },
  {
   "cell_type": "markdown",
   "id": "5ac06aad-d956-4127-bbad-7372eb35ccbc",
   "metadata": {
    "jp-MarkdownHeadingCollapsed": true,
    "tags": []
   },
   "source": [
    "## Q10. Write a Python program that reads a CSV file containing sales data for different products and visualizes the data using a stacked bar chart to show the sales of each product category over time. The program should prompt the user to enter the file path and display the chart."
   ]
  },
  {
   "cell_type": "code",
   "execution_count": 156,
   "id": "47548ca9-1a18-40a1-82eb-39faa78636d4",
   "metadata": {
    "tags": []
   },
   "outputs": [
    {
     "name": "stdin",
     "output_type": "stream",
     "text": [
      "Enter the file path:  sales_data.csv\n"
     ]
    },
    {
     "data": {
      "text/html": [
       "<div>\n",
       "<style scoped>\n",
       "    .dataframe tbody tr th:only-of-type {\n",
       "        vertical-align: middle;\n",
       "    }\n",
       "\n",
       "    .dataframe tbody tr th {\n",
       "        vertical-align: top;\n",
       "    }\n",
       "\n",
       "    .dataframe thead th {\n",
       "        text-align: right;\n",
       "    }\n",
       "</style>\n",
       "<table border=\"1\" class=\"dataframe\">\n",
       "  <thead>\n",
       "    <tr style=\"text-align: right;\">\n",
       "      <th></th>\n",
       "      <th>Product</th>\n",
       "      <th>Sales</th>\n",
       "    </tr>\n",
       "  </thead>\n",
       "  <tbody>\n",
       "    <tr>\n",
       "      <th>0</th>\n",
       "      <td>Laptop</td>\n",
       "      <td>1200</td>\n",
       "    </tr>\n",
       "    <tr>\n",
       "      <th>1</th>\n",
       "      <td>Smartphone</td>\n",
       "      <td>800</td>\n",
       "    </tr>\n",
       "    <tr>\n",
       "      <th>2</th>\n",
       "      <td>Tablet</td>\n",
       "      <td>600</td>\n",
       "    </tr>\n",
       "    <tr>\n",
       "      <th>3</th>\n",
       "      <td>Desktop</td>\n",
       "      <td>400</td>\n",
       "    </tr>\n",
       "    <tr>\n",
       "      <th>4</th>\n",
       "      <td>Smartwatch</td>\n",
       "      <td>300</td>\n",
       "    </tr>\n",
       "  </tbody>\n",
       "</table>\n",
       "</div>"
      ],
      "text/plain": [
       "      Product  Sales\n",
       "0      Laptop   1200\n",
       "1  Smartphone    800\n",
       "2      Tablet    600\n",
       "3     Desktop    400\n",
       "4  Smartwatch    300"
      ]
     },
     "execution_count": 156,
     "metadata": {},
     "output_type": "execute_result"
    }
   ],
   "source": [
    "file_path = input(\"Enter the file path: \")\n",
    "sales_df = pd.read_csv(file_path)\n",
    "sales_df"
   ]
  },
  {
   "cell_type": "code",
   "execution_count": 155,
   "id": "ac05148a-4bf5-48c7-a814-a6fd58999a15",
   "metadata": {
    "tags": []
   },
   "outputs": [
    {
     "data": {
      "text/plain": [
       "<Axes: >"
      ]
     },
     "execution_count": 155,
     "metadata": {},
     "output_type": "execute_result"
    },
    {
     "data": {
      "image/png": "[encoded data removed]",
      "text/plain": [
       "<Figure size 640x480 with 1 Axes>"
      ]
     },
     "metadata": {},
     "output_type": "display_data"
    }
   ],
   "source": [
    "sales_df.plot(kind=\"bar\", stacked=True)"
   ]
  },
  {
   "cell_type": "markdown",
   "id": "6744143f-aa0c-4ac4-bf7a-f2008c57df67",
   "metadata": {
    "jp-MarkdownHeadingCollapsed": true,
    "tags": []
   },
   "source": [
    "## Q11. You are given a CSV file containing student data that includes the student ID and their test score. Write a Python program that reads the CSV file, calculates the mean, median, and mode of the test scores, and displays the results in a table.\n",
    "\n",
    "The program should do the following:\n",
    "- Prompt the user to enter the file path of the CSV file containing the student data.\n",
    "- Read the CSV file into a Pandas DataFrame.\n",
    "- Calculate the mean, median, and mode of the test scores using Pandas tools.\n",
    "- Display the mean, median, and mode in a table.\n",
    "\n",
    "Assume the CSV file contains the following columns:\n",
    "- Student ID: The ID of the student.\n",
    "- Test Score: The score of the student's test.\n",
    "\n",
    "Example usage of the program:\n",
    "Enter the file path of the CSV file containing the student data: student_data.csv\n",
    "\n",
    "|Statistic|Value|\n",
    "|:-------:|:---:|\n",
    "|mean|79.6|\n",
    "|median|82|\n",
    "|mode|85, 90|\n",
    "\n",
    "Assume that the CSV file student_data.csv contains the following data:\n",
    "\n",
    "Student ID,Test Score\n",
    "1,85\n",
    "2,90\n",
    "3,80\n",
    "4,75\n",
    "5,85\n",
    "6,82\n",
    "7,78\n",
    "8,85\n",
    "9,90\n",
    "10,85\n",
    "\n",
    "The program should calculate the mean, median, and mode of the test scores and display the results in a table."
   ]
  },
  {
   "cell_type": "code",
   "execution_count": 157,
   "id": "9dc330c5-eccf-41a5-813d-f5ba88c596e0",
   "metadata": {
    "tags": []
   },
   "outputs": [
    {
     "name": "stdin",
     "output_type": "stream",
     "text": [
      "Enter the file path:  test_scores.csv\n"
     ]
    },
    {
     "data": {
      "text/html": [
       "<div>\n",
       "<style scoped>\n",
       "    .dataframe tbody tr th:only-of-type {\n",
       "        vertical-align: middle;\n",
       "    }\n",
       "\n",
       "    .dataframe tbody tr th {\n",
       "        vertical-align: top;\n",
       "    }\n",
       "\n",
       "    .dataframe thead th {\n",
       "        text-align: right;\n",
       "    }\n",
       "</style>\n",
       "<table border=\"1\" class=\"dataframe\">\n",
       "  <thead>\n",
       "    <tr style=\"text-align: right;\">\n",
       "      <th></th>\n",
       "      <th>Student ID</th>\n",
       "      <th>Test Score</th>\n",
       "    </tr>\n",
       "  </thead>\n",
       "  <tbody>\n",
       "    <tr>\n",
       "      <th>0</th>\n",
       "      <td>1</td>\n",
       "      <td>85</td>\n",
       "    </tr>\n",
       "    <tr>\n",
       "      <th>1</th>\n",
       "      <td>2</td>\n",
       "      <td>90</td>\n",
       "    </tr>\n",
       "    <tr>\n",
       "      <th>2</th>\n",
       "      <td>3</td>\n",
       "      <td>80</td>\n",
       "    </tr>\n",
       "    <tr>\n",
       "      <th>3</th>\n",
       "      <td>4</td>\n",
       "      <td>75</td>\n",
       "    </tr>\n",
       "    <tr>\n",
       "      <th>4</th>\n",
       "      <td>5</td>\n",
       "      <td>85</td>\n",
       "    </tr>\n",
       "    <tr>\n",
       "      <th>5</th>\n",
       "      <td>6</td>\n",
       "      <td>82</td>\n",
       "    </tr>\n",
       "    <tr>\n",
       "      <th>6</th>\n",
       "      <td>7</td>\n",
       "      <td>78</td>\n",
       "    </tr>\n",
       "    <tr>\n",
       "      <th>7</th>\n",
       "      <td>8</td>\n",
       "      <td>85</td>\n",
       "    </tr>\n",
       "    <tr>\n",
       "      <th>8</th>\n",
       "      <td>9</td>\n",
       "      <td>90</td>\n",
       "    </tr>\n",
       "    <tr>\n",
       "      <th>9</th>\n",
       "      <td>10</td>\n",
       "      <td>85</td>\n",
       "    </tr>\n",
       "  </tbody>\n",
       "</table>\n",
       "</div>"
      ],
      "text/plain": [
       "   Student ID  Test Score\n",
       "0           1          85\n",
       "1           2          90\n",
       "2           3          80\n",
       "3           4          75\n",
       "4           5          85\n",
       "5           6          82\n",
       "6           7          78\n",
       "7           8          85\n",
       "8           9          90\n",
       "9          10          85"
      ]
     },
     "execution_count": 157,
     "metadata": {},
     "output_type": "execute_result"
    }
   ],
   "source": [
    "file_path = input(\"Enter the file path: \")\n",
    "scores_df = pd.read_csv(file_path)\n",
    "scores_df"
   ]
  },
  {
   "cell_type": "code",
   "execution_count": 165,
   "id": "2f0dcd64-0459-4b2f-8548-d0e4cfd024bf",
   "metadata": {
    "tags": []
   },
   "outputs": [],
   "source": [
    "mean = scores_df[\"Test Score\"].mean()\n",
    "median = scores_df[\"Test Score\"].median()\n",
    "mode = scores_df[\"Test Score\"].mode().iloc[0]"
   ]
  },
  {
   "cell_type": "code",
   "execution_count": 166,
   "id": "75b89113-bd75-4580-a5bd-1b1e258c5e08",
   "metadata": {
    "tags": []
   },
   "outputs": [],
   "source": [
    "resut_df = pd.DataFrame({\n",
    "    \"Statistic\" : [\"mean\", \"median\", \"mode\"],\n",
    "    \"Value\" : [mean, median, mode]\n",
    "})"
   ]
  },
  {
   "cell_type": "code",
   "execution_count": 167,
   "id": "efb950e0-2021-44d4-9d6d-2f7205ad0e19",
   "metadata": {
    "tags": []
   },
   "outputs": [
    {
     "name": "stdout",
     "output_type": "stream",
     "text": [
      "  Statistic  Value\n",
      "0      mean   83.5\n",
      "1    median   85.0\n",
      "2      mode   85.0\n"
     ]
    }
   ],
   "source": [
    "print(resut_df)"
   ]
  },
  {
   "cell_type": "code",
   "execution_count": null,
   "id": "559eac8c-22d3-4ae1-a2e3-54576ff0fd37",
   "metadata": {},
   "outputs": [],
   "source": []
  }
 ],
 "metadata": {
  "kernelspec": {
   "display_name": "Python 3 (ipykernel)",
   "language": "python",
   "name": "python3"
  },
  "language_info": {
   "codemirror_mode": {
    "name": "ipython",
    "version": 3
   },
   "file_extension": ".py",
   "mimetype": "text/x-python",
   "name": "python",
   "nbconvert_exporter": "python",
   "pygments_lexer": "ipython3",
   "version": "3.11.2"
  }
 },
 "nbformat": 4,
 "nbformat_minor": 5
}
