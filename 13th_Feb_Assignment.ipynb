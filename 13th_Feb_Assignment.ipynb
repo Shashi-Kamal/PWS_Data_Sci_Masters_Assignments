{
  "cells": [
    {
      "cell_type": "markdown",
      "metadata": {
        "id": "MxTz0pPrSj2A"
      },
      "source": [
        "## Q1. Explain why we have to use the Exception class while creating a Custom Exception."
      ]
    },
    {
      "cell_type": "markdown",
      "metadata": {
        "id": "mH9QdyXPSj2F"
      },
      "source": [
        "### Ans:\n",
        "- In Python, the `Exception` class is a subclass of the class `BaseException`.\n",
        "- It provides a common interface for all exceptions, allowing them to be caught and handled in a proper way.\n",
        "- Therefore, by inheriting from the Exception class, while creating a custom exception, it ensures that our custom exception will also be caught and handled like any other exception."
      ]
    },
    {
      "cell_type": "markdown",
      "metadata": {
        "id": "Azt7IQKySj2H"
      },
      "source": [
        "## Q2. Write a python program to print Python Exception Hierarchy."
      ]
    },
    {
      "cell_type": "code",
      "execution_count": null,
      "metadata": {
        "id": "ZAUwskeVSj2I",
        "outputId": "b9587ec7-250b-48fe-8fd5-70cc2f2becd0"
      },
      "outputs": [
        {
          "name": "stdout",
          "output_type": "stream",
          "text": [
            "ArithmeticError\n",
            "AssertionError\n",
            "AttributeError\n",
            "BufferError\n",
            "EOFError\n",
            "ImportError\n",
            "LookupError\n",
            "MemoryError\n",
            "NameError\n",
            "OSError\n",
            "ReferenceError\n",
            "RuntimeError\n",
            "StopAsyncIteration\n",
            "StopIteration\n",
            "SyntaxError\n",
            "SystemError\n",
            "TypeError\n",
            "ValueError\n",
            "Warning\n",
            "ExceptionGroup\n",
            "_OptionError\n",
            "_Error\n",
            "error\n",
            "Error\n",
            "SubprocessError\n",
            "ZMQBaseError\n",
            "Error\n",
            "error\n",
            "PickleError\n",
            "_Stop\n",
            "TokenError\n",
            "StopTokenizing\n",
            "Error\n",
            "_GiveupOnSendfile\n",
            "Incomplete\n",
            "ClassFoundException\n",
            "EndOfBlock\n",
            "InvalidStateError\n",
            "LimitOverrunError\n",
            "QueueEmpty\n",
            "QueueFull\n",
            "error\n",
            "LZMAError\n",
            "RegistryError\n",
            "_GiveupOnFastCopy\n",
            "TraitError\n",
            "Empty\n",
            "Full\n",
            "ArgumentError\n",
            "COMError\n",
            "ReturnValueIgnoredError\n",
            "ArgumentError\n",
            "ArgumentTypeError\n",
            "ConfigError\n",
            "ConfigurableError\n",
            "ApplicationError\n",
            "InvalidPortNumber\n",
            "NoIPAddresses\n",
            "Error\n",
            "BadZipFile\n",
            "LargeZipFile\n",
            "MessageError\n",
            "DuplicateKernelError\n",
            "ErrorDuringImport\n",
            "NotOneValueFound\n",
            "KnownIssue\n",
            "VerifierFailure\n",
            "CannotEval\n",
            "OptionError\n",
            "BdbQuit\n",
            "Restart\n",
            "FindCmdError\n",
            "HomeDirError\n",
            "ProfileDirError\n",
            "IPythonCoreError\n",
            "InputRejected\n",
            "GetoptError\n",
            "ErrorToken\n",
            "PrefilterError\n",
            "AliasError\n",
            "Error\n",
            "Warning\n",
            "SpaceInInput\n",
            "DOMException\n",
            "ValidationError\n",
            "EditReadOnlyBuffer\n",
            "_Retry\n",
            "InvalidLayoutError\n",
            "HeightIsUnknownError\n",
            "GuardRejection\n",
            "ParserSyntaxError\n",
            "InternalParseError\n",
            "_PositionUpdatingFinished\n",
            "SimpleGetItemNotFound\n",
            "UncaughtAttributeError\n",
            "HasNoContext\n",
            "ParamIssue\n",
            "_JediError\n",
            "OnErrorLeaf\n",
            "InvalidPythonEnvironment\n",
            "HTTPException\n",
            "InteractivelyDefined\n",
            "KillEmbedded\n",
            "Error\n",
            "Error\n",
            "TimeoutExpired\n",
            "TimeoutAbandoned\n",
            "KeyReuseError\n",
            "UnknownKeyError\n",
            "LeakedCallbackError\n",
            "BadYieldError\n",
            "ReturnValueIgnoredError\n",
            "Return\n",
            "QueueEmpty\n",
            "QueueFull\n",
            "DebuggerInitializationError\n",
            "ExpatError\n",
            "Error\n",
            "error\n",
            "com_error\n",
            "internal_error\n",
            "ParseBaseException\n",
            "RecursiveGrammarException\n",
            "ResolutionError\n",
            "_Error\n",
            "UnableToResolveVariableException\n",
            "InvalidTypeInArgsException\n"
          ]
        }
      ],
      "source": [
        "for subclass in Exception.__subclasses__():\n",
        "    print(subclass.__name__)"
      ]
    },
    {
      "cell_type": "markdown",
      "metadata": {
        "id": "98FZzk2uSj2M"
      },
      "source": [
        "## Q3. What errors are defined in the `ArithmeticError` class? Explain any two with an example."
      ]
    },
    {
      "cell_type": "markdown",
      "metadata": {
        "id": "PPeOvBDXSj2M"
      },
      "source": [
        "### Ans:\n",
        "The **errors** defined under the `ArithmeticError` class, are:\n",
        "- `FloatingPointError`\n",
        "    - When a floating-point operation fails to produce a valid result.\n",
        "        - Division by Zero\n",
        "        - Overflow\n",
        "        - Underflow\n",
        "        - Invalid operation  \n",
        "        \n",
        "- `OverFlowError`\n",
        "    - When an arithmetic operation exceeds the maximum representable value for a numeric type.\n",
        "\n",
        "- `ZeroDivisionError`\n",
        "    - When a number gets divided by zero."
      ]
    },
    {
      "cell_type": "code",
      "execution_count": null,
      "metadata": {
        "id": "3smUfdHrSj2N",
        "outputId": "46607cc9-5e86-4776-cda0-9ddcb46aea5d"
      },
      "outputs": [
        {
          "name": "stdout",
          "output_type": "stream",
          "text": [
            "Error encountered: division by zero\n"
          ]
        }
      ],
      "source": [
        "# an example of \"ZeroDivisionError\"\n",
        "try:\n",
        "    result = 5/0\n",
        "except Exception as e:\n",
        "    print(\"Error encountered:\", e)\n",
        "else:\n",
        "    print(result)"
      ]
    },
    {
      "cell_type": "code",
      "source": [
        "# an example of \"FloatingPointError\"\n",
        "a = 1.0\n",
        "b = 0.0\n",
        "try:\n",
        "    c = a / b\n",
        "except Exception as e:\n",
        "    print(e)\n",
        "else:\n",
        "    print(c)"
      ],
      "metadata": {
        "colab": {
          "base_uri": "https://localhost:8080/"
        },
        "id": "HOdQOD59Sowx",
        "outputId": "8be2812c-cf50-4c57-a687-7c463a120286"
      },
      "execution_count": 2,
      "outputs": [
        {
          "output_type": "stream",
          "name": "stdout",
          "text": [
            "float division by zero\n"
          ]
        }
      ]
    },
    {
      "cell_type": "markdown",
      "metadata": {
        "id": "-qGuz9LaSj2P"
      },
      "source": [
        "## Q4. Why `LookupError` class is used? Explain with an example `KeyError` and `IndexError`."
      ]
    },
    {
      "cell_type": "markdown",
      "source": [
        "### Ans:\n",
        "`LookupError` class:\n",
        "- It is used to catch and handle all exceptions that occur when a lookup or indexing operation fails.\n",
        "- It includes subclasses like:\n",
        "    - `IndexError`\n",
        "        - raised when an index into a sequence is out of range.\n",
        "    - `KeyError`\n",
        "        - raised when a dictionary key is not found.\n",
        "    - `AttributeError`\n",
        "        - raised when an attribute is not found."
      ],
      "metadata": {
        "id": "sLKJ8EW-S3C4"
      }
    },
    {
      "cell_type": "code",
      "source": [
        "# example of \"IndexError\"\n",
        "list_1 = [4, 5, 9, 1, 7]\n",
        "\n",
        "try:\n",
        "    list_1.pop(5)\n",
        "except Exception as e:\n",
        "    print(e)"
      ],
      "metadata": {
        "colab": {
          "base_uri": "https://localhost:8080/"
        },
        "id": "aXdMPkCKWuol",
        "outputId": "a6c9d8ca-e021-4980-bc37-93ab2d538dc6"
      },
      "execution_count": 5,
      "outputs": [
        {
          "output_type": "stream",
          "name": "stdout",
          "text": [
            "pop index out of range\n"
          ]
        }
      ]
    },
    {
      "cell_type": "code",
      "source": [
        "# example of \"KeyError\"\n",
        "alpha_dict = {\n",
        "    \"a\" : \"apple\",\n",
        "    \"b\" : \"ball\",\n",
        "    \"c\" : \"cat\",\n",
        "    \"d\" : \"dog\",\n",
        "}\n",
        "\n",
        "try:\n",
        "    print(alpha_dict[\"e\"])\n",
        "except KeyError:\n",
        "    print(\"Key not found\")"
      ],
      "metadata": {
        "colab": {
          "base_uri": "https://localhost:8080/"
        },
        "id": "RU2UYMgOX4sx",
        "outputId": "4cd524bb-aa99-4f7c-a339-aa30e83d4590"
      },
      "execution_count": 17,
      "outputs": [
        {
          "output_type": "stream",
          "name": "stdout",
          "text": [
            "Key not found\n"
          ]
        }
      ]
    },
    {
      "cell_type": "markdown",
      "metadata": {
        "id": "2pj_OfEvSj2P"
      },
      "source": [
        "## Q5. Explain `ImportError`. What is `ModuleNotFoundError`?"
      ]
    },
    {
      "cell_type": "markdown",
      "source": [
        "### Ans:\n",
        "`ImportError` exception:\n",
        "- This exception is raised when an import statement fails to find a specified module or package.\n",
        "- This exception may get raised due to many reaseons:\n",
        "    - The module or package does not exist in the specified path.  \n",
        "    - The module or package exists, but there's an error in the module code, that prevents it from importing.  \n",
        "    - The module or package exists, but it depends on another module or package that cannot be found.\n",
        "\n",
        "`ModuleNotFoundError` exception:\n",
        "- This exception is a subclass of `ImportError` class.\n",
        "- It is more specific version of the generic `ImportError` error.\n",
        "- It is specifically raised when an imported module cannot be found in the system.\n",
        "\n",
        "**Example:**"
      ],
      "metadata": {
        "id": "Fdv5PGv5Zyw7"
      }
    },
    {
      "cell_type": "code",
      "source": [
        "# import non_existent_module\n",
        "try:\n",
        "    import non_existent_module\n",
        "except ModuleNotFoundError:\n",
        "    print(\"Module Not Found!\")"
      ],
      "metadata": {
        "colab": {
          "base_uri": "https://localhost:8080/"
        },
        "id": "yXsNw1cclu-d",
        "outputId": "deee7d66-85df-496d-c40e-f69480b11ffc"
      },
      "execution_count": 21,
      "outputs": [
        {
          "output_type": "stream",
          "name": "stdout",
          "text": [
            "Module Not Found!\n"
          ]
        }
      ]
    },
    {
      "cell_type": "markdown",
      "metadata": {
        "id": "xSqqTlglSj2Q"
      },
      "source": [
        "## Q6. List down some best practices for exception handling in Python."
      ]
    },
    {
      "cell_type": "markdown",
      "source": [
        "### Ans:\n",
        "Best practices for exception handling in Python,\n",
        "- Raise exceptions whenever appropriate.\n",
        "- Use `try` and `except` blocks to catch and handle exceptions.\n",
        "- Avoid using bare `except` statements, which catch all exceptions.\n",
        "- Use **specific exceptions** instead of general ones when possible.  This helps to catch and handle errors more accurately.\n",
        "- Provide informative error messages to the user or logging the error details.\n",
        "- Use `finally` blocks to clean up resources, such as closing files or database connections."
      ],
      "metadata": {
        "id": "kD9-sj7GmaVZ"
      }
    }
  ],
  "metadata": {
    "kernelspec": {
      "display_name": "Python 3",
      "language": "python",
      "name": "python3"
    },
    "language_info": {
      "codemirror_mode": {
        "name": "ipython",
        "version": 3
      },
      "file_extension": ".py",
      "mimetype": "text/x-python",
      "name": "python",
      "nbconvert_exporter": "python",
      "pygments_lexer": "ipython3",
      "version": "3.11.2"
    },
    "orig_nbformat": 4,
    "colab": {
      "provenance": [],
      "collapsed_sections": [
        "MxTz0pPrSj2A",
        "Azt7IQKySj2H",
        "98FZzk2uSj2M",
        "-qGuz9LaSj2P",
        "2pj_OfEvSj2P",
        "xSqqTlglSj2Q"
      ]
    }
  },
  "nbformat": 4,
  "nbformat_minor": 0
}