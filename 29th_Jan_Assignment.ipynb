{
  "nbformat": 4,
  "nbformat_minor": 0,
  "metadata": {
    "colab": {
      "provenance": [],
      "collapsed_sections": [
        "xoalGT2SsLDr",
        "pbUBEaC4sU2Z",
        "qU_08bPvsVeu",
        "i-_uhBbEscFb",
        "4rVM32c9seUJ",
        "i6djl4dWsg0T",
        "j-uXFQSAsikU",
        "BvhB8oezskNc",
        "_2iv9wBj9WMa",
        "FtczRn0dslr3",
        "H6EwQOV3snaG",
        "F--CAn57spXi",
        "auCj7pqPsqzo",
        "_hXT-6SpssdQ",
        "xOJCj4q-st1y",
        "964sXLOEsu-0"
      ]
    },
    "kernelspec": {
      "name": "python3",
      "display_name": "Python 3"
    },
    "language_info": {
      "name": "python"
    }
  },
  "cells": [
    {
      "cell_type": "markdown",
      "source": [
        "## Q1. Who developed Python programming language?\n"
      ],
      "metadata": {
        "id": "xoalGT2SsLDr"
      }
    },
    {
      "cell_type": "markdown",
      "source": [
        "### Ans: \n",
        "- Python programming language was developed by Guido van Rossum, in 1991."
      ],
      "metadata": {
        "id": "hoMOJOZY7Cim"
      }
    },
    {
      "cell_type": "markdown",
      "source": [
        "## Q2. Which type of programming does Python support?\n"
      ],
      "metadata": {
        "id": "pbUBEaC4sU2Z"
      }
    },
    {
      "cell_type": "markdown",
      "source": [
        "### Ans: \n",
        "- Python supports Functional, Procedural and Object-oriented programming style."
      ],
      "metadata": {
        "id": "wQ6CNufy7IN7"
      }
    },
    {
      "cell_type": "markdown",
      "source": [
        "## Q3. Is Python case-sensitive while dealing with identifiers?\n"
      ],
      "metadata": {
        "id": "qU_08bPvsVeu"
      }
    },
    {
      "cell_type": "markdown",
      "source": [
        "### Ans: \n",
        "- Yes, Python is a case-sensitive language.\n",
        "- For eg: `area` and `Area` are two different identifiers."
      ],
      "metadata": {
        "id": "XsEftSk27MwR"
      }
    },
    {
      "cell_type": "markdown",
      "source": [
        "## Q4. What is the correct extension of a Python file?\n"
      ],
      "metadata": {
        "id": "i-_uhBbEscFb"
      }
    },
    {
      "cell_type": "markdown",
      "source": [
        "### Ans: \n",
        "- The correct extension of a Python file is `.py`."
      ],
      "metadata": {
        "id": "KU0t4jje7TQU"
      }
    },
    {
      "cell_type": "markdown",
      "source": [
        "## Q5. Is Python code compiled or interpreted?"
      ],
      "metadata": {
        "id": "4rVM32c9seUJ"
      }
    },
    {
      "cell_type": "markdown",
      "source": [
        "### Ans: \n",
        "- Python code is interpreted."
      ],
      "metadata": {
        "id": "t6L__P707dlu"
      }
    },
    {
      "cell_type": "markdown",
      "source": [
        "## Q6. Name a few blocks of code used to define in Python language."
      ],
      "metadata": {
        "id": "i6djl4dWsg0T"
      }
    },
    {
      "cell_type": "markdown",
      "source": [
        "### Ans:\n",
        "- **Conditional** block\n",
        "    - `if` block\n",
        "    - `if-else` block\n",
        "    - `if-elif-else` block\n",
        "- **Loop** block\n",
        "    - `for` block\n",
        "    - `while` block\n",
        "- **Function** definition block\n",
        "    - `def` block\n",
        "- **Class** definition block\n",
        "    - `class` block\n",
        "- **Exception** handling block\n",
        "    - `try-except` block\n",
        "    - `try-except-finally` block"
      ],
      "metadata": {
        "id": "HK62W2FL9BPF"
      }
    },
    {
      "cell_type": "markdown",
      "source": [
        "## Q7. State a character used to give a single-line comment in Python."
      ],
      "metadata": {
        "id": "j-uXFQSAsikU"
      }
    },
    {
      "cell_type": "markdown",
      "source": [
        "### Ans: \n",
        "- The character used for making a single-line comment is `#`."
      ],
      "metadata": {
        "id": "TDv-jqlb7oXG"
      }
    },
    {
      "cell_type": "markdown",
      "source": [
        "## Q8. Mention functions which can help us to find the version of Python that we are currently working on."
      ],
      "metadata": {
        "id": "BvhB8oezskNc"
      }
    },
    {
      "cell_type": "markdown",
      "source": [
        "### Ans: \n",
        "- There are two ways:\n",
        "    - using the attribute `version` from the `sys` module.\n",
        "    - using the function `python_version()` form `platform` module."
      ],
      "metadata": {
        "id": "_2iv9wBj9WMa"
      }
    },
    {
      "cell_type": "code",
      "source": [
        "import sys"
      ],
      "metadata": {
        "id": "0RPgPBcH999b"
      },
      "execution_count": null,
      "outputs": []
    },
    {
      "cell_type": "code",
      "source": [
        "print(sys.version)"
      ],
      "metadata": {
        "colab": {
          "base_uri": "https://localhost:8080/"
        },
        "id": "7VJ4n8OA-CVt",
        "outputId": "b7c75597-1b29-4e16-dbe1-39e9563c925c"
      },
      "execution_count": null,
      "outputs": [
        {
          "output_type": "stream",
          "name": "stdout",
          "text": [
            "3.8.10 (default, Nov 14 2022, 12:59:47) \n",
            "[GCC 9.4.0]\n"
          ]
        }
      ]
    },
    {
      "cell_type": "code",
      "source": [
        "from platform import python_version"
      ],
      "metadata": {
        "id": "xjPnWMAk-Igw"
      },
      "execution_count": null,
      "outputs": []
    },
    {
      "cell_type": "code",
      "source": [
        "print(python_version())"
      ],
      "metadata": {
        "colab": {
          "base_uri": "https://localhost:8080/"
        },
        "id": "oFXCqokk-PQc",
        "outputId": "4de2e372-a02b-43d2-e014-e94f49cc51d9"
      },
      "execution_count": null,
      "outputs": [
        {
          "output_type": "stream",
          "name": "stdout",
          "text": [
            "3.8.10\n"
          ]
        }
      ]
    },
    {
      "cell_type": "markdown",
      "source": [
        "## Q9. Python supports the creation of annonymous functions at runtime, using construct called _________"
      ],
      "metadata": {
        "id": "FtczRn0dslr3"
      }
    },
    {
      "cell_type": "markdown",
      "source": [
        "### Ans: \n",
        "- Python supports the creation of annonymous functions at runtime, using the keyword `lambda`."
      ],
      "metadata": {
        "id": "aKGHBSf9-oPD"
      }
    },
    {
      "cell_type": "markdown",
      "source": [
        "## Q10. What does `pip` stands for in Python?"
      ],
      "metadata": {
        "id": "H6EwQOV3snaG"
      }
    },
    {
      "cell_type": "markdown",
      "source": [
        "### Ans: \n",
        "- `pip` stands for \"Pip Installs Packages\".\n",
        "- It is a Python package installer or manager."
      ],
      "metadata": {
        "id": "TJoCAgV3_PZN"
      }
    },
    {
      "cell_type": "markdown",
      "source": [
        "## Q11. Mention a few built-in functions in Python."
      ],
      "metadata": {
        "id": "F--CAn57spXi"
      }
    },
    {
      "cell_type": "markdown",
      "source": [
        "### Ans: \n",
        "- A few built-in functions in Python are:\n",
        "    - type()\n",
        "    - list()\n",
        "    - append()\n",
        "    - input()\n",
        "    - len()\n",
        "    - max()\n",
        "    - print()\n",
        "    - next()"
      ],
      "metadata": {
        "id": "jHnbd10vBhWB"
      }
    },
    {
      "cell_type": "markdown",
      "source": [
        "## Q12. What is the maximum possible length of an identifier in Python?"
      ],
      "metadata": {
        "id": "auCj7pqPsqzo"
      }
    },
    {
      "cell_type": "markdown",
      "source": [
        "### Ans: \n",
        "- The maximum possible length of an identifier in Python is **79 characters**."
      ],
      "metadata": {
        "id": "J7rPYEywEzT5"
      }
    },
    {
      "cell_type": "markdown",
      "source": [
        "## Q13. What are the benefits of using Python?"
      ],
      "metadata": {
        "id": "_hXT-6SpssdQ"
      }
    },
    {
      "cell_type": "markdown",
      "source": [
        "### Ans: \n",
        "- Benefits of using Python:\n",
        "    - Easy integration with other programming languages like C, C++, Java.\n",
        "    - Its easy syntax provides easy readability.\n",
        "    - Much is achieved by less coding.\n",
        "    - It has vast community support.\n",
        "    - It is object-oriented language.\n",
        "    - It comes with ready-made data structures like list, tuple, dictionary, and set to work with."
      ],
      "metadata": {
        "id": "i_AkVjVrFob1"
      }
    },
    {
      "cell_type": "markdown",
      "source": [
        "## Q14. How is memory managed in Python?"
      ],
      "metadata": {
        "id": "xOJCj4q-st1y"
      }
    },
    {
      "cell_type": "markdown",
      "source": [
        "### Ans:\n",
        "- Python manages memory by using:\n",
        "    - **Static memory allocation**\n",
        "        - Memory allocations are done during the *compile time* of a program.\n",
        "        - The allocated memory *persists* for the duration of a process.\n",
        "        - It uses *stack* data structure.\n",
        "        - All the *method* or *function calls* and *object references* are stored *stack wise* in memory.\n",
        "        - Memories are deallocated once the local variables are used up and the function finally returns.\n",
        "    - **Dynamic memory allocation**\n",
        "        - Memory allocations are done during the *runtime* of a program.\n",
        "        - It refers to the *memory space available* after the static memory allocation is done, aka **Heap** memory.\n",
        "        - The memory allocations keep *updating* as and when required by the running program.\n",
        "        - All the *variables* that are there outside of method or function calls or are shared within multiple functions globally are stored in *heap* memory.\n",
        "    - **Reference counting**\n",
        "        - It works by counting the number of times an object is *referenced* by other objects in the system.\n",
        "        - When references to an object are removed, the reference count for an object is decremented.\n",
        "        - When the reference count becomes zero, the object is deallocated.\n",
        "    - **Garbage collection**\n",
        "        - It is a process in which the interpreter *frees up* the memory when *not in use* to make it available for other objects.\n",
        "        - A *Garbage Collector* program in Python makes memory allocation and deallocation automatic in Python."
      ],
      "metadata": {
        "id": "IoQbgdnxXLPW"
      }
    },
    {
      "cell_type": "markdown",
      "source": [
        "## Q15. How to install Python in Windows and set path variables?"
      ],
      "metadata": {
        "id": "964sXLOEsu-0"
      }
    },
    {
      "cell_type": "markdown",
      "source": [
        "### Ans:\n",
        "####Steps for installation:\n",
        "1. Head on to python.org\n",
        "2. Download either the latest or the stable version of Python, specifically for Windows.\n",
        "3. Once downloaded, dbl-click the setup.exe to start the installation window.\n",
        "4. Click on the \"Install Now\" to start the installation process.\n",
        "5. Wait as the setup progresses towards its successful installation.\n",
        "\n",
        "\n",
        "#### Steps for setting path variables:\n",
        "1. Rt click on \"This PC\" > Properties\n",
        "    - \"Settings\" window appears.\n",
        "2. Select \"Advanced system settings\".\n",
        "    - \"System Properties\" window appears with \"Advanced\" tab on.\n",
        "3. Click on \"Environment Variables\" button.\n",
        "    - The \"Environment Variables\" dialog window appears.\n",
        "4. Under \"User variables\", click \"New\" button.\n",
        "    - A new \"New User Variable\" dialog box pop ups which contain Variable name and Variable value.\n",
        "5. Copy the Python's full application path, from where it's been installed.\n",
        "6. Fill the \"New User Variable\" box:\n",
        "    - For the Variable name, type \"Path\".\n",
        "    - For the Variable value, paste the copied path.\n",
        "    - At the end of the path, give a semi-colon.\n",
        "7. Now click \"OK\".\n"
      ],
      "metadata": {
        "id": "GVYvfCJ5nEi8"
      }
    },
    {
      "cell_type": "markdown",
      "source": [
        "## Q16. Is indentation required in Python?"
      ],
      "metadata": {
        "id": "wh62Dh4t4fHO"
      }
    },
    {
      "cell_type": "markdown",
      "source": [
        "### Ans: \n",
        "- Yes, indentation is strictly required in Python."
      ],
      "metadata": {
        "id": "-i4LEXyaBT6R"
      }
    }
  ]
}