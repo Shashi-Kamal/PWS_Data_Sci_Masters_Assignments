{
 "cells": [
  {
   "attachments": {},
   "cell_type": "markdown",
   "metadata": {},
   "source": [
    "## Q1. What is Abstraction in OOP? Explain with an example."
   ]
  },
  {
   "attachments": {},
   "cell_type": "markdown",
   "metadata": {},
   "source": [
    "### Ans:\n",
    "**Data abstraction:**\n",
    "- It is one of the fundamental principles in OOP.\n",
    "- It is all about:\n",
    "    - **Focusing** only on the *essential features* of an object or system, while\n",
    "    - **Hiding** all the *internal implementation details* behind the features.\n",
    "\n",
    "**An example:**"
   ]
  },
  {
   "cell_type": "code",
   "execution_count": 2,
   "metadata": {},
   "outputs": [],
   "source": [
    "# importing ABC and abastractmethod from abc\n",
    "from abc import ABC, abstractmethod"
   ]
  },
  {
   "cell_type": "code",
   "execution_count": 3,
   "metadata": {},
   "outputs": [],
   "source": [
    "# creating an abstract class\n",
    "class Vehicle(ABC):\n",
    "    pass"
   ]
  },
  {
   "cell_type": "code",
   "execution_count": 4,
   "metadata": {},
   "outputs": [],
   "source": [
    "# creating abstract methods inside the abstract class\n",
    "class Vehicle(ABC):\n",
    "    \n",
    "    @abstractmethod\n",
    "    def start(self):\n",
    "        pass\n",
    "\n",
    "    @abstractmethod\n",
    "    def stop(self):\n",
    "        pass"
   ]
  },
  {
   "cell_type": "code",
   "execution_count": 5,
   "metadata": {},
   "outputs": [],
   "source": [
    "# creating real class \"Car\"\n",
    "class Car(Vehicle):\n",
    "\n",
    "    def start(self):\n",
    "        print(\"Starting the car...\")\n",
    "\n",
    "    def stop(self):\n",
    "        print(\"Stopping the car...\")"
   ]
  },
  {
   "cell_type": "code",
   "execution_count": 6,
   "metadata": {},
   "outputs": [],
   "source": [
    "# creating real class \"Bike\"\n",
    "class Bike(Vehicle):\n",
    "\n",
    "    def start(self):\n",
    "        print(\"Starting the bike...\")\n",
    "\n",
    "    def stop(self):\n",
    "        print(\"Stopping the bike...\")"
   ]
  },
  {
   "cell_type": "code",
   "execution_count": 7,
   "metadata": {},
   "outputs": [],
   "source": [
    "# creating an object of class \"Car\"\n",
    "car = Car()"
   ]
  },
  {
   "cell_type": "code",
   "execution_count": 8,
   "metadata": {},
   "outputs": [
    {
     "name": "stdout",
     "output_type": "stream",
     "text": [
      "Starting the car...\n"
     ]
    }
   ],
   "source": [
    "car.start()"
   ]
  },
  {
   "cell_type": "code",
   "execution_count": 9,
   "metadata": {},
   "outputs": [
    {
     "name": "stdout",
     "output_type": "stream",
     "text": [
      "Stopping the car...\n"
     ]
    }
   ],
   "source": [
    "car.stop()"
   ]
  },
  {
   "cell_type": "code",
   "execution_count": 10,
   "metadata": {},
   "outputs": [],
   "source": [
    "# creating an object of class \"Bike\"\n",
    "bike = Bike()"
   ]
  },
  {
   "cell_type": "code",
   "execution_count": 11,
   "metadata": {},
   "outputs": [
    {
     "name": "stdout",
     "output_type": "stream",
     "text": [
      "Starting the bike...\n"
     ]
    }
   ],
   "source": [
    "bike.start()"
   ]
  },
  {
   "cell_type": "code",
   "execution_count": 12,
   "metadata": {},
   "outputs": [
    {
     "name": "stdout",
     "output_type": "stream",
     "text": [
      "Stopping the bike...\n"
     ]
    }
   ],
   "source": [
    "bike.stop()"
   ]
  },
  {
   "attachments": {},
   "cell_type": "markdown",
   "metadata": {},
   "source": [
    "## Q2. Differentiate between Abstraction and Encapsulation. Explain with an example."
   ]
  },
  {
   "attachments": {},
   "cell_type": "markdown",
   "metadata": {},
   "source": [
    "### Ans:\n",
    "- **Abstraction:**\n",
    "    - It is about **hiding** all the internal implementation details of the features available, instead providing a well defined and simplified interface to the users to access them easily without worrying about their mechanisms behind.  \n",
    "\n",
    "- **Encapsulation:**\n",
    "    - It is about **binding** *attributes* and *methods* together into a *single unit* called **class**, and thus preventing any accidental modifications by external functions or unauthorised users.  It ensures that the object's state remains *consistent* and *secure*.\n",
    "\n",
    "**An Example:**"
   ]
  },
  {
   "cell_type": "code",
   "execution_count": 16,
   "metadata": {},
   "outputs": [],
   "source": [
    "class BankAcc:\n",
    "    \n",
    "    def __init__(self, init_balance=0):\n",
    "        self.__balance = init_balance\n",
    "\n",
    "    def deposit(self, amount):\n",
    "        self.__balance += amount\n",
    "    \n",
    "    def witdraw(self, amount):\n",
    "        if amount > self.__balance:\n",
    "            print(\"Insufficient balance!\")\n",
    "        else:\n",
    "            self.__balance -= amount\n",
    "\n",
    "    def get_balance(self):\n",
    "        return f\"Your balance: Rs. {self.__balance}\""
   ]
  },
  {
   "cell_type": "code",
   "execution_count": 18,
   "metadata": {},
   "outputs": [],
   "source": [
    "sasi_acc = BankAcc()"
   ]
  },
  {
   "cell_type": "code",
   "execution_count": 19,
   "metadata": {},
   "outputs": [
    {
     "data": {
      "text/plain": [
       "'Your balance: Rs. 0'"
      ]
     },
     "execution_count": 19,
     "metadata": {},
     "output_type": "execute_result"
    }
   ],
   "source": [
    "sasi_acc.get_balance()"
   ]
  },
  {
   "cell_type": "code",
   "execution_count": 20,
   "metadata": {},
   "outputs": [],
   "source": [
    "sasi_acc.deposit(5000)"
   ]
  },
  {
   "cell_type": "code",
   "execution_count": 21,
   "metadata": {},
   "outputs": [
    {
     "data": {
      "text/plain": [
       "'Your balance: Rs. 5000'"
      ]
     },
     "execution_count": 21,
     "metadata": {},
     "output_type": "execute_result"
    }
   ],
   "source": [
    "sasi_acc.get_balance()"
   ]
  },
  {
   "cell_type": "code",
   "execution_count": 22,
   "metadata": {},
   "outputs": [
    {
     "name": "stdout",
     "output_type": "stream",
     "text": [
      "Insufficient balance!\n"
     ]
    }
   ],
   "source": [
    "sasi_acc.witdraw(6000)"
   ]
  },
  {
   "cell_type": "code",
   "execution_count": 23,
   "metadata": {},
   "outputs": [],
   "source": [
    "sasi_acc.witdraw(500)"
   ]
  },
  {
   "cell_type": "code",
   "execution_count": 24,
   "metadata": {},
   "outputs": [
    {
     "data": {
      "text/plain": [
       "'Your balance: Rs. 4500'"
      ]
     },
     "execution_count": 24,
     "metadata": {},
     "output_type": "execute_result"
    }
   ],
   "source": [
    "sasi_acc.get_balance()"
   ]
  },
  {
   "attachments": {},
   "cell_type": "markdown",
   "metadata": {},
   "source": [
    "In the above eg we cannot directly access the \"balance\" attribute and modify it wishfully (encapsulation).  We have to access it only through the methods provided as an interface to it (data abstraction)."
   ]
  },
  {
   "attachments": {},
   "cell_type": "markdown",
   "metadata": {},
   "source": [
    "## Q3. What is `abc` module in python? Why is it used?"
   ]
  },
  {
   "attachments": {},
   "cell_type": "markdown",
   "metadata": {},
   "source": [
    "### Ans:\n",
    "**`abc` module:**\n",
    "- It is a built-in Python module.\n",
    "- It provides support for defining *abstract base classes* and *abstract methods*.\n",
    "- It provides the \"**ABC**\" class, which is used as a *base class* for defining abstract base classes.\n",
    "- It also provides the `abstractmethod` *decorator*, which is used to *indicate* that a method is an abstract method and must be implemented by a real sub class of the abstract base class.\n",
    "- In other words, it provides a way to define the structure and behavior of a class without specifying all the implementation details."
   ]
  },
  {
   "attachments": {},
   "cell_type": "markdown",
   "metadata": {},
   "source": [
    "## Q4. How can we achieve data abstraction?"
   ]
  },
  {
   "attachments": {},
   "cell_type": "markdown",
   "metadata": {},
   "source": [
    "### Ans:\n",
    "We can achieve data abstraction by defining:\n",
    "- Abstract classes\n",
    "- Abstract methods"
   ]
  },
  {
   "attachments": {},
   "cell_type": "markdown",
   "metadata": {},
   "source": [
    "## Q5. Can we create an instance of an abstract class? Explain your answer."
   ]
  },
  {
   "attachments": {},
   "cell_type": "markdown",
   "metadata": {},
   "source": [
    "### Ans:\n",
    "No, we cannot create an instance of an abstract class.\n",
    "- An abstract class is a class that contains one or more abstract methods.\n",
    "- Abstract methods are the methods that are declared inside the abstract class, but are not implemented.\n",
    "- So, an abstract class is considered an incomplete class. And since it's incomplete, we cannot make an object of it directly.\n",
    "- Instead, it's used as a base class for other child classes that provide concrete implementations of its methods.\n",
    "\n",
    "Let's try..."
   ]
  },
  {
   "cell_type": "code",
   "execution_count": 25,
   "metadata": {},
   "outputs": [],
   "source": [
    "from abc import ABC, abstractmethod"
   ]
  },
  {
   "cell_type": "code",
   "execution_count": 26,
   "metadata": {},
   "outputs": [],
   "source": [
    "class AbstractClass(ABC):\n",
    "\n",
    "    @abstractmethod\n",
    "    def abstract_method(self):\n",
    "        pass"
   ]
  },
  {
   "cell_type": "code",
   "execution_count": 27,
   "metadata": {},
   "outputs": [
    {
     "ename": "TypeError",
     "evalue": "Can't instantiate abstract class AbstractClass with abstract method abstract_method",
     "output_type": "error",
     "traceback": [
      "\u001b[1;31m---------------------------------------------------------------------------\u001b[0m",
      "\u001b[1;31mTypeError\u001b[0m                                 Traceback (most recent call last)",
      "Cell \u001b[1;32mIn[27], line 1\u001b[0m\n\u001b[1;32m----> 1\u001b[0m abs_obj \u001b[39m=\u001b[39m AbstractClass()\n",
      "\u001b[1;31mTypeError\u001b[0m: Can't instantiate abstract class AbstractClass with abstract method abstract_method"
     ]
    }
   ],
   "source": [
    "abs_obj = AbstractClass()"
   ]
  },
  {
   "attachments": {},
   "cell_type": "markdown",
   "metadata": {},
   "source": [
    "So, as it's evident by the above eg, that if we try to make an object out of an abstract class, it will give us a \"TypeError\" with a message indicating that the abstract class cannot be instantiated."
   ]
  }
 ],
 "metadata": {
  "kernelspec": {
   "display_name": "Python 3",
   "language": "python",
   "name": "python3"
  },
  "language_info": {
   "codemirror_mode": {
    "name": "ipython",
    "version": 3
   },
   "file_extension": ".py",
   "mimetype": "text/x-python",
   "name": "python",
   "nbconvert_exporter": "python",
   "pygments_lexer": "ipython3",
   "version": "3.11.2"
  },
  "orig_nbformat": 4,
  "vscode": {
   "interpreter": {
    "hash": "b605e4513396f1ac029c145cdf48393a563d7ed3507525a5a82648881e82a51c"
   }
  }
 },
 "nbformat": 4,
 "nbformat_minor": 2
}
