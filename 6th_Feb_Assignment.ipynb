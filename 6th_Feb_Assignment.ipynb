{
 "cells": [
  {
   "attachments": {},
   "cell_type": "markdown",
   "metadata": {},
   "source": [
    "## Q1. Create a function which will take a list as an argument and return the product of all the numbers after creating a flat list.\n",
    "- Use the below-given list as an argument for your function.\n",
    "    - list1 = [1,2,3,4, [44,55,66, True], False, (34,56,78,89,34), {1,2,3,3,2,1}, {1:34, \"key2\": [55, 67, 78, 89], 4: (45, 22, 61, 34)}, [56, 'data science'], 'Machine Learning']\n",
    "- **Note:** you must extract numeric keys and values of the dictionary also."
   ]
  },
  {
   "cell_type": "code",
   "execution_count": 1,
   "metadata": {},
   "outputs": [],
   "source": [
    "# the given mixed list\n",
    "list1 = [1, 2, 3, 4, \n",
    "            [44, 55, 66, True], \n",
    "        False, \n",
    "            (34, 56, 78, 89, 34), \n",
    "            {1, 2, 3, 3, 2, 1}, \n",
    "            {1 : 34, \"key2\": [55, 67, 78, 89], 4: (45, 22, 61, 34)}, \n",
    "            [56, 'data science'], \n",
    "        'Machine Learning']"
   ]
  },
  {
   "cell_type": "code",
   "execution_count": 7,
   "metadata": {},
   "outputs": [],
   "source": [
    "def find_prod(mixed_list):\n",
    "\n",
    "# an empty list to put all the integers in it from the given mixed_list\n",
    "    flat_list = []\n",
    "    product = 1\n",
    "\n",
    "    # to pick up all the integers in the mixed_list\n",
    "    for item in mixed_list:\n",
    "        if type(item) == int:\n",
    "            flat_list.append(item)\n",
    "\n",
    "        # to pick up all the integers from the list in the mixed_list\n",
    "        elif type(item) == list:\n",
    "            for l_item in item:\n",
    "                if type(l_item) == int:\n",
    "                    flat_list.append(l_item)\n",
    "\n",
    "        # to pick up all the integers from the tuple in the mixed_list\n",
    "        elif type(item) == tuple:\n",
    "            for t_item in item:\n",
    "                if type(t_item) == int:\n",
    "                    flat_list.append(t_item)\n",
    "\n",
    "        # to pick up all the integers from the set in the mixed_list\n",
    "        elif type(item) == set:\n",
    "            for s_item in item:\n",
    "                if type(s_item) == int:\n",
    "                    flat_list.append(s_item)\n",
    "\n",
    "        # to pick up all the integers from the dictionary in the mixed_list\n",
    "        elif type(item) == dict:\n",
    "            for d_key, d_val in item.items():\n",
    "                \n",
    "                if type(d_key) == int:\n",
    "                    flat_list.append(d_key)\n",
    "\n",
    "                if type(d_val) == int:\n",
    "                    flat_list.append(d_val)\n",
    "\n",
    "                if type(d_val) == list:\n",
    "                    for d_val_l_item in d_val:\n",
    "                        if type(d_val_l_item) == int:\n",
    "                            flat_list.append(d_val_l_item)\n",
    "\n",
    "                if type(d_val) == tuple:\n",
    "                    for d_val_t_item in d_val:\n",
    "                        if type(d_val_t_item) == int:\n",
    "                            flat_list.append(d_val_t_item)\n",
    "                    \n",
    "    for i in flat_list:\n",
    "        product *= i\n",
    "\n",
    "    return f\"The product of all the numbers in the given list: {product}\""
   ]
  },
  {
   "cell_type": "code",
   "execution_count": 8,
   "metadata": {},
   "outputs": [
    {
     "data": {
      "text/plain": [
       "'The product of all the numbers in the given list: 4134711838987085478833841242112000'"
      ]
     },
     "execution_count": 8,
     "metadata": {},
     "output_type": "execute_result"
    }
   ],
   "source": [
    "find_prod(list1)"
   ]
  },
  {
   "attachments": {},
   "cell_type": "markdown",
   "metadata": {},
   "source": [
    "## Q2. Write a python program for encrypting a message sent to you by your friend. The logic of encryption should be such that, for a the output should be z. For b, the output should be y. For c, the output should be x respectively. Also, the whitespace should be replaced with a dollar sign. Keep the punctuation marks unchanged.\n",
    "- Input Sentence: \"I want to become a Data Scientist\".\n",
    "- Encrypt the above input sentence using the program you just created.\n",
    "- Note: Convert the given input sentence into lowercase before encrypting. The final output should be\n",
    "lowercase."
   ]
  },
  {
   "cell_type": "code",
   "execution_count": 173,
   "metadata": {},
   "outputs": [],
   "source": [
    "# a list of alphabets a-z\n",
    "alpha_list = [chr(x) for x in range(ord('a'), ord('z')+1)]"
   ]
  },
  {
   "cell_type": "code",
   "execution_count": 178,
   "metadata": {},
   "outputs": [],
   "source": [
    "# a function to invert characters\n",
    "def invert_alphabets(ch, alpha_list = alpha_list):\n",
    "    alpha_index = alpha_list.index(ch)\n",
    "    return alpha_list[-(alpha_index+1)]"
   ]
  },
  {
   "cell_type": "code",
   "execution_count": 195,
   "metadata": {},
   "outputs": [],
   "source": [
    "# encrypted the given string and collected the encrypted characters into an empty list\n",
    "def encrypt_msg(string):\n",
    "    encrypted_list = []\n",
    "\n",
    "    # converted the given string into its lower case\n",
    "    string_lower = list(string.lower())\n",
    "\n",
    "    for ch in string_lower:\n",
    "        if ch == \" \":\n",
    "            encrypted_list.append(\"$\")\n",
    "        else:\n",
    "            encrypted_list.append(invert_alphabets(ch))\n",
    "\n",
    "    # joined the encrypted characters together into a single string\n",
    "    encrypted_sentence = \"\".join(encrypted_list)\n",
    "    return encrypted_sentence "
   ]
  },
  {
   "cell_type": "code",
   "execution_count": 196,
   "metadata": {},
   "outputs": [
    {
     "data": {
      "text/plain": [
       "'r$dzmg$gl$yvxlnv$z$wzgz$hxrvmgrhg'"
      ]
     },
     "execution_count": 196,
     "metadata": {},
     "output_type": "execute_result"
    }
   ],
   "source": [
    "sentence = \"I want to become a Data Scientist\"\n",
    "encrypt_msg(sentence)"
   ]
  }
 ],
 "metadata": {
  "kernelspec": {
   "display_name": "Python 3",
   "language": "python",
   "name": "python3"
  },
  "language_info": {
   "codemirror_mode": {
    "name": "ipython",
    "version": 3
   },
   "file_extension": ".py",
   "mimetype": "text/x-python",
   "name": "python",
   "nbconvert_exporter": "python",
   "pygments_lexer": "ipython3",
   "version": "3.11.2"
  },
  "orig_nbformat": 4,
  "vscode": {
   "interpreter": {
    "hash": "b605e4513396f1ac029c145cdf48393a563d7ed3507525a5a82648881e82a51c"
   }
  }
 },
 "nbformat": 4,
 "nbformat_minor": 2
}
