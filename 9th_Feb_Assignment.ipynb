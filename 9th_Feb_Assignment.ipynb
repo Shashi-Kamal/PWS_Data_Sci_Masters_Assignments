{
 "cells": [
  {
   "attachments": {},
   "cell_type": "markdown",
   "metadata": {},
   "source": [
    "## Q1, Create a vehicle class with an init method having instance variables as name_of_vehicle, max_speed and average_of_vehicle."
   ]
  },
  {
   "cell_type": "code",
   "execution_count": 2,
   "metadata": {},
   "outputs": [],
   "source": [
    "class Vehicle:\n",
    "    \n",
    "    def __init__(self, name, speed, avg):\n",
    "        self.name_of_vehicle = name\n",
    "        self.max_speed = speed\n",
    "        self.average_of_vehicle = avg"
   ]
  },
  {
   "attachments": {},
   "cell_type": "markdown",
   "metadata": {},
   "source": [
    "## Q2. Create a child class car from the vehicle class created in Que 1, which will inherit the vehicle class.  Create a method named seating_capacity which takes capacity as an argument and returns the name of the vehicle and its seating capacity."
   ]
  },
  {
   "cell_type": "code",
   "execution_count": 16,
   "metadata": {},
   "outputs": [],
   "source": [
    "class Car(Vehicle):\n",
    "\n",
    "    def seating_capacity(self, capacity):\n",
    "        self.seating_capacity = capacity\n",
    "        return f\"Name of the car: {self.name_of_vehicle}\\nSeating capacity: {self.seating_capacity}\""
   ]
  },
  {
   "cell_type": "code",
   "execution_count": 19,
   "metadata": {},
   "outputs": [],
   "source": [
    "car1 = Car(\"Hyundai\", 170, 150)"
   ]
  },
  {
   "cell_type": "code",
   "execution_count": 20,
   "metadata": {},
   "outputs": [
    {
     "name": "stdout",
     "output_type": "stream",
     "text": [
      "Name of the car: Hyundai\n",
      "Seating capacity: 5\n"
     ]
    }
   ],
   "source": [
    "print(car1.seating_capacity(5))"
   ]
  },
  {
   "attachments": {},
   "cell_type": "markdown",
   "metadata": {},
   "source": [
    "## Q3. What is multiple inheritance? Write a python code to demonstrate multiple inheritance."
   ]
  },
  {
   "attachments": {},
   "cell_type": "markdown",
   "metadata": {},
   "source": [
    "### Ans:\n",
    "**Multiple Inheritance:**\n",
    "- It is one of the types of **inheritance** feature that is supported by OOP in Python.\n",
    "- In this type of inheritance, a child class can inherit all the features from more than one parent class.\n",
    "\n",
    "**Example:**"
   ]
  },
  {
   "cell_type": "code",
   "execution_count": 47,
   "metadata": {},
   "outputs": [],
   "source": [
    "class SimpleNote:\n",
    "    def __init__(self):\n",
    "        self.notes = {}\n",
    "\n",
    "    def add_note(self, key, note):\n",
    "        \"\"\"to add new notes\"\"\"\n",
    "        self.notes[key] = note\n",
    "        print(f\"Added note: {key}. {note}\")\n",
    "\n",
    "    def delete_note(self, key):\n",
    "        \"\"\"to delete an existing note\"\"\"\n",
    "        if key in self.notes:\n",
    "            note = self.notes.pop(key)\n",
    "            print(f\"Deleted note: {key}. {note}\")\n",
    "        else:\n",
    "            print(\"Invalid key!\")"
   ]
  },
  {
   "cell_type": "code",
   "execution_count": 48,
   "metadata": {},
   "outputs": [],
   "source": [
    "class ExtendedNote:\n",
    "    def __init__(self):\n",
    "        self.bg_color = \"white\"\n",
    "\n",
    "    def change_bg_color(self, color):\n",
    "        \"\"\"to change background color of note\"\"\"\n",
    "        self.bg_color = color\n",
    "        print(f\"Changed background color to: {color}\")\n"
   ]
  },
  {
   "cell_type": "code",
   "execution_count": 49,
   "metadata": {},
   "outputs": [],
   "source": [
    "class AdvancedNote(SimpleNote, ExtendedNote):\n",
    "    def __init__(self):\n",
    "        \"\"\"call the initiators of both the parent classes\"\"\"\n",
    "        SimpleNote.__init__(self)\n",
    "        ExtendedNote.__init__(self)\n",
    "        # super().__init__()\n",
    "\n",
    "    def update_note(self, key, new_note):\n",
    "        \"\"\"to change an existing note to a new note\"\"\"\n",
    "        if key in self.notes: # Check if the key is valid\n",
    "            old_note = self.notes[key] # Get the old note\n",
    "            self.notes[key] = new_note # Replace it with the new note\n",
    "            print(f\"Updated note: {key}. {old_note} -> {new_note}\")\n",
    "        else:\n",
    "            print(\"Invalid key\")\n",
    "\n",
    "    def display_notes(self):\n",
    "        \"\"\"to display all the notes together\"\"\"\n",
    "        print(\"All notes:\")\n",
    "        for key, note in self.notes.items(): # Loop over the key-value pairs\n",
    "            print(f\"{key}. {note}\") # Display each pair"
   ]
  },
  {
   "cell_type": "code",
   "execution_count": 58,
   "metadata": {},
   "outputs": [],
   "source": [
    "note = AdvancedNote()"
   ]
  },
  {
   "cell_type": "code",
   "execution_count": 54,
   "metadata": {},
   "outputs": [
    {
     "data": {
      "text/plain": [
       "'white'"
      ]
     },
     "execution_count": 54,
     "metadata": {},
     "output_type": "execute_result"
    }
   ],
   "source": [
    "note.bg_color"
   ]
  },
  {
   "cell_type": "code",
   "execution_count": 59,
   "metadata": {},
   "outputs": [
    {
     "name": "stdout",
     "output_type": "stream",
     "text": [
      "Added note: 1. Learn Python\n"
     ]
    }
   ],
   "source": [
    "note.add_note(1, \"Learn Python\")"
   ]
  },
  {
   "cell_type": "code",
   "execution_count": 61,
   "metadata": {},
   "outputs": [
    {
     "name": "stdout",
     "output_type": "stream",
     "text": [
      "Added note: 2. Learn sql\n"
     ]
    }
   ],
   "source": [
    "note.add_note(2, \"Learn sql\")"
   ]
  },
  {
   "cell_type": "code",
   "execution_count": 62,
   "metadata": {},
   "outputs": [
    {
     "name": "stdout",
     "output_type": "stream",
     "text": [
      "Added note: 3. Learn html-css\n"
     ]
    }
   ],
   "source": [
    "note.add_note(3, \"Learn html-css\")"
   ]
  },
  {
   "cell_type": "code",
   "execution_count": 63,
   "metadata": {},
   "outputs": [
    {
     "name": "stdout",
     "output_type": "stream",
     "text": [
      "All notes:\n",
      "1. Learn Python\n",
      "2. Learn sql\n",
      "3. Learn html-css\n"
     ]
    }
   ],
   "source": [
    "note.display_notes()"
   ]
  },
  {
   "cell_type": "code",
   "execution_count": 64,
   "metadata": {},
   "outputs": [
    {
     "name": "stdout",
     "output_type": "stream",
     "text": [
      "Deleted note: 3. Learn html-css\n"
     ]
    }
   ],
   "source": [
    "note.delete_note(3)"
   ]
  },
  {
   "cell_type": "code",
   "execution_count": 65,
   "metadata": {},
   "outputs": [
    {
     "name": "stdout",
     "output_type": "stream",
     "text": [
      "Added note: 3. Learn Django\n"
     ]
    }
   ],
   "source": [
    "note.add_note(3, \"Learn Django\")"
   ]
  },
  {
   "cell_type": "code",
   "execution_count": 66,
   "metadata": {},
   "outputs": [
    {
     "name": "stdout",
     "output_type": "stream",
     "text": [
      "All notes:\n",
      "1. Learn Python\n",
      "2. Learn sql\n",
      "3. Learn Django\n"
     ]
    }
   ],
   "source": [
    "note.display_notes()"
   ]
  },
  {
   "cell_type": "code",
   "execution_count": 67,
   "metadata": {},
   "outputs": [
    {
     "name": "stdout",
     "output_type": "stream",
     "text": [
      "Updated note: 3. Learn Django -> Learn Flask\n"
     ]
    }
   ],
   "source": [
    "note.update_note(3, \"Learn Flask\")"
   ]
  },
  {
   "cell_type": "code",
   "execution_count": 68,
   "metadata": {},
   "outputs": [
    {
     "name": "stdout",
     "output_type": "stream",
     "text": [
      "All notes:\n",
      "1. Learn Python\n",
      "2. Learn sql\n",
      "3. Learn Flask\n"
     ]
    }
   ],
   "source": [
    "note.display_notes()"
   ]
  },
  {
   "cell_type": "code",
   "execution_count": 69,
   "metadata": {},
   "outputs": [
    {
     "name": "stdout",
     "output_type": "stream",
     "text": [
      "Changed background color to: green\n"
     ]
    }
   ],
   "source": [
    "note.change_bg_color(\"green\")"
   ]
  },
  {
   "cell_type": "code",
   "execution_count": 70,
   "metadata": {},
   "outputs": [
    {
     "name": "stdout",
     "output_type": "stream",
     "text": [
      "Added note: 4. Learn Web scraping\n"
     ]
    }
   ],
   "source": [
    "note.add_note(4, \"Learn Web scraping\")"
   ]
  },
  {
   "cell_type": "code",
   "execution_count": 71,
   "metadata": {},
   "outputs": [
    {
     "name": "stdout",
     "output_type": "stream",
     "text": [
      "All notes:\n",
      "1. Learn Python\n",
      "2. Learn sql\n",
      "3. Learn Flask\n",
      "4. Learn Web scraping\n"
     ]
    }
   ],
   "source": [
    "note.display_notes()"
   ]
  },
  {
   "attachments": {},
   "cell_type": "markdown",
   "metadata": {},
   "source": [
    "## Q4. What are getter and setter in python? Create a class and create a getter and a setter method in this class."
   ]
  },
  {
   "attachments": {},
   "cell_type": "markdown",
   "metadata": {},
   "source": [
    "### Ans:\n",
    "**Getter:**\n",
    "- It is a method to retrieve the value of a class attribute.\n",
    "- It is used to get the value of a private variable that is not directly accessible from outside the class.\n",
    "- It is also known as `accessor` method.\n",
    "- It is implemented by using the `@property` decorator.\n",
    "\n",
    "**Setter:**\n",
    "- It is a method to set the value of a class attribute.\n",
    "- It is used to set the value of a private variable that is not directly accessible from outside the class.\n",
    "- It is also known as `mutator` method.\n",
    "- It is implemented by using the `@setter` decorator.\n",
    "\n",
    "Using getters and setters ensures that the class data is accessed and modified in a controlled manner, and that data integrity is maintained."
   ]
  },
  {
   "cell_type": "code",
   "execution_count": 90,
   "metadata": {},
   "outputs": [],
   "source": [
    "class Person:\n",
    "    def __init__(self):\n",
    "        self.__hidden_name = None\n",
    "\n",
    "    @property\n",
    "    def name(self):\n",
    "        return self.__hidden_name\n",
    "\n",
    "    @name.setter\n",
    "    def name(self, value):\n",
    "        self.__hidden_name = value"
   ]
  },
  {
   "cell_type": "code",
   "execution_count": 91,
   "metadata": {},
   "outputs": [],
   "source": [
    "person = Person()"
   ]
  },
  {
   "cell_type": "code",
   "execution_count": 93,
   "metadata": {},
   "outputs": [],
   "source": [
    "person.name = \"Sasi\""
   ]
  },
  {
   "cell_type": "code",
   "execution_count": 94,
   "metadata": {},
   "outputs": [
    {
     "data": {
      "text/plain": [
       "'Sasi'"
      ]
     },
     "execution_count": 94,
     "metadata": {},
     "output_type": "execute_result"
    }
   ],
   "source": [
    "person.name"
   ]
  },
  {
   "attachments": {},
   "cell_type": "markdown",
   "metadata": {},
   "source": [
    "## Q5.What is method overriding in python? Write a python code to demonstrate method overriding."
   ]
  },
  {
   "attachments": {},
   "cell_type": "markdown",
   "metadata": {},
   "source": [
    "### Ans:\n",
    "**Method Overriding:**\n",
    "- When a child class provides a *specific implementation* of a method that is already provided by its parent class.\n",
    "- The method in the child class must have the **same name, return types and parameters** as the one in its parent class, thus the method is said to be *overriden*.\n",
    "- When such a method is called by an object of the child class, the **overriden method** is executed, instead of the method in the parent class.\n",
    "\n",
    "Example: Let's say we have a base class \"Shape\" which has a method \"draw()\".  The draw() method is overriden by its child classes \"Square\" and \"Circle\"."
   ]
  },
  {
   "cell_type": "code",
   "execution_count": 100,
   "metadata": {},
   "outputs": [],
   "source": [
    "class Shape:\n",
    "    def draw(self):\n",
    "        print(\"Drawing a shape...\")"
   ]
  },
  {
   "cell_type": "code",
   "execution_count": 101,
   "metadata": {},
   "outputs": [],
   "source": [
    "class Square(Shape):\n",
    "    def draw(self):\n",
    "        print(\"Drawing a square...\")"
   ]
  },
  {
   "cell_type": "code",
   "execution_count": 102,
   "metadata": {},
   "outputs": [],
   "source": [
    "class Circle(Shape):\n",
    "    def draw(self):\n",
    "        print(\"Drawing a circle...\")"
   ]
  },
  {
   "cell_type": "code",
   "execution_count": 103,
   "metadata": {},
   "outputs": [],
   "source": [
    "sq = Square()"
   ]
  },
  {
   "cell_type": "code",
   "execution_count": 104,
   "metadata": {},
   "outputs": [
    {
     "name": "stdout",
     "output_type": "stream",
     "text": [
      "Drawing a square...\n"
     ]
    }
   ],
   "source": [
    "sq.draw()"
   ]
  },
  {
   "cell_type": "code",
   "execution_count": 105,
   "metadata": {},
   "outputs": [],
   "source": [
    "c = Circle()"
   ]
  },
  {
   "cell_type": "code",
   "execution_count": 106,
   "metadata": {},
   "outputs": [
    {
     "name": "stdout",
     "output_type": "stream",
     "text": [
      "Drawing a circle...\n"
     ]
    }
   ],
   "source": [
    "c.draw()"
   ]
  }
 ],
 "metadata": {
  "kernelspec": {
   "display_name": "Python 3",
   "language": "python",
   "name": "python3"
  },
  "language_info": {
   "codemirror_mode": {
    "name": "ipython",
    "version": 3
   },
   "file_extension": ".py",
   "mimetype": "text/x-python",
   "name": "python",
   "nbconvert_exporter": "python",
   "pygments_lexer": "ipython3",
   "version": "3.11.2"
  },
  "orig_nbformat": 4,
  "vscode": {
   "interpreter": {
    "hash": "b605e4513396f1ac029c145cdf48393a563d7ed3507525a5a82648881e82a51c"
   }
  }
 },
 "nbformat": 4,
 "nbformat_minor": 2
}
