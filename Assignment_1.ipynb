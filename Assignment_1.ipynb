{
  "cells": [
    {
      "cell_type": "markdown",
      "metadata": {
        "id": "nsI65HNosc_s"
      },
      "source": [
        "## Q1. Explain with an example each when to use a for loop and a while loop."
      ]
    },
    {
      "attachments": {},
      "cell_type": "markdown",
      "metadata": {
        "id": "XcxUxZKbwFoD"
      },
      "source": [
        "### `For` Loop:  \n",
        "- We use `for` loop when we have a definite number of iterations, or when we want to iterate over elements in a sequence, such as a list, tuple, set, dictionary or string."
      ]
    },
    {
      "cell_type": "code",
      "execution_count": 1,
      "metadata": {
        "id": "SsO_3UlMsbi3"
      },
      "outputs": [],
      "source": [
        "# We have a list of fruits\n",
        "fruits = [\"mangos\", \"apples\", \"oranges\", \"bananas\", \"Pears\"]"
      ]
    },
    {
      "cell_type": "code",
      "execution_count": 2,
      "metadata": {
        "colab": {
          "base_uri": "https://localhost:8080/"
        },
        "id": "os7lbIk9yKCB",
        "outputId": "a3c2c12e-941a-4821-bb36-1f37efc10ee2"
      },
      "outputs": [
        {
          "name": "stdout",
          "output_type": "stream",
          "text": [
            "mangos\n",
            "apples\n",
            "oranges\n",
            "bananas\n",
            "Pears\n"
          ]
        }
      ],
      "source": [
        "# Print the fruits in the list\n",
        "for fruit in fruits:\n",
        "    print(fruit)"
      ]
    },
    {
      "cell_type": "markdown",
      "metadata": {
        "id": "2w6CQGDzyQr-"
      },
      "source": [
        "### `while` loop:\n",
        "- We prefer to use `while` loop when the number of iterations is not predefined and we want to continue looping as long as a certain condition is true."
      ]
    },
    {
      "cell_type": "code",
      "execution_count": 7,
      "metadata": {
        "colab": {
          "base_uri": "https://localhost:8080/"
        },
        "id": "5iUi_XAgzV-a",
        "outputId": "37d20b3e-3785-47d4-cd0f-5c638c55b5ec"
      },
      "outputs": [
        {
          "name": "stdout",
          "output_type": "stream",
          "text": [
            "Enter the number of terms: 10\n",
            "The sum of 10 terms = 55\n"
          ]
        }
      ],
      "source": [
        "# Find the sum of n terms\n",
        "term = int(input(\"Enter the number of terms: \"))\n",
        "\n",
        "sum = 0\n",
        "counter = 1\n",
        "while counter <= term:\n",
        "    sum += counter\n",
        "    counter += 1\n",
        "    \n",
        "print(f\"The sum of {term} terms = {sum}\")"
      ]
    },
    {
      "cell_type": "markdown",
      "metadata": {
        "id": "KwJdFYoMs4aY"
      },
      "source": [
        "## Q2. Write a python program to print the sum and product of the first 10 natural numbers using for and while loop."
      ]
    },
    {
      "cell_type": "markdown",
      "metadata": {
        "id": "yN2_9u3k18os"
      },
      "source": [
        "### Sum of 10 natural numbers using `for` loop"
      ]
    },
    {
      "cell_type": "code",
      "execution_count": 6,
      "metadata": {
        "colab": {
          "base_uri": "https://localhost:8080/"
        },
        "id": "3mfVaBPwtWcX",
        "outputId": "82231cd9-eb43-4b6a-e614-9b3b835a93e4"
      },
      "outputs": [
        {
          "name": "stdout",
          "output_type": "stream",
          "text": [
            "55\n"
          ]
        }
      ],
      "source": [
        "sum = 0\n",
        "\n",
        "for i in range(11):\n",
        "    sum += i\n",
        "\n",
        "print(sum)"
      ]
    },
    {
      "cell_type": "markdown",
      "metadata": {
        "id": "CAsXMB4j2bK4"
      },
      "source": [
        "### Sum of 10 natural numbers using `while` loop"
      ]
    },
    {
      "cell_type": "code",
      "execution_count": 9,
      "metadata": {
        "colab": {
          "base_uri": "https://localhost:8080/"
        },
        "id": "9duxqPsO2ixS",
        "outputId": "d73969e3-d66d-40e6-d882-9a686b3ec325"
      },
      "outputs": [
        {
          "name": "stdout",
          "output_type": "stream",
          "text": [
            "55\n"
          ]
        }
      ],
      "source": [
        "sum = 0\n",
        "ctr = 0\n",
        "\n",
        "while ctr <= 10:\n",
        "    sum += ctr\n",
        "    ctr += 1\n",
        "\n",
        "print(sum)"
      ]
    },
    {
      "cell_type": "markdown",
      "metadata": {
        "id": "BubXWwS9tCqB"
      },
      "source": [
        "## Q3. Create a python program to compute the electricity bill for a household.\n",
        "\n",
        "- The per-unit charges in rupees are as follows: For the first 100 units, the user will be charged Rs. 4.5 per unit, for the next 100 units, the user will be charged Rs. 6 per unit, and for the next 100 units, the user will be charged Rs. 10 per unit, After 300 units and above the user will be charged Rs. 20 per unit.\n",
        "- You are required to take the units of electricity consumed in a month from the user as input.\n",
        "- Your program must pass this test case: when the unit of electricity consumed by the user in a month is 310, the total electricity bill should be 2250."
      ]
    },
    {
      "cell_type": "code",
      "execution_count": 16,
      "metadata": {
        "colab": {
          "base_uri": "https://localhost:8080/"
        },
        "id": "5TxNCkNDs1GN",
        "outputId": "2186ac6b-e151-4635-c2a6-8ab166e81e83"
      },
      "outputs": [
        {
          "name": "stdout",
          "output_type": "stream",
          "text": [
            "Please enter the number of units consumed: 310\n"
          ]
        }
      ],
      "source": [
        "# user input\n",
        "units = float(input(\"Please enter the number of units consumed: \"))"
      ]
    },
    {
      "cell_type": "code",
      "execution_count": 17,
      "metadata": {
        "colab": {
          "base_uri": "https://localhost:8080/"
        },
        "id": "o9GuXv7z4rb3",
        "outputId": "7618d63b-5b6a-41d2-e953-456ab8e1fced"
      },
      "outputs": [
        {
          "name": "stdout",
          "output_type": "stream",
          "text": [
            "The electricity bill for 310.0 units: Rs. 2250.0\n"
          ]
        }
      ],
      "source": [
        "# rules of charges per unit\n",
        "if units >= 1 and units <= 100:\n",
        "    charge = units * 4.5\n",
        "elif units >= 101 and units <= 200:\n",
        "    charge = 100 * 4.5 + (units - 100) * 6\n",
        "elif units >= 201 and units <= 300:\n",
        "    charge = 100 * 4.5 + 100 * 6 + (units - 200) * 10\n",
        "elif units > 300:\n",
        "    charge = 100 * 4.5 + 100 * 6 + 100 * 10 + (units - 300) * 20\n",
        "else:\n",
        "    print(\"Please, enter a valid input!\")\n",
        "\n",
        "# print charge\n",
        "print(f\"The electricity bill for {units} units: Rs. {charge}\")"
      ]
    },
    {
      "cell_type": "markdown",
      "metadata": {
        "id": "egZA4MkftZKJ"
      },
      "source": [
        "## Q4. Create a list of numbers from 1 to 100. Use for loop and while loop to calculate the cube of each number and if the cube of that number is divisible by 4 or 5 then append that number in a list and print that list."
      ]
    },
    {
      "cell_type": "code",
      "execution_count": 4,
      "metadata": {
        "id": "HC-Q11UMtgDc"
      },
      "outputs": [],
      "source": [
        "# list of numbers 1 to 100\n",
        "lst100 = list(range(1, 101))"
      ]
    },
    {
      "cell_type": "code",
      "execution_count": 3,
      "metadata": {
        "id": "06wC7C80EBmR"
      },
      "outputs": [],
      "source": [
        "# create an empty list\n",
        "div_4_5_lst = []"
      ]
    },
    {
      "cell_type": "markdown",
      "metadata": {
        "id": "VVdI22PlDn38"
      },
      "source": [
        "### Using `for` loop"
      ]
    },
    {
      "cell_type": "code",
      "execution_count": 5,
      "metadata": {
        "colab": {
          "base_uri": "https://localhost:8080/"
        },
        "id": "CwHx8OrfBVsE",
        "outputId": "fbefda54-520a-4756-bd4e-9f762081c284"
      },
      "outputs": [
        {
          "name": "stdout",
          "output_type": "stream",
          "text": [
            "[8, 64, 125, 216, 512, 1000, 1728, 2744, 3375, 4096, 5832, 8000, 10648, 13824, 15625, 17576, 21952, 27000, 32768, 39304, 42875, 46656, 54872, 64000, 74088, 85184, 91125, 97336, 110592, 125000, 140608, 157464, 166375, 175616, 195112, 216000, 238328, 262144, 274625, 287496, 314432, 343000, 373248, 405224, 421875, 438976, 474552, 512000, 551368, 592704, 614125, 636056, 681472, 729000, 778688, 830584, 857375, 884736, 941192, 1000000]\n"
          ]
        }
      ],
      "source": [
        "# the logic...\n",
        "for i in lst100:\n",
        "    cubed = i**3\n",
        "    if cubed % 4 == 0 or cubed % 5 == 0:\n",
        "        div_4_5_lst.append(cubed)\n",
        "\n",
        "# print the list\n",
        "print(div_4_5_lst)"
      ]
    },
    {
      "cell_type": "markdown",
      "metadata": {
        "id": "eI2xo2WvEKvn"
      },
      "source": [
        "### Using `while` loop"
      ]
    },
    {
      "cell_type": "code",
      "execution_count": 25,
      "metadata": {
        "colab": {
          "base_uri": "https://localhost:8080/"
        },
        "id": "OLChBv2tEPQg",
        "outputId": "d21207e4-2c8c-41f3-e88b-7979e9a29c52"
      },
      "outputs": [
        {
          "name": "stdout",
          "output_type": "stream",
          "text": [
            "[0, 8, 64, 125, 216, 512, 1000, 1728, 2744, 3375, 4096, 5832, 8000, 10648, 13824, 15625, 17576, 21952, 27000, 32768, 39304, 42875, 46656, 54872, 64000, 74088, 85184, 91125, 97336, 110592, 125000, 140608, 157464, 166375, 175616, 195112, 216000, 238328, 262144, 274625, 287496, 314432, 343000, 373248, 405224, 421875, 438976, 474552, 512000, 551368, 592704, 614125, 636056, 681472, 729000, 778688, 830584, 857375, 884736, 941192, 1000000]\n"
          ]
        }
      ],
      "source": [
        "# the logic...\n",
        "index = 0\n",
        "while index <= len(lst100):\n",
        "    cubed = index**3\n",
        "    if cubed % 4 == 0 or cubed % 5 == 0:\n",
        "        div_4_5_lst.append(cubed)\n",
        "    index += 1\n",
        "\n",
        "# print the list\n",
        "print(div_4_5_lst)"
      ]
    },
    {
      "cell_type": "markdown",
      "metadata": {
        "id": "qMWLp4x5thHI"
      },
      "source": [
        "## Q5. Write a program to filter count vowels in the below-given string.\n",
        "- string = \"I want to become a data scientist\""
      ]
    },
    {
      "cell_type": "code",
      "execution_count": 41,
      "metadata": {
        "id": "XkrzN_lutpm9"
      },
      "outputs": [],
      "source": [
        "string = \"I want to become a data scientist\""
      ]
    },
    {
      "cell_type": "code",
      "execution_count": 44,
      "metadata": {
        "colab": {
          "base_uri": "https://localhost:8080/"
        },
        "id": "4dkaWwwOGLZ-",
        "outputId": "0d8d2db6-01fb-49dc-f67f-5b0919a7760b"
      },
      "outputs": [
        {
          "name": "stdout",
          "output_type": "stream",
          "text": [
            "Number of vowels: 12\n"
          ]
        }
      ],
      "source": [
        "counter = 0\n",
        "for ch in string.lower():\n",
        "    if ch in ['a', 'e', 'i', 'o', 'u']:\n",
        "        counter += 1\n",
        "print(f\"Number of vowels: {counter}\")"
      ]
    },
    {
      "cell_type": "code",
      "execution_count": null,
      "metadata": {
        "id": "kbCZrXT5GyOs"
      },
      "outputs": [],
      "source": []
    }
  ],
  "metadata": {
    "colab": {
      "provenance": []
    },
    "kernelspec": {
      "display_name": "Python 3",
      "language": "python",
      "name": "python3"
    },
    "language_info": {
      "codemirror_mode": {
        "name": "ipython",
        "version": 3
      },
      "file_extension": ".py",
      "mimetype": "text/x-python",
      "name": "python",
      "nbconvert_exporter": "python",
      "pygments_lexer": "ipython3",
      "version": "3.10.4"
    },
    "vscode": {
      "interpreter": {
        "hash": "3ad933181bd8a04b432d3370b9dc3b0662ad032c4dfaa4e4f1596c548f763858"
      }
    }
  },
  "nbformat": 4,
  "nbformat_minor": 0
}
