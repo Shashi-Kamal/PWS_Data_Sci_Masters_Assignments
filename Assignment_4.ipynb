{
  "nbformat": 4,
  "nbformat_minor": 0,
  "metadata": {
    "colab": {
      "provenance": []
    },
    "kernelspec": {
      "name": "python3",
      "display_name": "Python 3"
    },
    "language_info": {
      "name": "python"
    }
  },
  "cells": [
    {
      "cell_type": "markdown",
      "source": [
        "## Q1. Explain Class and Object with respect to Object-Oriented Programming. Give a suitable example."
      ],
      "metadata": {
        "id": "FHR4YWSUML1K"
      }
    },
    {
      "cell_type": "markdown",
      "source": [
        "### Ans:\n",
        "**Class:**  \n",
        "- It's like a *design specification* for creating objects of that class.  \n",
        "- It defines *specific properties* that an object of that class would have.\n",
        "- It's a *logical entity* that describes an *object's type*.  It includes the following:\n",
        "    1. **Attributes:** are *variables* that stores *data* related to the object.\n",
        "    2. **Methods:** are *functions* that defines *actions* the object would perform.\n",
        "\n",
        "**Object:**\n",
        "- It's a *real entity* that represents its class.\n",
        "- It's an *instance* of a class with actual values.\n",
        "- It has its own identity, state and behaviour.\n",
        "\n"
      ],
      "metadata": {
        "id": "WEMN1HHAMylc"
      }
    },
    {
      "cell_type": "code",
      "source": [
        "# define a class Dog\n",
        "class Dog:\n",
        "    pass"
      ],
      "metadata": {
        "id": "1IbkikjEouCW"
      },
      "execution_count": null,
      "outputs": []
    },
    {
      "cell_type": "code",
      "source": [
        "# creating an object\n",
        "tommy = Dog()"
      ],
      "metadata": {
        "id": "-PLedat6o8PE"
      },
      "execution_count": null,
      "outputs": []
    },
    {
      "cell_type": "code",
      "source": [
        "# \"tommy\" is an object of type \"Dog\"\n",
        "print(type(tommy))"
      ],
      "metadata": {
        "colab": {
          "base_uri": "https://localhost:8080/"
        },
        "id": "r1mg8P8LpDOz",
        "outputId": "3fdd8ab5-e4d1-4406-d116-2f84f4f23e3e"
      },
      "execution_count": null,
      "outputs": [
        {
          "output_type": "stream",
          "name": "stdout",
          "text": [
            "<class '__main__.Dog'>\n"
          ]
        }
      ]
    },
    {
      "cell_type": "markdown",
      "source": [
        "## Q2. Name the four pillars of OOPs."
      ],
      "metadata": {
        "id": "AqQ57LdqMX21"
      }
    },
    {
      "cell_type": "markdown",
      "source": [
        "### Ans:\n",
        "The *four* pillars of OOP are:\n",
        "1. Encapsulation\n",
        "2. Inheritance\n",
        "3. Polymorphism\n",
        "4. Data Abstraction\n",
        "\n"
      ],
      "metadata": {
        "id": "toICgQFMpw6d"
      }
    },
    {
      "cell_type": "markdown",
      "source": [
        "## Q3. Explain why the __init__() function is used. Give a suitable example."
      ],
      "metadata": {
        "id": "Uv-BZHLWMfnu"
      }
    },
    {
      "cell_type": "markdown",
      "source": [
        "### Ans:\n",
        "`__init()__` function is used to initialize the attributes of a newly created object of a class with inital data."
      ],
      "metadata": {
        "id": "9UyG-WpRrb0D"
      }
    },
    {
      "cell_type": "code",
      "source": [
        "# define a class \"Dog\"\n",
        "class Dog:\n",
        "    def __init__(self, name):\n",
        "        self.name = name"
      ],
      "metadata": {
        "id": "ggYlt2NJsqJU"
      },
      "execution_count": null,
      "outputs": []
    },
    {
      "cell_type": "code",
      "source": [
        "dog1 = Dog(\"Tommy\")"
      ],
      "metadata": {
        "id": "hpnBbQjNs7TI"
      },
      "execution_count": null,
      "outputs": []
    },
    {
      "cell_type": "code",
      "source": [
        "print(f\"Name of our first dog: {dog1.name}\")"
      ],
      "metadata": {
        "colab": {
          "base_uri": "https://localhost:8080/"
        },
        "id": "6jSt08mftUoM",
        "outputId": "17f29d6d-3a76-448a-d78a-864ea95c47c9"
      },
      "execution_count": null,
      "outputs": [
        {
          "output_type": "stream",
          "name": "stdout",
          "text": [
            "Name of our first dog: Tommy\n"
          ]
        }
      ]
    },
    {
      "cell_type": "markdown",
      "source": [
        "## Q4. Why self is used in OOPs?"
      ],
      "metadata": {
        "id": "cHQ4gGUaMkL3"
      }
    },
    {
      "cell_type": "markdown",
      "source": [
        "### Ans:\n",
        "- The \"self\" is used to refer to a particular object itsef, that is calling an attribute or a method of its class at any point of time."
      ],
      "metadata": {
        "id": "eae_jZdptwfk"
      }
    },
    {
      "cell_type": "code",
      "source": [
        "# define a class\n",
        "class ExampleClass:\n",
        "    # first method\n",
        "    def print_self(self):\n",
        "        print(self)"
      ],
      "metadata": {
        "id": "8rnmE9WT1Eho"
      },
      "execution_count": null,
      "outputs": []
    },
    {
      "cell_type": "code",
      "source": [
        "# creating an object \"obj\"\n",
        "obj = ExampleClass()"
      ],
      "metadata": {
        "id": "fEuaZ2G31j1q"
      },
      "execution_count": null,
      "outputs": []
    },
    {
      "cell_type": "code",
      "source": [
        "# the newly created object\n",
        "print(obj)"
      ],
      "metadata": {
        "colab": {
          "base_uri": "https://localhost:8080/"
        },
        "id": "yVTODfgf1n5u",
        "outputId": "dd4a9260-feb4-4d76-a7a5-85b307ce49c8"
      },
      "execution_count": null,
      "outputs": [
        {
          "output_type": "stream",
          "name": "stdout",
          "text": [
            "<__main__.ExampleClass object at 0x7f7ab7938460>\n"
          ]
        }
      ]
    },
    {
      "cell_type": "code",
      "source": [
        "# so, it's the object itsef\n",
        "obj.print_self()"
      ],
      "metadata": {
        "colab": {
          "base_uri": "https://localhost:8080/"
        },
        "id": "eArEoUta10ZT",
        "outputId": "95dce683-0da4-4dc4-812c-19aac97aeda9"
      },
      "execution_count": null,
      "outputs": [
        {
          "output_type": "stream",
          "name": "stdout",
          "text": [
            "<__main__.ExampleClass object at 0x7f7ab7938460>\n"
          ]
        }
      ]
    },
    {
      "cell_type": "markdown",
      "source": [
        "## Q5. What is inheritance? Give an example for each type of inheritance."
      ],
      "metadata": {
        "id": "wNEE9xdmMpZn"
      }
    },
    {
      "cell_type": "markdown",
      "source": [
        "### Ans:\n",
        "Inheritance is the capability of one class to derive or inherit the properties from another class.\n",
        "\n",
        "Types of inheritance:\n",
        "1. Single inheritance\n",
        "2. Multi-level inheritance\n",
        "3. Hierarchial inheritance\n",
        "4. Multiple inheritance"
      ],
      "metadata": {
        "id": "mI9qeCyY3Jac"
      }
    },
    {
      "cell_type": "markdown",
      "source": [
        "### Single inheritance:\n",
        "- Parent --inherited by--> Child"
      ],
      "metadata": {
        "id": "YP-v15D_8lHz"
      }
    },
    {
      "cell_type": "code",
      "source": [
        "# parent1 class\n",
        "class Box:\n",
        "    def __init__(self, h, w, d):\n",
        "        self.height = h\n",
        "        self.width = w\n",
        "        self.depth = d\n",
        "\n",
        "    def check_shape(self):\n",
        "        if (self.height == self.width == self.depth):\n",
        "            print(\"The box is a Cube.\")\n",
        "        else:\n",
        "            print(\"The box is a Cuboid\")"
      ],
      "metadata": {
        "id": "JH_McIRmM_DT"
      },
      "execution_count": 37,
      "outputs": []
    },
    {
      "cell_type": "code",
      "source": [
        "box = Box(5, 7, 5)"
      ],
      "metadata": {
        "id": "x0KFIAwP9evn"
      },
      "execution_count": 38,
      "outputs": []
    },
    {
      "cell_type": "code",
      "source": [
        "box.check_shape()"
      ],
      "metadata": {
        "colab": {
          "base_uri": "https://localhost:8080/"
        },
        "id": "hYFT6G-x9t4y",
        "outputId": "2f0c8800-47cb-4147-89eb-43cbef67da93"
      },
      "execution_count": 39,
      "outputs": [
        {
          "output_type": "stream",
          "name": "stdout",
          "text": [
            "The box is a Cuboid\n"
          ]
        }
      ]
    },
    {
      "cell_type": "code",
      "source": [
        "# this class is inherits from \"Box\" class\n",
        "class BoxVol(Box):\n",
        "    def calc_volume(self):\n",
        "        self.volume = self.height * self.width * self.depth\n",
        "        print(f\"Volume of the box: {self.volume} cubic cm\")"
      ],
      "metadata": {
        "id": "L4j0z_8eRTUD"
      },
      "execution_count": 62,
      "outputs": []
    },
    {
      "cell_type": "code",
      "source": [
        "box1 = BoxVol(10, 5, 5)"
      ],
      "metadata": {
        "id": "TB_CoYLzogom"
      },
      "execution_count": 64,
      "outputs": []
    },
    {
      "cell_type": "code",
      "source": [
        "box1.calc_volume()"
      ],
      "metadata": {
        "colab": {
          "base_uri": "https://localhost:8080/"
        },
        "id": "IgZWWdBvovJp",
        "outputId": "76d68536-0352-41da-bef7-a43c2e3f8468"
      },
      "execution_count": 65,
      "outputs": [
        {
          "output_type": "stream",
          "name": "stdout",
          "text": [
            "Volume of the box: 250 cubic cm\n"
          ]
        }
      ]
    },
    {
      "cell_type": "markdown",
      "source": [
        "### Multi-level inhereitance:\n",
        "- Parent --*inherited by*--> Child --*inherited by*--> Grand-child"
      ],
      "metadata": {
        "id": "gqzLeOY8JSHV"
      }
    },
    {
      "cell_type": "code",
      "source": [
        "# this class inherits from \"BoxVol\" class which itself is inherited from \"Box\" class\n",
        "class BoxWt(BoxVol):\n",
        "    def __init__(self, h, w, d, dns):\n",
        "        super().__init__(h, w, d)\n",
        "        self.density = dns\n",
        "\n",
        "    def calc_weight(self):\n",
        "        self.weight = self.volume * self.density\n",
        "        print(f\"Weight of the box: {self.weight} g\")"
      ],
      "metadata": {
        "id": "cC-2SpfO-OTD"
      },
      "execution_count": 63,
      "outputs": []
    },
    {
      "cell_type": "code",
      "source": [
        "box3 = BoxWt(10, 5, 5, 20)"
      ],
      "metadata": {
        "id": "-0njR2qDo1yI"
      },
      "execution_count": 66,
      "outputs": []
    },
    {
      "cell_type": "code",
      "source": [
        "box3.calc_volume()"
      ],
      "metadata": {
        "colab": {
          "base_uri": "https://localhost:8080/"
        },
        "id": "4qS_CVr5pCqN",
        "outputId": "c6b0f14e-1709-40ad-ea28-9c47acb90f9f"
      },
      "execution_count": 68,
      "outputs": [
        {
          "output_type": "stream",
          "name": "stdout",
          "text": [
            "Volume of the box: 250 cubic cm\n"
          ]
        }
      ]
    },
    {
      "cell_type": "code",
      "source": [
        "box3.calc_weight()"
      ],
      "metadata": {
        "colab": {
          "base_uri": "https://localhost:8080/"
        },
        "id": "TW6t7sdjpF70",
        "outputId": "a6caa057-b00f-4dd8-d470-91d86a6b38c4"
      },
      "execution_count": 69,
      "outputs": [
        {
          "output_type": "stream",
          "name": "stdout",
          "text": [
            "Weight of the box: 5000 g\n"
          ]
        }
      ]
    },
    {
      "cell_type": "markdown",
      "source": [
        "### Multiple inheritance:\n",
        "- Parent1 + Parent2 --*inherited by*--> Child"
      ],
      "metadata": {
        "id": "Ot206Um4J46T"
      }
    },
    {
      "cell_type": "code",
      "source": [
        "# parent2 class\n",
        "class BoxStyle:\n",
        "    def __init__(self, m, c, es):\n",
        "        self.made = m\n",
        "        self.color = c\n",
        "        self.edge_style = es"
      ],
      "metadata": {
        "id": "3X_Z3xOW5TcD"
      },
      "execution_count": 80,
      "outputs": []
    },
    {
      "cell_type": "code",
      "source": [
        "class BoxDetails(Box, BoxStyle):\n",
        "    def __init__(self, h, w, d, m, c, es):\n",
        "        Box.__init__(self, h, w, d)\n",
        "        BoxStyle.__init__(self, m, c, es)\n",
        "\n",
        "    def show_details(self):\n",
        "        print(f\"Height: {self.height}cm \\nWidth: {self.width}cm \\nDepth: {self.depth}cm \\nMade: {self.made} \\nColor: {self.color} \\nEdge Style: {self.edge_style}\")"
      ],
      "metadata": {
        "id": "QNCPRsJlrfnv"
      },
      "execution_count": 77,
      "outputs": []
    },
    {
      "cell_type": "code",
      "source": [
        "box3 = BoxDetails(10, 10, 9, \"cardboard\", \"brown\", \"sharp\")"
      ],
      "metadata": {
        "id": "xandbq_1su0M"
      },
      "execution_count": 78,
      "outputs": []
    },
    {
      "cell_type": "code",
      "source": [
        "box3.show_details()"
      ],
      "metadata": {
        "colab": {
          "base_uri": "https://localhost:8080/"
        },
        "id": "7tu11DCQ_tq5",
        "outputId": "7c8b9ec5-ac14-4648-e69a-9c46f4a5b826"
      },
      "execution_count": 79,
      "outputs": [
        {
          "output_type": "stream",
          "name": "stdout",
          "text": [
            "Height: 10cm \n",
            "Width: 10cm \n",
            "Depth: 9cm \n",
            "Made: cardboard \n",
            "Color: brown \n",
            "Edge Style: sharp\n"
          ]
        }
      ]
    }
  ]
}
