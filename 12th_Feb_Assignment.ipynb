{
 "cells": [
  {
   "attachments": {},
   "cell_type": "markdown",
   "metadata": {},
   "source": [
    "## Q1. What is an exception in Python? Write the difference between exceptions andnd syntax errors."
   ]
  },
  {
   "attachments": {},
   "cell_type": "markdown",
   "metadata": {},
   "source": [
    "### Ans:\n",
    "**Exception:**\n",
    "- Exceptions refer to the *error events* that occur during the *execution* of a program.\n",
    "- These errors can interrupt the program's normal flow of execution.\n",
    "\n",
    "**Syntax error:**\n",
    "- Syntax errors occur when the program's code *does not follow the rules* of the programming language.\n",
    "- These are usually detected by a *compiler* or *interpreter*, before the execution of a program."
   ]
  },
  {
   "attachments": {},
   "cell_type": "markdown",
   "metadata": {},
   "source": [
    "## Q2. What happens when an exception is not handled?  Explain with an example."
   ]
  },
  {
   "attachments": {},
   "cell_type": "markdown",
   "metadata": {},
   "source": [
    "### Ans:\n",
    "When an exception is not handled,\n",
    "- it can *interrupt* the program's normal flow of execution.\n",
    "- it can cause the program to *terminate* abruptly.\n",
    "- the code after the line that caused an exception *will not be executed*.\n",
    "\n",
    "**Example:**\n",
    "- In the below code, we're assigning a var 'b' to a var 'a', without first defining the var 'b'.  So, it'll raise an exception, called \"NameError\"."
   ]
  },
  {
   "cell_type": "code",
   "execution_count": 2,
   "metadata": {},
   "outputs": [
    {
     "ename": "NameError",
     "evalue": "name 'b' is not defined",
     "output_type": "error",
     "traceback": [
      "\u001b[1;31m---------------------------------------------------------------------------\u001b[0m",
      "\u001b[1;31mNameError\u001b[0m                                 Traceback (most recent call last)",
      "Cell \u001b[1;32mIn[2], line 1\u001b[0m\n\u001b[1;32m----> 1\u001b[0m a \u001b[39m=\u001b[39m b\n\u001b[0;32m      2\u001b[0m \u001b[39mprint\u001b[39m (a)\n",
      "\u001b[1;31mNameError\u001b[0m: name 'b' is not defined"
     ]
    }
   ],
   "source": [
    "a = b\n",
    "print (a)"
   ]
  },
  {
   "attachments": {},
   "cell_type": "markdown",
   "metadata": {},
   "source": [
    "## Q3. Which Python statements are used to catch and handle exceptions?  Explain with an example."
   ]
  },
  {
   "attachments": {},
   "cell_type": "markdown",
   "metadata": {},
   "source": [
    "### Ans:\n",
    "Python statements used to **catch** and **handle** exceptions are:\n",
    "- `try-except`\n",
    "- `try-except-else`\n",
    "- `try-except-else-finally`\n",
    "\n",
    "**Example:**"
   ]
  },
  {
   "cell_type": "code",
   "execution_count": 4,
   "metadata": {},
   "outputs": [
    {
     "name": "stdout",
     "output_type": "stream",
     "text": [
      "Error encountered: division by zero\n",
      "Code ran successfully.\n"
     ]
    }
   ],
   "source": [
    "try:\n",
    "    result = 7 / 0\n",
    "except Exception as e:\n",
    "    print(\"Error encountered:\", e)\n",
    "else:\n",
    "    print(result)\n",
    "finally:\n",
    "    print(\"Code ran successfully.\")"
   ]
  },
  {
   "attachments": {},
   "cell_type": "markdown",
   "metadata": {},
   "source": [
    "## Q4. Explain with an example:\n",
    "- a. `try` and `else`\n",
    "- b. `finally`\n",
    "- c. `raise`"
   ]
  },
  {
   "cell_type": "code",
   "execution_count": 17,
   "metadata": {},
   "outputs": [],
   "source": [
    "def divide(a, b):\n",
    "    if b == 0:\n",
    "        raise ValueError(\"Cannot divide by Zero!\")\n",
    "    return a / b"
   ]
  },
  {
   "cell_type": "code",
   "execution_count": 18,
   "metadata": {},
   "outputs": [
    {
     "name": "stdout",
     "output_type": "stream",
     "text": [
      "Cannot divide by Zero!\n",
      "Program ran successfully.\n"
     ]
    }
   ],
   "source": [
    "try:\n",
    "    result = divide(5, 0)\n",
    "except ValueError as e:\n",
    "    print(e)\n",
    "else:\n",
    "    print(result)\n",
    "finally:\n",
    "    print(\"Program ran successfully.\")"
   ]
  },
  {
   "attachments": {},
   "cell_type": "markdown",
   "metadata": {},
   "source": [
    "## Q5. What are custom exceptions in Python?  Why do we need custom exception?  Explain with an example."
   ]
  },
  {
   "attachments": {},
   "cell_type": "markdown",
   "metadata": {},
   "source": [
    "### Ans:\n",
    "**Custom exceptions:**\n",
    "- In Python, users can define their own *customized exception rules*, other than the available built-in exceptions, based on the specific requirements of their program.\n",
    "\n",
    "**We need custom exception because,**\n",
    "- It allows us to create *our own specific exceptions* that serve our purpose. \n",
    "\n",
    "**Example:**"
   ]
  },
  {
   "cell_type": "code",
   "execution_count": 29,
   "metadata": {},
   "outputs": [],
   "source": [
    "# defining a class that inherits the base class \"Exception\"\n",
    "class MyCustomException(Exception):\n",
    "    pass"
   ]
  },
  {
   "cell_type": "code",
   "execution_count": 20,
   "metadata": {},
   "outputs": [
    {
     "name": "stdout",
     "output_type": "stream",
     "text": [
      "An error occured!\n"
     ]
    }
   ],
   "source": [
    "try:\n",
    "    raise MyCustomException(\"An error occured!\")\n",
    "except MyCustomException as e:\n",
    "    print(e)"
   ]
  },
  {
   "attachments": {},
   "cell_type": "markdown",
   "metadata": {},
   "source": [
    "## Q6. Create a custom exception class.  Use this class to handle an exception."
   ]
  },
  {
   "cell_type": "code",
   "execution_count": 30,
   "metadata": {},
   "outputs": [],
   "source": [
    "# defining a class that inherits the base class \"Exception\"\n",
    "class InvalidAgeException(Exception):\n",
    "    def __init__(self, msg):\n",
    "        self.msg = msg"
   ]
  },
  {
   "cell_type": "code",
   "execution_count": 27,
   "metadata": {},
   "outputs": [],
   "source": [
    "def check_age(age):\n",
    "    if age < 0:\n",
    "        raise InvalidAgeException(\"Age cannot be a negative value!\")"
   ]
  },
  {
   "cell_type": "code",
   "execution_count": 28,
   "metadata": {},
   "outputs": [
    {
     "name": "stdout",
     "output_type": "stream",
     "text": [
      "Age cannot be a negative value!\n"
     ]
    }
   ],
   "source": [
    "try:\n",
    "    age = int(input(\"Enter your age: \"))\n",
    "    check_age(age)\n",
    "except InvalidAgeException as e:\n",
    "    print(e)"
   ]
  },
  {
   "cell_type": "code",
   "execution_count": null,
   "metadata": {},
   "outputs": [],
   "source": []
  }
 ],
 "metadata": {
  "kernelspec": {
   "display_name": "Python 3",
   "language": "python",
   "name": "python3"
  },
  "language_info": {
   "codemirror_mode": {
    "name": "ipython",
    "version": 3
   },
   "file_extension": ".py",
   "mimetype": "text/x-python",
   "name": "python",
   "nbconvert_exporter": "python",
   "pygments_lexer": "ipython3",
   "version": "3.11.2"
  },
  "orig_nbformat": 4
 },
 "nbformat": 4,
 "nbformat_minor": 2
}
